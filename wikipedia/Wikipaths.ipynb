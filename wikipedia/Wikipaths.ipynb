{
    "cells": [
        {
            "cell_type": "code",
            "execution_count": 242,
            "source": [
                "wikipath1= ['Mariana Trench - Wikipedia', 'Mariana Islands - Wikipedia', 'Chamorro language - Wikipedia', 'Austronesian languages - Wikipedia', 'Language family - Wikipedia', 'Language - Wikipedia', 'Communication - Wikipedia', 'Academic discipline - Wikipedia', 'Knowledge - Wikipedia', 'Fact - Wikipedia', 'Experience - Wikipedia', 'Consciousness - Wikipedia', 'Sentience - Wikipedia', 'Emotion - Wikipedia', 'Mental state - Wikipedia', 'Mind - Wikipedia', 'Will (philosophy) - Wikipedia', 'Philosophy - Wikipedia', 'Greek language - Wikipedia', 'Modern Greek - Wikipedia', 'Dialect - Wikipedia', 'Latin - Wikipedia', 'Classical language - Wikipedia', 'Language - Wikipedia', 'Communication - Wikipedia']\r\n",
                "\r\n",
                "wikipath2=['Frida Kahlo - Wikipedia', 'Self-portrait - Wikipedia', 'Renaissance - Wikipedia', 'Help:Pronunciation respelling key - Wikipedia', 'Pronunciation respelling for English - Wikipedia', 'Pronunciation respelling - Wikipedia', 'Nonce word - Wikipedia', 'Lexeme - Wikipedia', 'Lexical semantics - Wikipedia', 'Linguistics - Wikipedia', 'Science - Wikipedia', 'Latin - Wikipedia', 'Classical language - Wikipedia', 'Language - Wikipedia', 'Communication - Wikipedia', 'Academic discipline - Wikipedia', 'Knowledge - Wikipedia', 'Fact - Wikipedia', 'Experience - Wikipedia', 'Consciousness - Wikipedia', 'Sentience - Wikipedia', 'Emotion - Wikipedia', 'Mental state - Wikipedia', 'Mind - Wikipedia', 'Will (philosophy) - Wikipedia']\r\n",
                "\r\n",
                "wikipath3=['Casablanca (film) - Wikipedia', 'Romance film - Wikipedia', 'Television - Wikipedia', 'Telecommunication - Wikipedia', 'Information - Wikipedia', 'Uncertainty - Wikipedia', 'Epistemology - Wikipedia', 'Greek language - Wikipedia', 'Modern Greek - Wikipedia', 'Dialect - Wikipedia', 'Latin - Wikipedia', 'Classical language - Wikipedia', 'Language - Wikipedia', 'Communication - Wikipedia','Academic discipline - Wikipedia', 'Knowledge - Wikipedia', 'Fact - Wikipedia', 'Experience - Wikipedia', 'Consciousness - Wikipedia', 'Sentience - Wikipedia', 'Emotion - Wikipedia', 'Mental state - Wikipedia', 'Mind - Wikipedia', 'Will (philosophy) - Wikipedia', 'Philosophy - Wikipedia']  "
            ],
            "outputs": [],
            "metadata": {}
        },
        {
            "cell_type": "code",
            "execution_count": 243,
            "source": [
                "d = wikipath1 + wikipath2 + wikipath3"
            ],
            "outputs": [],
            "metadata": {}
        },
        {
            "cell_type": "code",
            "execution_count": 249,
            "source": [
                "import re\r\n",
                "\r\n",
                "labels_list=list(dict.fromkeys(d))\r\n",
                "\r\n",
                "def clean_list(arr):\r\n",
                "    cleaned = []\r\n",
                "    for i in arr:\r\n",
                "        a = re.split(r'[-]', i).pop(0)\r\n",
                "        cleaned.append(a)\r\n",
                "    return cleaned\r\n",
                "\r\n",
                "labels =clean_list(labels_list)"
            ],
            "outputs": [],
            "metadata": {}
        },
        {
            "cell_type": "code",
            "execution_count": 104,
            "source": [
                "\r\n",
                "from collections import Counter\r\n",
                "\r\n",
                "values_dict= Counter(d)\r\n",
                "\r\n",
                "print(values_dict)"
            ],
            "outputs": [
                {
                    "output_type": "stream",
                    "name": "stdout",
                    "text": [
                        "Counter({'Language - Wikipedia': 4, 'Communication - Wikipedia': 4, 'Academic discipline - Wikipedia': 3, 'Knowledge - Wikipedia': 3, 'Fact - Wikipedia': 3, 'Experience - Wikipedia': 3, 'Consciousness - Wikipedia': 3, 'Sentience - Wikipedia': 3, 'Emotion - Wikipedia': 3, 'Mental state - Wikipedia': 3, 'Mind - Wikipedia': 3, 'Will (philosophy) - Wikipedia': 3, 'Latin - Wikipedia': 3, 'Classical language - Wikipedia': 3, 'Philosophy - Wikipedia': 2, 'Greek language - Wikipedia': 2, 'Modern Greek - Wikipedia': 2, 'Dialect - Wikipedia': 2, 'Mariana Trench - Wikipedia': 1, 'Mariana Islands - Wikipedia': 1, 'Chamorro language - Wikipedia': 1, 'Austronesian languages - Wikipedia': 1, 'Language family - Wikipedia': 1, 'Frida Kahlo - Wikipedia': 1, 'Self-portrait - Wikipedia': 1, 'Renaissance - Wikipedia': 1, 'Help:Pronunciation respelling key - Wikipedia': 1, 'Pronunciation respelling for English - Wikipedia': 1, 'Pronunciation respelling - Wikipedia': 1, 'Nonce word - Wikipedia': 1, 'Lexeme - Wikipedia': 1, 'Lexical semantics - Wikipedia': 1, 'Linguistics - Wikipedia': 1, 'Science - Wikipedia': 1, 'Casablanca (film) - Wikipedia': 1, 'Romance film - Wikipedia': 1, 'Television - Wikipedia': 1, 'Telecommunication - Wikipedia': 1, 'Information - Wikipedia': 1, 'Uncertainty - Wikipedia': 1, 'Epistemology - Wikipedia': 1})\n"
                    ]
                }
            ],
            "metadata": {}
        },
        {
            "cell_type": "code",
            "execution_count": 105,
            "source": [
                "values= list(values_dict.values())\r\n",
                "\r\n",
                "print(values)"
            ],
            "outputs": [
                {
                    "output_type": "stream",
                    "name": "stdout",
                    "text": [
                        "[1, 1, 1, 1, 1, 4, 4, 3, 3, 3, 3, 3, 3, 3, 3, 3, 3, 2, 2, 2, 2, 3, 3, 1, 1, 1, 1, 1, 1, 1, 1, 1, 1, 1, 1, 1, 1, 1, 1, 1, 1]\n"
                    ]
                }
            ],
            "metadata": {}
        },
        {
            "cell_type": "code",
            "execution_count": 61,
            "source": [
                "index_list=[]\r\n",
                "\r\n",
                "def get_index(arr):\r\n",
                "\r\n",
                "    for i in arr:\r\n",
                "        a = arr.index(i)\r\n",
                "        index_list.append(a)\r\n",
                "    return index_list\r\n",
                "\r\n",
                "get_index(labels_list)\r\n"
            ],
            "outputs": [
                {
                    "output_type": "execute_result",
                    "data": {
                        "text/plain": [
                            "[0,\n",
                            " 1,\n",
                            " 2,\n",
                            " 3,\n",
                            " 4,\n",
                            " 5,\n",
                            " 6,\n",
                            " 7,\n",
                            " 8,\n",
                            " 9,\n",
                            " 10,\n",
                            " 11,\n",
                            " 12,\n",
                            " 13,\n",
                            " 14,\n",
                            " 15,\n",
                            " 16,\n",
                            " 17,\n",
                            " 18,\n",
                            " 19,\n",
                            " 20,\n",
                            " 21,\n",
                            " 22,\n",
                            " 23,\n",
                            " 24,\n",
                            " 25,\n",
                            " 26,\n",
                            " 27,\n",
                            " 28,\n",
                            " 29,\n",
                            " 30,\n",
                            " 31,\n",
                            " 32,\n",
                            " 33,\n",
                            " 34,\n",
                            " 35,\n",
                            " 36,\n",
                            " 37,\n",
                            " 38,\n",
                            " 39,\n",
                            " 40]"
                        ]
                    },
                    "metadata": {},
                    "execution_count": 61
                }
            ],
            "metadata": {}
        },
        {
            "cell_type": "code",
            "execution_count": 110,
            "source": [
                "import pandas as pd\r\n",
                "columns = [\"label\", \"source\"]\r\n",
                "df = pd.DataFrame.from_dict(values_dict, orient='index', columns=['value']).reset_index()\r\n",
                "\r\n",
                "print(df)\r\n"
            ],
            "outputs": [
                {
                    "output_type": "stream",
                    "name": "stdout",
                    "text": [
                        "                                               index  value\n",
                        "0                         Mariana Trench - Wikipedia      1\n",
                        "1                        Mariana Islands - Wikipedia      1\n",
                        "2                      Chamorro language - Wikipedia      1\n",
                        "3                 Austronesian languages - Wikipedia      1\n",
                        "4                        Language family - Wikipedia      1\n",
                        "5                               Language - Wikipedia      4\n",
                        "6                          Communication - Wikipedia      4\n",
                        "7                    Academic discipline - Wikipedia      3\n",
                        "8                              Knowledge - Wikipedia      3\n",
                        "9                                   Fact - Wikipedia      3\n",
                        "10                            Experience - Wikipedia      3\n",
                        "11                         Consciousness - Wikipedia      3\n",
                        "12                             Sentience - Wikipedia      3\n",
                        "13                               Emotion - Wikipedia      3\n",
                        "14                          Mental state - Wikipedia      3\n",
                        "15                                  Mind - Wikipedia      3\n",
                        "16                     Will (philosophy) - Wikipedia      3\n",
                        "17                            Philosophy - Wikipedia      2\n",
                        "18                        Greek language - Wikipedia      2\n",
                        "19                          Modern Greek - Wikipedia      2\n",
                        "20                               Dialect - Wikipedia      2\n",
                        "21                                 Latin - Wikipedia      3\n",
                        "22                    Classical language - Wikipedia      3\n",
                        "23                           Frida Kahlo - Wikipedia      1\n",
                        "24                         Self-portrait - Wikipedia      1\n",
                        "25                           Renaissance - Wikipedia      1\n",
                        "26     Help:Pronunciation respelling key - Wikipedia      1\n",
                        "27  Pronunciation respelling for English - Wikipedia      1\n",
                        "28              Pronunciation respelling - Wikipedia      1\n",
                        "29                            Nonce word - Wikipedia      1\n",
                        "30                                Lexeme - Wikipedia      1\n",
                        "31                     Lexical semantics - Wikipedia      1\n",
                        "32                           Linguistics - Wikipedia      1\n",
                        "33                               Science - Wikipedia      1\n",
                        "34                     Casablanca (film) - Wikipedia      1\n",
                        "35                          Romance film - Wikipedia      1\n",
                        "36                            Television - Wikipedia      1\n",
                        "37                     Telecommunication - Wikipedia      1\n",
                        "38                           Information - Wikipedia      1\n",
                        "39                           Uncertainty - Wikipedia      1\n",
                        "40                          Epistemology - Wikipedia      1\n"
                    ]
                }
            ],
            "metadata": {}
        },
        {
            "cell_type": "code",
            "execution_count": 225,
            "source": [
                "def get_sources(arr):\r\n",
                "    source_list=[]\r\n",
                "    for i in arr:\r\n",
                "        if any(word in i for word in labels_list):\r\n",
                "            a = labels_list.index(i)\r\n",
                "            source_list.append(a)\r\n",
                "            \r\n",
                "\r\n",
                "    return source_list\r\n",
                "\r\n",
                "mariana = get_sources(wikipath1)\r\n",
                "frida =get_sources(wikipath2)\r\n",
                "casablanca = get_sources(wikipath3)\r\n",
                "\r\n",
                "print(mariana, frida, casablanca)\r\n",
                "\r\n"
            ],
            "outputs": [
                {
                    "output_type": "stream",
                    "name": "stdout",
                    "text": [
                        "[0, 1, 2, 3, 4, 5, 6, 7, 8, 9, 10, 11, 12, 13, 14, 15, 16, 17, 18, 19, 20, 21, 22, 5, 6] [23, 24, 25, 26, 27, 28, 29, 30, 31, 32, 33, 21, 22, 5, 6, 7, 8, 9, 10, 11, 12, 13, 14, 15, 16] [34, 35, 36, 37, 38, 39, 40, 18, 19, 20, 21, 22, 5, 6, 7, 8, 9, 10, 11, 12, 13, 14, 15, 16, 17]\n"
                    ]
                }
            ],
            "metadata": {}
        },
        {
            "cell_type": "code",
            "execution_count": 226,
            "source": [
                "def split_target(arr):\r\n",
                "    source=[]\r\n",
                "    target=[]\r\n",
                "    for i in arr:\r\n",
                "        l= arr.index(i)\r\n",
                "        j = int(arr.index(i))+1\r\n",
                "\r\n",
                "\r\n",
                "        l = arr.index(i)\r\n",
                "        if l %2 != 0:\r\n",
                "            target.append(j)\r\n",
                "            source.append(i)\r\n",
                "            \r\n",
                "                 \r\n",
                "           \r\n",
                "        elif l % 2 == 0:\r\n",
                "            source.append(i)\r\n",
                "            target.append(j)\r\n",
                "\r\n",
                "            \r\n",
                "       \r\n",
                "            \r\n",
                "         \r\n",
                "\r\n",
                "           \r\n",
                "    return source, target\r\n",
                "\r\n",
                "a, b = split_target(mariana)\r\n",
                "c, d = split_target(frida)\r\n",
                "e, f = split_target(casablanca)\r\n",
                "\r\n",
                "print(a, b, c,d, e, f )"
            ],
            "outputs": [
                {
                    "output_type": "stream",
                    "name": "stdout",
                    "text": [
                        "[0, 1, 2, 3, 4, 5, 6, 7, 8, 9, 10, 11, 12, 13, 14, 15, 16, 17, 18, 19, 20, 21, 22, 5, 6] [1, 2, 3, 4, 5, 6, 7, 8, 9, 10, 11, 12, 13, 14, 15, 16, 17, 18, 19, 20, 21, 22, 23, 6, 7] [23, 24, 25, 26, 27, 28, 29, 30, 31, 32, 33, 21, 22, 5, 6, 7, 8, 9, 10, 11, 12, 13, 14, 15, 16] [1, 2, 3, 4, 5, 6, 7, 8, 9, 10, 11, 12, 13, 14, 15, 16, 17, 18, 19, 20, 21, 22, 23, 24, 25] [34, 35, 36, 37, 38, 39, 40, 18, 19, 20, 21, 22, 5, 6, 7, 8, 9, 10, 11, 12, 13, 14, 15, 16, 17] [1, 2, 3, 4, 5, 6, 7, 8, 9, 10, 11, 12, 13, 14, 15, 16, 17, 18, 19, 20, 21, 22, 23, 24, 25]\n"
                    ]
                }
            ],
            "metadata": {}
        },
        {
            "cell_type": "code",
            "execution_count": 227,
            "source": [
                "sources= a + c + e\r\n",
                "targets = b + d + f\r\n",
                "\r\n",
                "print(sources)\r\n",
                "print(targets)"
            ],
            "outputs": [
                {
                    "output_type": "stream",
                    "name": "stdout",
                    "text": [
                        "[0, 1, 2, 3, 4, 5, 6, 7, 8, 9, 10, 11, 12, 13, 14, 15, 16, 17, 18, 19, 20, 21, 22, 5, 6, 23, 24, 25, 26, 27, 28, 29, 30, 31, 32, 33, 21, 22, 5, 6, 7, 8, 9, 10, 11, 12, 13, 14, 15, 16, 34, 35, 36, 37, 38, 39, 40, 18, 19, 20, 21, 22, 5, 6, 7, 8, 9, 10, 11, 12, 13, 14, 15, 16, 17]\n",
                        "[1, 2, 3, 4, 5, 6, 7, 8, 9, 10, 11, 12, 13, 14, 15, 16, 17, 18, 19, 20, 21, 22, 23, 6, 7, 1, 2, 3, 4, 5, 6, 7, 8, 9, 10, 11, 12, 13, 14, 15, 16, 17, 18, 19, 20, 21, 22, 23, 24, 25, 1, 2, 3, 4, 5, 6, 7, 8, 9, 10, 11, 12, 13, 14, 15, 16, 17, 18, 19, 20, 21, 22, 23, 24, 25]\n"
                    ]
                }
            ],
            "metadata": {}
        },
        {
            "cell_type": "code",
            "execution_count": 250,
            "source": [
                "import plotly.graph_objects as go\r\n",
                "\r\n",
                "fig = go.Figure(data=[go.Sankey(\r\n",
                "    node = dict(\r\n",
                "      pad = 20,\r\n",
                "      thickness = 20,\r\n",
                "      line = dict(color = \"black\", width = 0.5),\r\n",
                "      label = labels,\r\n",
                "      color = \"blue\"\r\n",
                "    ),\r\n",
                "    link = dict(\r\n",
                "      source =  sources, # indices correspond to labels\r\n",
                "      target = targets,\r\n",
                "      value = values,\r\n",
                "  ))])\r\n",
                "\r\n",
                "fig.update_layout(title_text=\"Wikipedia Paths\", font_size=10)\r\n",
                "fig.show()"
            ],
            "outputs": [
                {
                    "output_type": "display_data",
                    "data": {
                        "application/vnd.plotly.v1+json": {
                            "config": {
                                "plotlyServerURL": "https://plot.ly"
                            },
                            "data": [
                                {
                                    "link": {
                                        "source": [
                                            0,
                                            1,
                                            2,
                                            3,
                                            4,
                                            5,
                                            6,
                                            7,
                                            8,
                                            9,
                                            10,
                                            11,
                                            12,
                                            13,
                                            14,
                                            15,
                                            16,
                                            17,
                                            18,
                                            19,
                                            20,
                                            21,
                                            22,
                                            5,
                                            6
                                        ],
                                        "target": [
                                            1,
                                            2,
                                            3,
                                            4,
                                            5,
                                            6,
                                            7,
                                            8,
                                            9,
                                            10,
                                            11,
                                            12,
                                            13,
                                            14,
                                            15,
                                            16,
                                            17,
                                            18,
                                            19,
                                            20,
                                            21,
                                            22,
                                            23,
                                            6,
                                            7
                                        ],
                                        "value": [
                                            1,
                                            1,
                                            1,
                                            1,
                                            1,
                                            4,
                                            4,
                                            3,
                                            3,
                                            3,
                                            3,
                                            3,
                                            3,
                                            3,
                                            3,
                                            3,
                                            3,
                                            2,
                                            2,
                                            2,
                                            2,
                                            3,
                                            3,
                                            1,
                                            1,
                                            1,
                                            1,
                                            1,
                                            1,
                                            1,
                                            1,
                                            1,
                                            1,
                                            1,
                                            1,
                                            1,
                                            1,
                                            1,
                                            1,
                                            1,
                                            1
                                        ]
                                    },
                                    "node": {
                                        "color": "blue",
                                        "label": [
                                            "Mariana Trench ",
                                            "Mariana Islands ",
                                            "Chamorro language ",
                                            "Austronesian languages ",
                                            "Language family ",
                                            "Language ",
                                            "Communication ",
                                            "Academic discipline ",
                                            "Knowledge ",
                                            "Fact ",
                                            "Experience ",
                                            "Consciousness ",
                                            "Sentience ",
                                            "Emotion ",
                                            "Mental state ",
                                            "Mind ",
                                            "Will (philosophy) ",
                                            "Philosophy ",
                                            "Greek language ",
                                            "Modern Greek ",
                                            "Dialect ",
                                            "Latin ",
                                            "Classical language ",
                                            "Frida Kahlo ",
                                            "Self",
                                            "Renaissance ",
                                            "Help:Pronunciation respelling key ",
                                            "Pronunciation respelling for English ",
                                            "Pronunciation respelling ",
                                            "Nonce word ",
                                            "Lexeme ",
                                            "Lexical semantics ",
                                            "Linguistics ",
                                            "Science ",
                                            "Casablanca (film) ",
                                            "Romance film ",
                                            "Television ",
                                            "Telecommunication ",
                                            "Information ",
                                            "Uncertainty ",
                                            "Epistemology "
                                        ],
                                        "line": {
                                            "color": "black",
                                            "width": 0.5
                                        },
                                        "pad": 20,
                                        "thickness": 20
                                    },
                                    "type": "sankey"
                                }
                            ],
                            "layout": {
                                "font": {
                                    "size": 10
                                },
                                "template": {
                                    "data": {
                                        "bar": [
                                            {
                                                "error_x": {
                                                    "color": "#2a3f5f"
                                                },
                                                "error_y": {
                                                    "color": "#2a3f5f"
                                                },
                                                "marker": {
                                                    "line": {
                                                        "color": "#E5ECF6",
                                                        "width": 0.5
                                                    },
                                                    "pattern": {
                                                        "fillmode": "overlay",
                                                        "size": 10,
                                                        "solidity": 0.2
                                                    }
                                                },
                                                "type": "bar"
                                            }
                                        ],
                                        "barpolar": [
                                            {
                                                "marker": {
                                                    "line": {
                                                        "color": "#E5ECF6",
                                                        "width": 0.5
                                                    },
                                                    "pattern": {
                                                        "fillmode": "overlay",
                                                        "size": 10,
                                                        "solidity": 0.2
                                                    }
                                                },
                                                "type": "barpolar"
                                            }
                                        ],
                                        "carpet": [
                                            {
                                                "aaxis": {
                                                    "endlinecolor": "#2a3f5f",
                                                    "gridcolor": "white",
                                                    "linecolor": "white",
                                                    "minorgridcolor": "white",
                                                    "startlinecolor": "#2a3f5f"
                                                },
                                                "baxis": {
                                                    "endlinecolor": "#2a3f5f",
                                                    "gridcolor": "white",
                                                    "linecolor": "white",
                                                    "minorgridcolor": "white",
                                                    "startlinecolor": "#2a3f5f"
                                                },
                                                "type": "carpet"
                                            }
                                        ],
                                        "choropleth": [
                                            {
                                                "colorbar": {
                                                    "outlinewidth": 0,
                                                    "ticks": ""
                                                },
                                                "type": "choropleth"
                                            }
                                        ],
                                        "contour": [
                                            {
                                                "colorbar": {
                                                    "outlinewidth": 0,
                                                    "ticks": ""
                                                },
                                                "colorscale": [
                                                    [
                                                        0,
                                                        "#0d0887"
                                                    ],
                                                    [
                                                        0.1111111111111111,
                                                        "#46039f"
                                                    ],
                                                    [
                                                        0.2222222222222222,
                                                        "#7201a8"
                                                    ],
                                                    [
                                                        0.3333333333333333,
                                                        "#9c179e"
                                                    ],
                                                    [
                                                        0.4444444444444444,
                                                        "#bd3786"
                                                    ],
                                                    [
                                                        0.5555555555555556,
                                                        "#d8576b"
                                                    ],
                                                    [
                                                        0.6666666666666666,
                                                        "#ed7953"
                                                    ],
                                                    [
                                                        0.7777777777777778,
                                                        "#fb9f3a"
                                                    ],
                                                    [
                                                        0.8888888888888888,
                                                        "#fdca26"
                                                    ],
                                                    [
                                                        1,
                                                        "#f0f921"
                                                    ]
                                                ],
                                                "type": "contour"
                                            }
                                        ],
                                        "contourcarpet": [
                                            {
                                                "colorbar": {
                                                    "outlinewidth": 0,
                                                    "ticks": ""
                                                },
                                                "type": "contourcarpet"
                                            }
                                        ],
                                        "heatmap": [
                                            {
                                                "colorbar": {
                                                    "outlinewidth": 0,
                                                    "ticks": ""
                                                },
                                                "colorscale": [
                                                    [
                                                        0,
                                                        "#0d0887"
                                                    ],
                                                    [
                                                        0.1111111111111111,
                                                        "#46039f"
                                                    ],
                                                    [
                                                        0.2222222222222222,
                                                        "#7201a8"
                                                    ],
                                                    [
                                                        0.3333333333333333,
                                                        "#9c179e"
                                                    ],
                                                    [
                                                        0.4444444444444444,
                                                        "#bd3786"
                                                    ],
                                                    [
                                                        0.5555555555555556,
                                                        "#d8576b"
                                                    ],
                                                    [
                                                        0.6666666666666666,
                                                        "#ed7953"
                                                    ],
                                                    [
                                                        0.7777777777777778,
                                                        "#fb9f3a"
                                                    ],
                                                    [
                                                        0.8888888888888888,
                                                        "#fdca26"
                                                    ],
                                                    [
                                                        1,
                                                        "#f0f921"
                                                    ]
                                                ],
                                                "type": "heatmap"
                                            }
                                        ],
                                        "heatmapgl": [
                                            {
                                                "colorbar": {
                                                    "outlinewidth": 0,
                                                    "ticks": ""
                                                },
                                                "colorscale": [
                                                    [
                                                        0,
                                                        "#0d0887"
                                                    ],
                                                    [
                                                        0.1111111111111111,
                                                        "#46039f"
                                                    ],
                                                    [
                                                        0.2222222222222222,
                                                        "#7201a8"
                                                    ],
                                                    [
                                                        0.3333333333333333,
                                                        "#9c179e"
                                                    ],
                                                    [
                                                        0.4444444444444444,
                                                        "#bd3786"
                                                    ],
                                                    [
                                                        0.5555555555555556,
                                                        "#d8576b"
                                                    ],
                                                    [
                                                        0.6666666666666666,
                                                        "#ed7953"
                                                    ],
                                                    [
                                                        0.7777777777777778,
                                                        "#fb9f3a"
                                                    ],
                                                    [
                                                        0.8888888888888888,
                                                        "#fdca26"
                                                    ],
                                                    [
                                                        1,
                                                        "#f0f921"
                                                    ]
                                                ],
                                                "type": "heatmapgl"
                                            }
                                        ],
                                        "histogram": [
                                            {
                                                "marker": {
                                                    "pattern": {
                                                        "fillmode": "overlay",
                                                        "size": 10,
                                                        "solidity": 0.2
                                                    }
                                                },
                                                "type": "histogram"
                                            }
                                        ],
                                        "histogram2d": [
                                            {
                                                "colorbar": {
                                                    "outlinewidth": 0,
                                                    "ticks": ""
                                                },
                                                "colorscale": [
                                                    [
                                                        0,
                                                        "#0d0887"
                                                    ],
                                                    [
                                                        0.1111111111111111,
                                                        "#46039f"
                                                    ],
                                                    [
                                                        0.2222222222222222,
                                                        "#7201a8"
                                                    ],
                                                    [
                                                        0.3333333333333333,
                                                        "#9c179e"
                                                    ],
                                                    [
                                                        0.4444444444444444,
                                                        "#bd3786"
                                                    ],
                                                    [
                                                        0.5555555555555556,
                                                        "#d8576b"
                                                    ],
                                                    [
                                                        0.6666666666666666,
                                                        "#ed7953"
                                                    ],
                                                    [
                                                        0.7777777777777778,
                                                        "#fb9f3a"
                                                    ],
                                                    [
                                                        0.8888888888888888,
                                                        "#fdca26"
                                                    ],
                                                    [
                                                        1,
                                                        "#f0f921"
                                                    ]
                                                ],
                                                "type": "histogram2d"
                                            }
                                        ],
                                        "histogram2dcontour": [
                                            {
                                                "colorbar": {
                                                    "outlinewidth": 0,
                                                    "ticks": ""
                                                },
                                                "colorscale": [
                                                    [
                                                        0,
                                                        "#0d0887"
                                                    ],
                                                    [
                                                        0.1111111111111111,
                                                        "#46039f"
                                                    ],
                                                    [
                                                        0.2222222222222222,
                                                        "#7201a8"
                                                    ],
                                                    [
                                                        0.3333333333333333,
                                                        "#9c179e"
                                                    ],
                                                    [
                                                        0.4444444444444444,
                                                        "#bd3786"
                                                    ],
                                                    [
                                                        0.5555555555555556,
                                                        "#d8576b"
                                                    ],
                                                    [
                                                        0.6666666666666666,
                                                        "#ed7953"
                                                    ],
                                                    [
                                                        0.7777777777777778,
                                                        "#fb9f3a"
                                                    ],
                                                    [
                                                        0.8888888888888888,
                                                        "#fdca26"
                                                    ],
                                                    [
                                                        1,
                                                        "#f0f921"
                                                    ]
                                                ],
                                                "type": "histogram2dcontour"
                                            }
                                        ],
                                        "mesh3d": [
                                            {
                                                "colorbar": {
                                                    "outlinewidth": 0,
                                                    "ticks": ""
                                                },
                                                "type": "mesh3d"
                                            }
                                        ],
                                        "parcoords": [
                                            {
                                                "line": {
                                                    "colorbar": {
                                                        "outlinewidth": 0,
                                                        "ticks": ""
                                                    }
                                                },
                                                "type": "parcoords"
                                            }
                                        ],
                                        "pie": [
                                            {
                                                "automargin": true,
                                                "type": "pie"
                                            }
                                        ],
                                        "scatter": [
                                            {
                                                "marker": {
                                                    "colorbar": {
                                                        "outlinewidth": 0,
                                                        "ticks": ""
                                                    }
                                                },
                                                "type": "scatter"
                                            }
                                        ],
                                        "scatter3d": [
                                            {
                                                "line": {
                                                    "colorbar": {
                                                        "outlinewidth": 0,
                                                        "ticks": ""
                                                    }
                                                },
                                                "marker": {
                                                    "colorbar": {
                                                        "outlinewidth": 0,
                                                        "ticks": ""
                                                    }
                                                },
                                                "type": "scatter3d"
                                            }
                                        ],
                                        "scattercarpet": [
                                            {
                                                "marker": {
                                                    "colorbar": {
                                                        "outlinewidth": 0,
                                                        "ticks": ""
                                                    }
                                                },
                                                "type": "scattercarpet"
                                            }
                                        ],
                                        "scattergeo": [
                                            {
                                                "marker": {
                                                    "colorbar": {
                                                        "outlinewidth": 0,
                                                        "ticks": ""
                                                    }
                                                },
                                                "type": "scattergeo"
                                            }
                                        ],
                                        "scattergl": [
                                            {
                                                "marker": {
                                                    "colorbar": {
                                                        "outlinewidth": 0,
                                                        "ticks": ""
                                                    }
                                                },
                                                "type": "scattergl"
                                            }
                                        ],
                                        "scattermapbox": [
                                            {
                                                "marker": {
                                                    "colorbar": {
                                                        "outlinewidth": 0,
                                                        "ticks": ""
                                                    }
                                                },
                                                "type": "scattermapbox"
                                            }
                                        ],
                                        "scatterpolar": [
                                            {
                                                "marker": {
                                                    "colorbar": {
                                                        "outlinewidth": 0,
                                                        "ticks": ""
                                                    }
                                                },
                                                "type": "scatterpolar"
                                            }
                                        ],
                                        "scatterpolargl": [
                                            {
                                                "marker": {
                                                    "colorbar": {
                                                        "outlinewidth": 0,
                                                        "ticks": ""
                                                    }
                                                },
                                                "type": "scatterpolargl"
                                            }
                                        ],
                                        "scatterternary": [
                                            {
                                                "marker": {
                                                    "colorbar": {
                                                        "outlinewidth": 0,
                                                        "ticks": ""
                                                    }
                                                },
                                                "type": "scatterternary"
                                            }
                                        ],
                                        "surface": [
                                            {
                                                "colorbar": {
                                                    "outlinewidth": 0,
                                                    "ticks": ""
                                                },
                                                "colorscale": [
                                                    [
                                                        0,
                                                        "#0d0887"
                                                    ],
                                                    [
                                                        0.1111111111111111,
                                                        "#46039f"
                                                    ],
                                                    [
                                                        0.2222222222222222,
                                                        "#7201a8"
                                                    ],
                                                    [
                                                        0.3333333333333333,
                                                        "#9c179e"
                                                    ],
                                                    [
                                                        0.4444444444444444,
                                                        "#bd3786"
                                                    ],
                                                    [
                                                        0.5555555555555556,
                                                        "#d8576b"
                                                    ],
                                                    [
                                                        0.6666666666666666,
                                                        "#ed7953"
                                                    ],
                                                    [
                                                        0.7777777777777778,
                                                        "#fb9f3a"
                                                    ],
                                                    [
                                                        0.8888888888888888,
                                                        "#fdca26"
                                                    ],
                                                    [
                                                        1,
                                                        "#f0f921"
                                                    ]
                                                ],
                                                "type": "surface"
                                            }
                                        ],
                                        "table": [
                                            {
                                                "cells": {
                                                    "fill": {
                                                        "color": "#EBF0F8"
                                                    },
                                                    "line": {
                                                        "color": "white"
                                                    }
                                                },
                                                "header": {
                                                    "fill": {
                                                        "color": "#C8D4E3"
                                                    },
                                                    "line": {
                                                        "color": "white"
                                                    }
                                                },
                                                "type": "table"
                                            }
                                        ]
                                    },
                                    "layout": {
                                        "annotationdefaults": {
                                            "arrowcolor": "#2a3f5f",
                                            "arrowhead": 0,
                                            "arrowwidth": 1
                                        },
                                        "autotypenumbers": "strict",
                                        "coloraxis": {
                                            "colorbar": {
                                                "outlinewidth": 0,
                                                "ticks": ""
                                            }
                                        },
                                        "colorscale": {
                                            "diverging": [
                                                [
                                                    0,
                                                    "#8e0152"
                                                ],
                                                [
                                                    0.1,
                                                    "#c51b7d"
                                                ],
                                                [
                                                    0.2,
                                                    "#de77ae"
                                                ],
                                                [
                                                    0.3,
                                                    "#f1b6da"
                                                ],
                                                [
                                                    0.4,
                                                    "#fde0ef"
                                                ],
                                                [
                                                    0.5,
                                                    "#f7f7f7"
                                                ],
                                                [
                                                    0.6,
                                                    "#e6f5d0"
                                                ],
                                                [
                                                    0.7,
                                                    "#b8e186"
                                                ],
                                                [
                                                    0.8,
                                                    "#7fbc41"
                                                ],
                                                [
                                                    0.9,
                                                    "#4d9221"
                                                ],
                                                [
                                                    1,
                                                    "#276419"
                                                ]
                                            ],
                                            "sequential": [
                                                [
                                                    0,
                                                    "#0d0887"
                                                ],
                                                [
                                                    0.1111111111111111,
                                                    "#46039f"
                                                ],
                                                [
                                                    0.2222222222222222,
                                                    "#7201a8"
                                                ],
                                                [
                                                    0.3333333333333333,
                                                    "#9c179e"
                                                ],
                                                [
                                                    0.4444444444444444,
                                                    "#bd3786"
                                                ],
                                                [
                                                    0.5555555555555556,
                                                    "#d8576b"
                                                ],
                                                [
                                                    0.6666666666666666,
                                                    "#ed7953"
                                                ],
                                                [
                                                    0.7777777777777778,
                                                    "#fb9f3a"
                                                ],
                                                [
                                                    0.8888888888888888,
                                                    "#fdca26"
                                                ],
                                                [
                                                    1,
                                                    "#f0f921"
                                                ]
                                            ],
                                            "sequentialminus": [
                                                [
                                                    0,
                                                    "#0d0887"
                                                ],
                                                [
                                                    0.1111111111111111,
                                                    "#46039f"
                                                ],
                                                [
                                                    0.2222222222222222,
                                                    "#7201a8"
                                                ],
                                                [
                                                    0.3333333333333333,
                                                    "#9c179e"
                                                ],
                                                [
                                                    0.4444444444444444,
                                                    "#bd3786"
                                                ],
                                                [
                                                    0.5555555555555556,
                                                    "#d8576b"
                                                ],
                                                [
                                                    0.6666666666666666,
                                                    "#ed7953"
                                                ],
                                                [
                                                    0.7777777777777778,
                                                    "#fb9f3a"
                                                ],
                                                [
                                                    0.8888888888888888,
                                                    "#fdca26"
                                                ],
                                                [
                                                    1,
                                                    "#f0f921"
                                                ]
                                            ]
                                        },
                                        "colorway": [
                                            "#636efa",
                                            "#EF553B",
                                            "#00cc96",
                                            "#ab63fa",
                                            "#FFA15A",
                                            "#19d3f3",
                                            "#FF6692",
                                            "#B6E880",
                                            "#FF97FF",
                                            "#FECB52"
                                        ],
                                        "font": {
                                            "color": "#2a3f5f"
                                        },
                                        "geo": {
                                            "bgcolor": "white",
                                            "lakecolor": "white",
                                            "landcolor": "#E5ECF6",
                                            "showlakes": true,
                                            "showland": true,
                                            "subunitcolor": "white"
                                        },
                                        "hoverlabel": {
                                            "align": "left"
                                        },
                                        "hovermode": "closest",
                                        "mapbox": {
                                            "style": "light"
                                        },
                                        "paper_bgcolor": "white",
                                        "plot_bgcolor": "#E5ECF6",
                                        "polar": {
                                            "angularaxis": {
                                                "gridcolor": "white",
                                                "linecolor": "white",
                                                "ticks": ""
                                            },
                                            "bgcolor": "#E5ECF6",
                                            "radialaxis": {
                                                "gridcolor": "white",
                                                "linecolor": "white",
                                                "ticks": ""
                                            }
                                        },
                                        "scene": {
                                            "xaxis": {
                                                "backgroundcolor": "#E5ECF6",
                                                "gridcolor": "white",
                                                "gridwidth": 2,
                                                "linecolor": "white",
                                                "showbackground": true,
                                                "ticks": "",
                                                "zerolinecolor": "white"
                                            },
                                            "yaxis": {
                                                "backgroundcolor": "#E5ECF6",
                                                "gridcolor": "white",
                                                "gridwidth": 2,
                                                "linecolor": "white",
                                                "showbackground": true,
                                                "ticks": "",
                                                "zerolinecolor": "white"
                                            },
                                            "zaxis": {
                                                "backgroundcolor": "#E5ECF6",
                                                "gridcolor": "white",
                                                "gridwidth": 2,
                                                "linecolor": "white",
                                                "showbackground": true,
                                                "ticks": "",
                                                "zerolinecolor": "white"
                                            }
                                        },
                                        "shapedefaults": {
                                            "line": {
                                                "color": "#2a3f5f"
                                            }
                                        },
                                        "ternary": {
                                            "aaxis": {
                                                "gridcolor": "white",
                                                "linecolor": "white",
                                                "ticks": ""
                                            },
                                            "baxis": {
                                                "gridcolor": "white",
                                                "linecolor": "white",
                                                "ticks": ""
                                            },
                                            "bgcolor": "#E5ECF6",
                                            "caxis": {
                                                "gridcolor": "white",
                                                "linecolor": "white",
                                                "ticks": ""
                                            }
                                        },
                                        "title": {
                                            "x": 0.05
                                        },
                                        "xaxis": {
                                            "automargin": true,
                                            "gridcolor": "white",
                                            "linecolor": "white",
                                            "ticks": "",
                                            "title": {
                                                "standoff": 15
                                            },
                                            "zerolinecolor": "white",
                                            "zerolinewidth": 2
                                        },
                                        "yaxis": {
                                            "automargin": true,
                                            "gridcolor": "white",
                                            "linecolor": "white",
                                            "ticks": "",
                                            "title": {
                                                "standoff": 15
                                            },
                                            "zerolinecolor": "white",
                                            "zerolinewidth": 2
                                        }
                                    }
                                },
                                "title": {
                                    "text": "Mariana Path"
                                }
                            }
                        }
                    },
                    "metadata": {}
                }
            ],
            "metadata": {}
        }
    ],
    "metadata": {
        "orig_nbformat": 4,
        "language_info": {
            "name": "python",
            "version": "3.9.1",
            "mimetype": "text/x-python",
            "codemirror_mode": {
                "name": "ipython",
                "version": 3
            },
            "pygments_lexer": "ipython3",
            "nbconvert_exporter": "python",
            "file_extension": ".py"
        },
        "kernelspec": {
            "name": "python3",
            "display_name": "Python 3.9.1 64-bit"
        },
        "interpreter": {
            "hash": "63fd5069d213b44bf678585dea6b12cceca9941eaf7f819626cde1f2670de90d"
        }
    },
    "nbformat": 4,
    "nbformat_minor": 2
}