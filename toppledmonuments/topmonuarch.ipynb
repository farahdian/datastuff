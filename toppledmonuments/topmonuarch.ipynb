{
    "cells": [
        {
            "cell_type": "code",
            "execution_count": 3,
            "source": [
                "from bs4 import BeautifulSoup\r\n",
                "import requests\r\n"
            ],
            "outputs": [],
            "metadata": {}
        },
        {
            "cell_type": "code",
            "execution_count": 4,
            "source": [
                "url = \"https://www.toppledmonumentsarchive.org/\"\r\n",
                "r = requests.get(url).text\r\n",
                "soup = BeautifulSoup(r, 'lxml')\r\n",
                "p_list = soup.find_all('p')\r\n",
                "import re\r\n",
                "\r\n",
                "monument_list=[]\r\n",
                "\r\n",
                "def get_monuments(arr):\r\n",
                "    for i in arr: \r\n",
                "        m = i.text\r\n",
                "        s = re.split(r'[,|]', m)\r\n",
                "        monument_list.append(s)\r\n",
                "    return monument_list\r\n",
                "\r\n",
                "get_monuments(p_list)\r\n"
            ],
            "outputs": [
                {
                    "output_type": "execute_result",
                    "data": {
                        "text/plain": [
                            "[['2021.07.17 ',\n",
                            "  ' Statue of Confederate Gen Alfred Mouton',\n",
                            "  ' Lafayette',\n",
                            "  ' Louisiana',\n",
                            "  ' USA'],\n",
                            " ['2021.07.10 ',\n",
                            "  ' Statue of Robert E. Lee',\n",
                            "  ' Charlottesville',\n",
                            "  ' Virginia',\n",
                            "  ' USA'],\n",
                            " ['2021.07.10 ',\n",
                            "  ' Statue of Stonewall Jackson',\n",
                            "  ' Charlottesville',\n",
                            "  ' Virginia',\n",
                            "  ' USA'],\n",
                            " ['2021.07.10 ',\n",
                            "  ' The First View of the Pacific',\n",
                            "  ' Charlottesville',\n",
                            "  ' Virginia',\n",
                            "  ' USA'],\n",
                            " ['2021.07.09 ',\n",
                            "  ' Christ of the Ozarks Statue',\n",
                            "  ' Eureka Springs',\n",
                            "  ' Arkansas',\n",
                            "  ' USA'],\n",
                            " ['2021.07.07 ', ' Statue of Harry Byrd', ' Richmond', ' Virginia', ' USA'],\n",
                            " ['2021.07.07 ',\n",
                            "  ' Confederate Soldier Monument',\n",
                            "  ' Tuskegee',\n",
                            "  ' Alabama',\n",
                            "  ' USA '],\n",
                            " ['2021.06.18 ',\n",
                            "  ' Sir John A. Macdonald Statue',\n",
                            "  ' Kingston',\n",
                            "  ' Ontario',\n",
                            "  ' Canada'],\n",
                            " ['2021.04.13 ',\n",
                            "  ' Sir John A. Macdonald Statue',\n",
                            "  ' Regina',\n",
                            "  ' Saskatchewan',\n",
                            "  ' Canada'],\n",
                            " ['2021.02.06 ',\n",
                            "  ' Confederate Statue of General Joseph E. Johnston',\n",
                            "  ' Dalton',\n",
                            "  ' Georgia USA'],\n",
                            " ['2021.02.04 ',\n",
                            "  ' Gwinnett Historic Courthouse Confederate Monument',\n",
                            "  ' Lawrenceville',\n",
                            "  ' Georgia USA'],\n",
                            " ['2020.12.07 ',\n",
                            "  ' Stonewall Jackson',\n",
                            "  ' Lexington - Virginia Military Institute',\n",
                            "  ' Virginia USA'],\n",
                            " ['2020.10.20 ',\n",
                            "  ' Sterling Price Monument',\n",
                            "  ' Jefferson City',\n",
                            "  ' Missouri USA'],\n",
                            " ['2020.10.20. ', \" The Soldiers' Monument\", ' Santa Fe', ' New Mexico USA'],\n",
                            " ['2020.09.27 ', ' Statue of John Pelham', ' Anniston', ' Alabama USA'],\n",
                            " ['2020.08.29 ',\n",
                            "  ' Sir John A. Macdonald Statue',\n",
                            "  ' Montreal',\n",
                            "  ' Quebec',\n",
                            "  ' Canada'],\n",
                            " ['2020.08.11 ', ' Talbot Boys Monument', ' Easton', ' Maryland USA'],\n",
                            " ['2020.07.27 ',\n",
                            "  ' Henry County Confederate Monument',\n",
                            "  ' McDonough',\n",
                            "  ' Georgia USA'],\n",
                            " ['2020.07.24 ',\n",
                            "  ' Christopher Columbus Chicago',\n",
                            "  ' Grant Park',\n",
                            "  ' Illinois USA'],\n",
                            " ['2020.07.24 ', ' Christopher Columbus', ' Chicago', ' Illinois USA'],\n",
                            " ['2020.07.23 ', ' St. Junipero Serra', ' Ventura', ' California USA'],\n",
                            " ['2020.07.22 ',\n",
                            "  ' Monument to Confederate Troops',\n",
                            "  ' Phoenix',\n",
                            "  ' Arizona USA'],\n",
                            " ['2020.07.10 ',\n",
                            "  ' Charles Didier Dreux Statue',\n",
                            "  ' New Orleans',\n",
                            "  ' Louisiana USA'],\n",
                            " ['2020.07.10 ', ' John McDonogh Statue', ' New Orleans', ' Louisiana USA'],\n",
                            " ['2020.07.08 ',\n",
                            "  ' Memorial to Confederate Soldiers and Sailors',\n",
                            "  ' Richmond',\n",
                            "  ' Virginia USA'],\n",
                            " ['2020.07.07 ', ' Jeb Stuart Monument', ' Richmond', ' Virginia USA'],\n",
                            " ['2020.07.04 ',\n",
                            "  ' Christopher Columbus Statue',\n",
                            "  ' Waterbury City Hall',\n",
                            "  ' Connecticut USA'],\n",
                            " ['2020.07.04 ',\n",
                            "  ' Christopher Columbus Monument',\n",
                            "  ' Baltimore',\n",
                            "  ' Maryland USA'],\n",
                            " ['2020.07.03 ',\n",
                            "  ' Confederate Brigadier General Albert Jenkins',\n",
                            "  ' Hampden Township',\n",
                            "  ' Pennsylvania USA'],\n",
                            " ['2020.07.02 ', ' Matthew Fontaine Maury', ' Richmond', ' Virginia USA'],\n",
                            " ['2020.07.01 ', ' Stonewall Jackson', ' Richmond', ' Virginia USA'],\n",
                            " ['2020.06.30 ',\n",
                            "  ' Nash County Confederate Monument',\n",
                            "  ' Rocky Mount',\n",
                            "  ' North Carolina USA'],\n",
                            " ['2020.06.30 ',\n",
                            "  ' Rockdale County Confederate Monument',\n",
                            "  ' Conyers',\n",
                            "  ' Georgia USA'],\n",
                            " ['2020.06.25 ',\n",
                            "  ' Denton Confederate Soldier Monument',\n",
                            "  ' Denton',\n",
                            "  ' Texas USA'],\n",
                            " ['2020.06.22 ', ' Andrew Jackson', ' Jacksonville', ' Florida USA'],\n",
                            " ['2020.06.20 ', ' St. Junipero Serra', ' Los Angeles', ' California USA'],\n",
                            " ['2020.06.20 ',\n",
                            "  ' Women of the Confederacy Monument',\n",
                            "  ' Raleigh',\n",
                            "  ' North Carolina'],\n",
                            " ['2020.06.20 ',\n",
                            "  ' The Henry Lawson Wyatt Monument',\n",
                            "  ' Raleigh',\n",
                            "  ' North Carolina USA'],\n",
                            " ['2020.06.19 ', ' Albert Pike Statue', ' Washington', ' DC USA'],\n",
                            " ['2020.06.19 ',\n",
                            "  ' Memorial to Confederate Soldiers and Sailors',\n",
                            "  ' Raleigh',\n",
                            "  ' North Carolina USA'],\n",
                            " ['2020.06.19 ', ' St. Junipero Serra', ' San Francisco', ' California USA'],\n",
                            " ['2020.06.19 ', ' Ulysses S. Grant', ' San Francisco', ' California  USA'],\n",
                            " ['2020.06.19 ', ' Francis Scott Key', ' San Francisco', ' California USA'],\n",
                            " ['2020.06.18 ',\n",
                            "  ' Christopher Columbus Monument',\n",
                            "  ' San Francisco',\n",
                            "  ' California USA'],\n",
                            " ['2020.06.18 ', ' George Washington', ' Portland', ' Oregon USA'],\n",
                            " ['2020.06.18 ', ' Dekalb Confederate Monument', ' Atlanta', ' Georgia USA'],\n",
                            " ['2020.06.18 ',\n",
                            "  ' Don Diego de Vargas Statue',\n",
                            "  ' Santa Fe',\n",
                            "  ' New Mexico USA'],\n",
                            " ['2020.06.17 ', ' Statue of Richard W. Dowling', ' Houston', ' Texas USA'],\n",
                            " ['2020.06.17 ', ' Spirit of the Confederacy', ' Houston', ' Texas USA'],\n",
                            " ['2020.06.17 ', ' Christopher Columbus', ' St. Louis', ' Missouri USA'],\n",
                            " ['2020.06.16 ', \" Howitzer's Monument\", ' Richmond', ' Virginia USA'],\n",
                            " ['2020.06.16 ', ' Juan de Onate Monument', ' Albuquerque', ' New Mexico USA'],\n",
                            " ['2020.06.15 ', ' Juan de Onate', ' Alcalde', ' New Mexico USA'],\n",
                            " ['2020.06.13 ', ' Jefferson Davis Status', ' Louisville', ' Kentucky USA'],\n",
                            " ['2020.06.13 ',\n",
                            "  ' Marker dedicated to Confederate Soldiers and their Descendants',\n",
                            "  ' Fort Worth',\n",
                            "  ' Texas USA'],\n",
                            " ['2020.06.13 ', ' Statue of Jefferson Davis', ' Frankfort', ' Kentucky USA'],\n",
                            " ['2020.06.13 ', ' Bust of John McDonogh', ' New Orleans', ' Louisiana USA'],\n",
                            " ['2020.06.13 ', ' The Pioneer', ' Eugene', ' Oregon USA'],\n",
                            " ['2020.06.13 ', ' Pioneer Mother', ' Eugene', ' Oregon USA'],\n",
                            " ['2020.06.11 ', ' Christopher Columbus Statue', ' Camden', ' New Jersey USA'],\n",
                            " ['2020.06.10 ',\n",
                            "  ' \"The Grandstand\" Confederate Memorial Services',\n",
                            "  ' Jacksonville',\n",
                            "  ' Florida USA'],\n",
                            " ['2020.06.10 ', ' Jefferson Davis Monument Richmond', ' Virginia USA'],\n",
                            " ['2020.06.10 ',\n",
                            "  ' Statue of Christopher Columbus',\n",
                            "  ' Minneapolis',\n",
                            "  ' Minnesota USA'],\n",
                            " ['2020.06.10 ',\n",
                            "  ' Christopher Columbus Monument',\n",
                            "  ' Boston',\n",
                            "  ' Massachusetts USA'],\n",
                            " ['2020.06.10 ',\n",
                            "  ' Confederate Soldier Memorial',\n",
                            "  ' Huntsville',\n",
                            "  ' Alabama USA'],\n",
                            " ['2020.06.10 ', ' Confederate Monument', ' Portsmouth', ' Virginia USA'],\n",
                            " ['2020.06.10 ',\n",
                            "  ' Confederate Soldiers Burial Plot Sculpture',\n",
                            "  ' Jacksonville',\n",
                            "  ' Florida USA'],\n",
                            " ['2020.06.09 ',\n",
                            "  ' Confederate Soldiers Memorial',\n",
                            "  ' Jacksonville',\n",
                            "  ' Florida USA'],\n",
                            " ['2020.06.09 ',\n",
                            "  ' Statue of Christopher Columbus',\n",
                            "  ' Richmond',\n",
                            "  ' Virginia USA'],\n",
                            " ['2020.06.09 ', ' Statue of Sam Davis', ' Nashville', ' Tennessee USA'],\n",
                            " ['2020.06.08 ',\n",
                            "  ' John B. Castleman Monument',\n",
                            "  ' Louisville',\n",
                            "  ' Kentucky USA'],\n",
                            " ['2020.06.08 ',\n",
                            "  ' Confederate Soldiers and Sailors Monument',\n",
                            "  ' Indianapolis',\n",
                            "  ' Indiana USA'],\n",
                            " ['2020.06.06 ', ' Gloria Victis', ' Salisbury', ' North Carolina USA'],\n",
                            " ['2020.06.06 ',\n",
                            "  ' Confederate Gen. Williams Carter Wickham',\n",
                            "  ' Richmond',\n",
                            "  ' Virginia USA'],\n",
                            " ['2020.06.05 ', ' Statue of Raphael Semmes', ' Mobile', ' Alabama USA'],\n",
                            " ['2020.06.05 ', ' Women of Southland', ' Jacksonville', ' Florida USA'],\n",
                            " ['2020.06.03 ',\n",
                            "  ' Statue of Frank Rizzo',\n",
                            "  ' Philadelphia',\n",
                            "  ' Pennsylvania USA'],\n",
                            " ['2020.06.02 ', ' Athens Confederate Monument', ' Athens', ' Georgia USA'],\n",
                            " ['2020.06.01 ',\n",
                            "  ' Statue of Robert E. Lee at Robert E. Lee High School',\n",
                            "  ' Montgomery',\n",
                            "  ' Alabama USA'],\n",
                            " ['2020.06.01 ',\n",
                            "  ' Bentonville Confederate Monument',\n",
                            "  ' Bentonville',\n",
                            "  ' Arkansas USA'],\n",
                            " ['2020.06.01 ', ' Bust of Robert E. Lee', ' Fort Myers', ' Florida USA'],\n",
                            " ['2020.06.01 ',\n",
                            "  ' Confederate Soldiers & Sailors Monument',\n",
                            "  ' Birmingham',\n",
                            "  ' Alabama USA'],\n",
                            " ['2020.05.30 ', ' Charles Linn Monument', ' Birmingham', ' Alabama USA'],\n",
                            " ['2020.05.30 ', ' Statue of Edward Carmack', ' Nashville', ' Tennessee USA'],\n",
                            " ['2019.04.19 ', ' Kate Smith Statue', ' Philadelphia', ' Pennsylvania USA'],\n",
                            " ['2018.10.01 ',\n",
                            "  ' Thorfinn Karlsefni Statue',\n",
                            "  ' Philadelphia',\n",
                            "  ' Pennsylvania USA'],\n",
                            " ['2017.09.14 ', ' Robert E. Lee Monument', ' Dallas', ' Texas USA'],\n",
                            " ['2017.08.25 ', ' Confederate monument', ' Kansas City', ' Missouri USA'],\n",
                            " ['2017.08.16 ', ' Jackson and Lee Monument', ' Baltimore', ' Maryland USA'],\n",
                            " ['2017.08.16 ', ' Roger B. Taney Sculpture', ' Baltimore', ' Maryland USA'],\n",
                            " ['2017.08.16 ',\n",
                            "  ' Confederate Soldiers and Sailors Monument',\n",
                            "  ' Baltimore',\n",
                            "  ' Maryland USA'],\n",
                            " ['2017.08.16 ',\n",
                            "  \" Confederate Women's Monument\",\n",
                            "  ' Baltimore',\n",
                            "  ' Maryland USA'],\n",
                            " ['2017.08.14',\n",
                            "  ' Confederate Soldiers Monument',\n",
                            "  ' Durham',\n",
                            "  ' North Carolina USA'],\n",
                            " ['2017.06.26 ', ' Confederate War Memorial', ' St. Louis', ' Missouri USA']]"
                        ]
                    },
                    "metadata": {},
                    "execution_count": 4
                }
            ],
            "metadata": {}
        },
        {
            "cell_type": "code",
            "execution_count": 5,
            "source": [
                "import csv\r\n",
                "\r\n",
                "header=['date','monument','city/town', 'state0','country']\r\n",
                "\r\n",
                "with open('data.csv', 'w', encoding='UTF8', newline='') as f:\r\n",
                "    writer = csv.writer(f)\r\n",
                "\r\n",
                "    # write the header\r\n",
                "    writer.writerow(header)\r\n",
                "\r\n",
                "    # write multiple rows\r\n",
                "    writer.writerows(monument_list)"
            ],
            "outputs": [],
            "metadata": {}
        },
        {
            "cell_type": "code",
            "execution_count": 6,
            "source": [
                "import pandas as pd\r\n",
                "df= pd.read_csv('data.csv', skiprows=[62])\r\n",
                "df.head()"
            ],
            "outputs": [
                {
                    "output_type": "execute_result",
                    "data": {
                        "text/plain": [
                            "          date                                  monument         city/town  \\\n",
                            "0  2021.07.17    Statue of Confederate Gen Alfred Mouton         Lafayette   \n",
                            "1  2021.07.10                    Statue of Robert E. Lee   Charlottesville   \n",
                            "2  2021.07.10                Statue of Stonewall Jackson   Charlottesville   \n",
                            "3  2021.07.10              The First View of the Pacific   Charlottesville   \n",
                            "4  2021.07.09                Christ of the Ozarks Statue    Eureka Springs   \n",
                            "\n",
                            "       state0 country  \n",
                            "0   Louisiana     USA  \n",
                            "1    Virginia     USA  \n",
                            "2    Virginia     USA  \n",
                            "3    Virginia     USA  \n",
                            "4    Arkansas     USA  "
                        ],
                        "text/html": [
                            "<div>\n",
                            "<style scoped>\n",
                            "    .dataframe tbody tr th:only-of-type {\n",
                            "        vertical-align: middle;\n",
                            "    }\n",
                            "\n",
                            "    .dataframe tbody tr th {\n",
                            "        vertical-align: top;\n",
                            "    }\n",
                            "\n",
                            "    .dataframe thead th {\n",
                            "        text-align: right;\n",
                            "    }\n",
                            "</style>\n",
                            "<table border=\"1\" class=\"dataframe\">\n",
                            "  <thead>\n",
                            "    <tr style=\"text-align: right;\">\n",
                            "      <th></th>\n",
                            "      <th>date</th>\n",
                            "      <th>monument</th>\n",
                            "      <th>city/town</th>\n",
                            "      <th>state0</th>\n",
                            "      <th>country</th>\n",
                            "    </tr>\n",
                            "  </thead>\n",
                            "  <tbody>\n",
                            "    <tr>\n",
                            "      <th>0</th>\n",
                            "      <td>2021.07.17</td>\n",
                            "      <td>Statue of Confederate Gen Alfred Mouton</td>\n",
                            "      <td>Lafayette</td>\n",
                            "      <td>Louisiana</td>\n",
                            "      <td>USA</td>\n",
                            "    </tr>\n",
                            "    <tr>\n",
                            "      <th>1</th>\n",
                            "      <td>2021.07.10</td>\n",
                            "      <td>Statue of Robert E. Lee</td>\n",
                            "      <td>Charlottesville</td>\n",
                            "      <td>Virginia</td>\n",
                            "      <td>USA</td>\n",
                            "    </tr>\n",
                            "    <tr>\n",
                            "      <th>2</th>\n",
                            "      <td>2021.07.10</td>\n",
                            "      <td>Statue of Stonewall Jackson</td>\n",
                            "      <td>Charlottesville</td>\n",
                            "      <td>Virginia</td>\n",
                            "      <td>USA</td>\n",
                            "    </tr>\n",
                            "    <tr>\n",
                            "      <th>3</th>\n",
                            "      <td>2021.07.10</td>\n",
                            "      <td>The First View of the Pacific</td>\n",
                            "      <td>Charlottesville</td>\n",
                            "      <td>Virginia</td>\n",
                            "      <td>USA</td>\n",
                            "    </tr>\n",
                            "    <tr>\n",
                            "      <th>4</th>\n",
                            "      <td>2021.07.09</td>\n",
                            "      <td>Christ of the Ozarks Statue</td>\n",
                            "      <td>Eureka Springs</td>\n",
                            "      <td>Arkansas</td>\n",
                            "      <td>USA</td>\n",
                            "    </tr>\n",
                            "  </tbody>\n",
                            "</table>\n",
                            "</div>"
                        ]
                    },
                    "metadata": {},
                    "execution_count": 6
                }
            ],
            "metadata": {}
        },
        {
            "cell_type": "code",
            "execution_count": 18,
            "source": [
                "x = df.state0\r\n",
                "new_state_list=[]\r\n",
                "\r\n",
                "\r\n",
                "\r\n",
                "def clean_state(a):\r\n",
                "    for i in a:\r\n",
                "        n = re.split(r'[\\s]', i)\r\n",
                "        if \"USA\" in n:\r\n",
                "            n.remove(\"USA\")\r\n",
                "            joined = \"\".join(n)\r\n",
                "            sep = re.sub(\"([A-Z])\", \" \\\\1\", joined).strip()\r\n",
                "            new_state_list.append(sep)\r\n",
                "        else:\r\n",
                "            new_state_list.append(i.strip())\r\n",
                "\r\n",
                "    return new_state_list\r\n",
                "\r\n",
                "clean_state(x)\r\n",
                "\r\n",
                "print(new_state_list)\r\n",
                "sc_df= pd.DataFrame({\"state\":new_state_list})\r\n",
                "print(sc_df)\r\n",
                "\r\n"
            ],
            "outputs": [
                {
                    "output_type": "stream",
                    "name": "stdout",
                    "text": [
                        "['Louisiana', 'Virginia', 'Virginia', 'Virginia', 'Arkansas', 'Virginia', 'Alabama', 'Ontario', 'Saskatchewan', 'Georgia', 'Georgia', 'Virginia', 'Missouri', 'New Mexico', 'Alabama', 'Quebec', 'Maryland', 'Georgia', 'Illinois', 'Illinois', 'California', 'Arizona', 'Louisiana', 'Louisiana', 'Virginia', 'Virginia', 'Connecticut', 'Maryland', 'Pennsylvania', 'Virginia', 'Virginia', 'North Carolina', 'Georgia', 'Texas', 'Florida', 'California', 'North Carolina', 'North Carolina', 'D C', 'North Carolina', 'California', 'California', 'California', 'California', 'Oregon', 'Georgia', 'New Mexico', 'Texas', 'Texas', 'Missouri', 'Virginia', 'New Mexico', 'New Mexico', 'Kentucky', 'Texas', 'Kentucky', 'Louisiana', 'Oregon', 'Oregon', 'New Jersey', 'Florida', 'Minnesota', 'Massachusetts', 'Alabama', 'Virginia', 'Florida', 'Florida', 'Virginia', 'Tennessee', 'Kentucky', 'Indiana', 'North Carolina', 'Virginia', 'Alabama', 'Florida', 'Pennsylvania', 'Georgia', 'Alabama', 'Arkansas', 'Florida', 'Alabama', 'Alabama', 'Tennessee', 'Pennsylvania', 'Pennsylvania', 'Texas', 'Missouri', 'Maryland', 'Maryland', 'Maryland', 'Maryland', 'North Carolina', 'Missouri']\n",
                        "             state\n",
                        "0        Louisiana\n",
                        "1         Virginia\n",
                        "2         Virginia\n",
                        "3         Virginia\n",
                        "4         Arkansas\n",
                        "..             ...\n",
                        "88        Maryland\n",
                        "89        Maryland\n",
                        "90        Maryland\n",
                        "91  North Carolina\n",
                        "92        Missouri\n",
                        "\n",
                        "[93 rows x 1 columns]\n"
                    ]
                }
            ],
            "metadata": {}
        },
        {
            "cell_type": "code",
            "execution_count": 19,
            "source": [
                "updated_df = pd.concat([df, sc_df], axis=1)\r\n",
                "\r\n",
                "print(updated_df)\r\n",
                "\r\n"
            ],
            "outputs": [
                {
                    "output_type": "stream",
                    "name": "stdout",
                    "text": [
                        "           date                                    monument         city/town  \\\n",
                        "0   2021.07.17      Statue of Confederate Gen Alfred Mouton         Lafayette   \n",
                        "1   2021.07.10                      Statue of Robert E. Lee   Charlottesville   \n",
                        "2   2021.07.10                  Statue of Stonewall Jackson   Charlottesville   \n",
                        "3   2021.07.10                The First View of the Pacific   Charlottesville   \n",
                        "4   2021.07.09                  Christ of the Ozarks Statue    Eureka Springs   \n",
                        "..          ...                                         ...               ...   \n",
                        "88  2017.08.16                     Roger B. Taney Sculpture         Baltimore   \n",
                        "89  2017.08.16    Confederate Soldiers and Sailors Monument         Baltimore   \n",
                        "90  2017.08.16                 Confederate Women's Monument         Baltimore   \n",
                        "91   2017.08.14               Confederate Soldiers Monument            Durham   \n",
                        "92  2017.06.26                     Confederate War Memorial         St. Louis   \n",
                        "\n",
                        "                 state0 country           state  \n",
                        "0             Louisiana     USA       Louisiana  \n",
                        "1              Virginia     USA        Virginia  \n",
                        "2              Virginia     USA        Virginia  \n",
                        "3              Virginia     USA        Virginia  \n",
                        "4              Arkansas     USA        Arkansas  \n",
                        "..                  ...     ...             ...  \n",
                        "88         Maryland USA     NaN        Maryland  \n",
                        "89         Maryland USA     NaN        Maryland  \n",
                        "90         Maryland USA     NaN        Maryland  \n",
                        "91   North Carolina USA     NaN  North Carolina  \n",
                        "92         Missouri USA     NaN        Missouri  \n",
                        "\n",
                        "[93 rows x 6 columns]\n"
                    ]
                }
            ],
            "metadata": {}
        },
        {
            "cell_type": "code",
            "execution_count": 36,
            "source": [
                "new_country_list=[]\r\n",
                "canadian_states=['Ontario', 'Saskatchewan', 'Quebec']\r\n",
                "\r\n",
                "def new_countries(a):\r\n",
                "    for i in a:\r\n",
                "        if any(word in i for word in canadian_states):\r\n",
                "            new_country_list.append(\"Canada\")\r\n",
                "        else:\r\n",
                "            new_country_list.append(\"USA\")\r\n",
                "    return new_country_list\r\n",
                "\r\n",
                "new_countries(new_state_list)\r\n",
                "\r\n",
                "print(new_country_list)\r\n",
                "\r\n",
                "na_df = pd.DataFrame({\"nation\":new_country_list})\r\n",
                "\r\n",
                "complete_df =pd.concat([updated_df, na_df], axis=1)\r\n",
                "\r\n",
                "print(complete_df)"
            ],
            "outputs": [
                {
                    "output_type": "stream",
                    "name": "stdout",
                    "text": [
                        "['USA', 'USA', 'USA', 'USA', 'USA', 'USA', 'USA', 'Canada', 'Canada', 'USA', 'USA', 'USA', 'USA', 'USA', 'USA', 'Canada', 'USA', 'USA', 'USA', 'USA', 'USA', 'USA', 'USA', 'USA', 'USA', 'USA', 'USA', 'USA', 'USA', 'USA', 'USA', 'USA', 'USA', 'USA', 'USA', 'USA', 'USA', 'USA', 'USA', 'USA', 'USA', 'USA', 'USA', 'USA', 'USA', 'USA', 'USA', 'USA', 'USA', 'USA', 'USA', 'USA', 'USA', 'USA', 'USA', 'USA', 'USA', 'USA', 'USA', 'USA', 'USA', 'USA', 'USA', 'USA', 'USA', 'USA', 'USA', 'USA', 'USA', 'USA', 'USA', 'USA', 'USA', 'USA', 'USA', 'USA', 'USA', 'USA', 'USA', 'USA', 'USA', 'USA', 'USA', 'USA', 'USA', 'USA', 'USA', 'USA', 'USA', 'USA', 'USA', 'USA', 'USA']\n",
                        "           date                                    monument         city/town  \\\n",
                        "0   2021.07.17      Statue of Confederate Gen Alfred Mouton         Lafayette   \n",
                        "1   2021.07.10                      Statue of Robert E. Lee   Charlottesville   \n",
                        "2   2021.07.10                  Statue of Stonewall Jackson   Charlottesville   \n",
                        "3   2021.07.10                The First View of the Pacific   Charlottesville   \n",
                        "4   2021.07.09                  Christ of the Ozarks Statue    Eureka Springs   \n",
                        "..          ...                                         ...               ...   \n",
                        "88  2017.08.16                     Roger B. Taney Sculpture         Baltimore   \n",
                        "89  2017.08.16    Confederate Soldiers and Sailors Monument         Baltimore   \n",
                        "90  2017.08.16                 Confederate Women's Monument         Baltimore   \n",
                        "91   2017.08.14               Confederate Soldiers Monument            Durham   \n",
                        "92  2017.06.26                     Confederate War Memorial         St. Louis   \n",
                        "\n",
                        "                 state0 country           state nation  \n",
                        "0             Louisiana     USA       Louisiana    USA  \n",
                        "1              Virginia     USA        Virginia    USA  \n",
                        "2              Virginia     USA        Virginia    USA  \n",
                        "3              Virginia     USA        Virginia    USA  \n",
                        "4              Arkansas     USA        Arkansas    USA  \n",
                        "..                  ...     ...             ...    ...  \n",
                        "88         Maryland USA     NaN        Maryland    USA  \n",
                        "89         Maryland USA     NaN        Maryland    USA  \n",
                        "90         Maryland USA     NaN        Maryland    USA  \n",
                        "91   North Carolina USA     NaN  North Carolina    USA  \n",
                        "92         Missouri USA     NaN        Missouri    USA  \n",
                        "\n",
                        "[93 rows x 7 columns]\n"
                    ]
                }
            ],
            "metadata": {}
        },
        {
            "cell_type": "code",
            "execution_count": 40,
            "source": [
                "import plotly.express as px\r\n",
                "px.sunburst(complete_df, path=['state', 'city/town', 'monument'], width=1200, height=1200)"
            ],
            "outputs": [
                {
                    "output_type": "display_data",
                    "data": {
                        "application/vnd.plotly.v1+json": {
                            "config": {
                                "plotlyServerURL": "https://plot.ly"
                            },
                            "data": [
                                {
                                    "branchvalues": "total",
                                    "domain": {
                                        "x": [
                                            0,
                                            1
                                        ],
                                        "y": [
                                            0,
                                            1
                                        ]
                                    },
                                    "hovertemplate": "labels=%{label}<br>count=%{value}<br>parent=%{parent}<br>id=%{id}<extra></extra>",
                                    "ids": [
                                        "Florida/ Jacksonville/ \"The Grandstand\" Confederate Memorial Services",
                                        "D C/ Washington/ Albert Pike Statue",
                                        "Florida/ Jacksonville/ Andrew Jackson",
                                        "Georgia/ Athens/ Athens Confederate Monument",
                                        "Arkansas/ Bentonville/ Bentonville Confederate Monument",
                                        "Louisiana/ New Orleans/ Bust of John McDonogh",
                                        "Florida/ Fort Myers/ Bust of Robert E. Lee",
                                        "Louisiana/ New Orleans/ Charles Didier Dreux Statue",
                                        "Alabama/ Birmingham/ Charles Linn Monument",
                                        "Arkansas/ Eureka Springs/ Christ of the Ozarks Statue",
                                        "Illinois/ Chicago/ Christopher Columbus",
                                        "Missouri/ St. Louis/ Christopher Columbus",
                                        "Illinois/ Grant Park/ Christopher Columbus Chicago",
                                        "Maryland/ Baltimore/ Christopher Columbus Monument",
                                        "Massachusetts/ Boston/ Christopher Columbus Monument",
                                        "California/ San Francisco/ Christopher Columbus Monument",
                                        "New Jersey/ Camden/ Christopher Columbus Statue",
                                        "Connecticut/ Waterbury City Hall/ Christopher Columbus Statue",
                                        "Pennsylvania/ Hampden Township/ Confederate Brigadier General Albert Jenkins",
                                        "Virginia/ Richmond/ Confederate Gen. Williams Carter Wickham",
                                        "Virginia/ Portsmouth/ Confederate Monument",
                                        "Alabama/ Huntsville/ Confederate Soldier Memorial",
                                        "Alabama/ Tuskegee/ Confederate Soldier Monument",
                                        "Alabama/ Birmingham/ Confederate Soldiers & Sailors Monument",
                                        "Florida/ Jacksonville/ Confederate Soldiers Burial Plot Sculpture",
                                        "Florida/ Jacksonville/ Confederate Soldiers Memorial",
                                        "North Carolina/ Durham/ Confederate Soldiers Monument",
                                        "Maryland/ Baltimore/ Confederate Soldiers and Sailors Monument",
                                        "Indiana/ Indianapolis/ Confederate Soldiers and Sailors Monument",
                                        "Georgia/ Dalton/ Confederate Statue of General Joseph E. Johnston",
                                        "Missouri/ St. Louis/ Confederate War Memorial",
                                        "Maryland/ Baltimore/ Confederate Women's Monument",
                                        "Missouri/ Kansas City/ Confederate monument",
                                        "Georgia/ Atlanta/ Dekalb Confederate Monument",
                                        "Texas/ Denton/ Denton Confederate Soldier Monument",
                                        "New Mexico/ Santa Fe/ Don Diego de Vargas Statue",
                                        "California/ San Francisco/ Francis Scott Key",
                                        "Oregon/ Portland/ George Washington",
                                        "North Carolina/ Salisbury/ Gloria Victis",
                                        "Georgia/ Lawrenceville/ Gwinnett Historic Courthouse Confederate Monument",
                                        "Georgia/ McDonough/ Henry County Confederate Monument",
                                        "Virginia/ Richmond/ Howitzer's Monument",
                                        "Maryland/ Baltimore/ Jackson and Lee Monument",
                                        "Virginia/ Richmond/ Jeb Stuart Monument",
                                        "Kentucky/ Louisville/ Jefferson Davis Status",
                                        "Kentucky/ Louisville/ John B. Castleman Monument",
                                        "Louisiana/ New Orleans/ John McDonogh Statue",
                                        "New Mexico/ Alcalde/ Juan de Onate",
                                        "New Mexico/ Albuquerque/ Juan de Onate Monument",
                                        "Pennsylvania/ Philadelphia/ Kate Smith Statue",
                                        "Texas/ Fort Worth/ Marker dedicated to Confederate Soldiers and their Descendants",
                                        "Virginia/ Richmond/ Matthew Fontaine Maury",
                                        "North Carolina/ Raleigh/ Memorial to Confederate Soldiers and Sailors",
                                        "Virginia/ Richmond/ Memorial to Confederate Soldiers and Sailors",
                                        "Arizona/ Phoenix/ Monument to Confederate Troops",
                                        "North Carolina/ Rocky Mount/ Nash County Confederate Monument",
                                        "Oregon/ Eugene/ Pioneer Mother",
                                        "Texas/ Dallas/ Robert E. Lee Monument",
                                        "Georgia/ Conyers/ Rockdale County Confederate Monument",
                                        "Maryland/ Baltimore/ Roger B. Taney Sculpture",
                                        "Ontario/ Kingston/ Sir John A. Macdonald Statue",
                                        "Quebec/ Montreal/ Sir John A. Macdonald Statue",
                                        "Saskatchewan/ Regina/ Sir John A. Macdonald Statue",
                                        "Texas/ Houston/ Spirit of the Confederacy",
                                        "California/ Los Angeles/ St. Junipero Serra",
                                        "California/ San Francisco/ St. Junipero Serra",
                                        "California/ Ventura/ St. Junipero Serra",
                                        "Minnesota/ Minneapolis/ Statue of Christopher Columbus",
                                        "Virginia/ Richmond/ Statue of Christopher Columbus",
                                        "Louisiana/ Lafayette/ Statue of Confederate Gen Alfred Mouton",
                                        "Tennessee/ Nashville/ Statue of Edward Carmack",
                                        "Pennsylvania/ Philadelphia/ Statue of Frank Rizzo",
                                        "Virginia/ Richmond/ Statue of Harry Byrd",
                                        "Kentucky/ Frankfort/ Statue of Jefferson Davis",
                                        "Alabama/ Anniston/ Statue of John Pelham",
                                        "Alabama/ Mobile/ Statue of Raphael Semmes",
                                        "Texas/ Houston/ Statue of Richard W. Dowling",
                                        "Virginia/ Charlottesville/ Statue of Robert E. Lee",
                                        "Alabama/ Montgomery/ Statue of Robert E. Lee at Robert E. Lee High School",
                                        "Tennessee/ Nashville/ Statue of Sam Davis",
                                        "Virginia/ Charlottesville/ Statue of Stonewall Jackson",
                                        "Missouri/ Jefferson City/ Sterling Price Monument",
                                        "Virginia/ Lexington - Virginia Military Institute/ Stonewall Jackson",
                                        "Virginia/ Richmond/ Stonewall Jackson",
                                        "Maryland/ Easton/ Talbot Boys Monument",
                                        "Virginia/ Charlottesville/ The First View of the Pacific",
                                        "North Carolina/ Raleigh/ The Henry Lawson Wyatt Monument",
                                        "Oregon/ Eugene/ The Pioneer",
                                        "New Mexico/ Santa Fe/ The Soldiers' Monument",
                                        "Pennsylvania/ Philadelphia/ Thorfinn Karlsefni Statue",
                                        "California/ San Francisco/ Ulysses S. Grant",
                                        "Florida/ Jacksonville/ Women of Southland",
                                        "North Carolina/ Raleigh/ Women of the Confederacy Monument",
                                        "New Mexico/ Albuquerque",
                                        "New Mexico/ Alcalde",
                                        "Alabama/ Anniston",
                                        "Georgia/ Athens",
                                        "Georgia/ Atlanta",
                                        "Maryland/ Baltimore",
                                        "Arkansas/ Bentonville",
                                        "Alabama/ Birmingham",
                                        "Massachusetts/ Boston",
                                        "New Jersey/ Camden",
                                        "Virginia/ Charlottesville",
                                        "Illinois/ Chicago",
                                        "Georgia/ Conyers",
                                        "Texas/ Dallas",
                                        "Georgia/ Dalton",
                                        "Texas/ Denton",
                                        "North Carolina/ Durham",
                                        "Maryland/ Easton",
                                        "Oregon/ Eugene",
                                        "Arkansas/ Eureka Springs",
                                        "Florida/ Fort Myers",
                                        "Texas/ Fort Worth",
                                        "Kentucky/ Frankfort",
                                        "Illinois/ Grant Park",
                                        "Pennsylvania/ Hampden Township",
                                        "Texas/ Houston",
                                        "Alabama/ Huntsville",
                                        "Indiana/ Indianapolis",
                                        "Florida/ Jacksonville",
                                        "Missouri/ Jefferson City",
                                        "Missouri/ Kansas City",
                                        "Ontario/ Kingston",
                                        "Louisiana/ Lafayette",
                                        "Georgia/ Lawrenceville",
                                        "Virginia/ Lexington - Virginia Military Institute",
                                        "California/ Los Angeles",
                                        "Kentucky/ Louisville",
                                        "Georgia/ McDonough",
                                        "Minnesota/ Minneapolis",
                                        "Alabama/ Mobile",
                                        "Alabama/ Montgomery",
                                        "Quebec/ Montreal",
                                        "Tennessee/ Nashville",
                                        "Louisiana/ New Orleans",
                                        "Pennsylvania/ Philadelphia",
                                        "Arizona/ Phoenix",
                                        "Oregon/ Portland",
                                        "Virginia/ Portsmouth",
                                        "North Carolina/ Raleigh",
                                        "Saskatchewan/ Regina",
                                        "Virginia/ Richmond",
                                        "North Carolina/ Rocky Mount",
                                        "North Carolina/ Salisbury",
                                        "California/ San Francisco",
                                        "New Mexico/ Santa Fe",
                                        "Missouri/ St. Louis",
                                        "Alabama/ Tuskegee",
                                        "California/ Ventura",
                                        "D C/ Washington",
                                        "Connecticut/ Waterbury City Hall",
                                        "Alabama",
                                        "Arizona",
                                        "Arkansas",
                                        "California",
                                        "Connecticut",
                                        "D C",
                                        "Florida",
                                        "Georgia",
                                        "Illinois",
                                        "Indiana",
                                        "Kentucky",
                                        "Louisiana",
                                        "Maryland",
                                        "Massachusetts",
                                        "Minnesota",
                                        "Missouri",
                                        "New Jersey",
                                        "New Mexico",
                                        "North Carolina",
                                        "Ontario",
                                        "Oregon",
                                        "Pennsylvania",
                                        "Quebec",
                                        "Saskatchewan",
                                        "Tennessee",
                                        "Texas",
                                        "Virginia"
                                    ],
                                    "labels": [
                                        " \"The Grandstand\" Confederate Memorial Services",
                                        " Albert Pike Statue",
                                        " Andrew Jackson",
                                        " Athens Confederate Monument",
                                        " Bentonville Confederate Monument",
                                        " Bust of John McDonogh",
                                        " Bust of Robert E. Lee",
                                        " Charles Didier Dreux Statue",
                                        " Charles Linn Monument",
                                        " Christ of the Ozarks Statue",
                                        " Christopher Columbus",
                                        " Christopher Columbus",
                                        " Christopher Columbus Chicago",
                                        " Christopher Columbus Monument",
                                        " Christopher Columbus Monument",
                                        " Christopher Columbus Monument",
                                        " Christopher Columbus Statue",
                                        " Christopher Columbus Statue",
                                        " Confederate Brigadier General Albert Jenkins",
                                        " Confederate Gen. Williams Carter Wickham",
                                        " Confederate Monument",
                                        " Confederate Soldier Memorial",
                                        " Confederate Soldier Monument",
                                        " Confederate Soldiers & Sailors Monument",
                                        " Confederate Soldiers Burial Plot Sculpture",
                                        " Confederate Soldiers Memorial",
                                        " Confederate Soldiers Monument",
                                        " Confederate Soldiers and Sailors Monument",
                                        " Confederate Soldiers and Sailors Monument",
                                        " Confederate Statue of General Joseph E. Johnston",
                                        " Confederate War Memorial",
                                        " Confederate Women's Monument",
                                        " Confederate monument",
                                        " Dekalb Confederate Monument",
                                        " Denton Confederate Soldier Monument",
                                        " Don Diego de Vargas Statue",
                                        " Francis Scott Key",
                                        " George Washington",
                                        " Gloria Victis",
                                        " Gwinnett Historic Courthouse Confederate Monument",
                                        " Henry County Confederate Monument",
                                        " Howitzer's Monument",
                                        " Jackson and Lee Monument",
                                        " Jeb Stuart Monument",
                                        " Jefferson Davis Status",
                                        " John B. Castleman Monument",
                                        " John McDonogh Statue",
                                        " Juan de Onate",
                                        " Juan de Onate Monument",
                                        " Kate Smith Statue",
                                        " Marker dedicated to Confederate Soldiers and their Descendants",
                                        " Matthew Fontaine Maury",
                                        " Memorial to Confederate Soldiers and Sailors",
                                        " Memorial to Confederate Soldiers and Sailors",
                                        " Monument to Confederate Troops",
                                        " Nash County Confederate Monument",
                                        " Pioneer Mother",
                                        " Robert E. Lee Monument",
                                        " Rockdale County Confederate Monument",
                                        " Roger B. Taney Sculpture",
                                        " Sir John A. Macdonald Statue",
                                        " Sir John A. Macdonald Statue",
                                        " Sir John A. Macdonald Statue",
                                        " Spirit of the Confederacy",
                                        " St. Junipero Serra",
                                        " St. Junipero Serra",
                                        " St. Junipero Serra",
                                        " Statue of Christopher Columbus",
                                        " Statue of Christopher Columbus",
                                        " Statue of Confederate Gen Alfred Mouton",
                                        " Statue of Edward Carmack",
                                        " Statue of Frank Rizzo",
                                        " Statue of Harry Byrd",
                                        " Statue of Jefferson Davis",
                                        " Statue of John Pelham",
                                        " Statue of Raphael Semmes",
                                        " Statue of Richard W. Dowling",
                                        " Statue of Robert E. Lee",
                                        " Statue of Robert E. Lee at Robert E. Lee High School",
                                        " Statue of Sam Davis",
                                        " Statue of Stonewall Jackson",
                                        " Sterling Price Monument",
                                        " Stonewall Jackson",
                                        " Stonewall Jackson",
                                        " Talbot Boys Monument",
                                        " The First View of the Pacific",
                                        " The Henry Lawson Wyatt Monument",
                                        " The Pioneer",
                                        " The Soldiers' Monument",
                                        " Thorfinn Karlsefni Statue",
                                        " Ulysses S. Grant",
                                        " Women of Southland",
                                        " Women of the Confederacy Monument",
                                        " Albuquerque",
                                        " Alcalde",
                                        " Anniston",
                                        " Athens",
                                        " Atlanta",
                                        " Baltimore",
                                        " Bentonville",
                                        " Birmingham",
                                        " Boston",
                                        " Camden",
                                        " Charlottesville",
                                        " Chicago",
                                        " Conyers",
                                        " Dallas",
                                        " Dalton",
                                        " Denton",
                                        " Durham",
                                        " Easton",
                                        " Eugene",
                                        " Eureka Springs",
                                        " Fort Myers",
                                        " Fort Worth",
                                        " Frankfort",
                                        " Grant Park",
                                        " Hampden Township",
                                        " Houston",
                                        " Huntsville",
                                        " Indianapolis",
                                        " Jacksonville",
                                        " Jefferson City",
                                        " Kansas City",
                                        " Kingston",
                                        " Lafayette",
                                        " Lawrenceville",
                                        " Lexington - Virginia Military Institute",
                                        " Los Angeles",
                                        " Louisville",
                                        " McDonough",
                                        " Minneapolis",
                                        " Mobile",
                                        " Montgomery",
                                        " Montreal",
                                        " Nashville",
                                        " New Orleans",
                                        " Philadelphia",
                                        " Phoenix",
                                        " Portland",
                                        " Portsmouth",
                                        " Raleigh",
                                        " Regina",
                                        " Richmond",
                                        " Rocky Mount",
                                        " Salisbury",
                                        " San Francisco",
                                        " Santa Fe",
                                        " St. Louis",
                                        " Tuskegee",
                                        " Ventura",
                                        " Washington",
                                        " Waterbury City Hall",
                                        "Alabama",
                                        "Arizona",
                                        "Arkansas",
                                        "California",
                                        "Connecticut",
                                        "D C",
                                        "Florida",
                                        "Georgia",
                                        "Illinois",
                                        "Indiana",
                                        "Kentucky",
                                        "Louisiana",
                                        "Maryland",
                                        "Massachusetts",
                                        "Minnesota",
                                        "Missouri",
                                        "New Jersey",
                                        "New Mexico",
                                        "North Carolina",
                                        "Ontario",
                                        "Oregon",
                                        "Pennsylvania",
                                        "Quebec",
                                        "Saskatchewan",
                                        "Tennessee",
                                        "Texas",
                                        "Virginia"
                                    ],
                                    "name": "",
                                    "parents": [
                                        "Florida/ Jacksonville",
                                        "D C/ Washington",
                                        "Florida/ Jacksonville",
                                        "Georgia/ Athens",
                                        "Arkansas/ Bentonville",
                                        "Louisiana/ New Orleans",
                                        "Florida/ Fort Myers",
                                        "Louisiana/ New Orleans",
                                        "Alabama/ Birmingham",
                                        "Arkansas/ Eureka Springs",
                                        "Illinois/ Chicago",
                                        "Missouri/ St. Louis",
                                        "Illinois/ Grant Park",
                                        "Maryland/ Baltimore",
                                        "Massachusetts/ Boston",
                                        "California/ San Francisco",
                                        "New Jersey/ Camden",
                                        "Connecticut/ Waterbury City Hall",
                                        "Pennsylvania/ Hampden Township",
                                        "Virginia/ Richmond",
                                        "Virginia/ Portsmouth",
                                        "Alabama/ Huntsville",
                                        "Alabama/ Tuskegee",
                                        "Alabama/ Birmingham",
                                        "Florida/ Jacksonville",
                                        "Florida/ Jacksonville",
                                        "North Carolina/ Durham",
                                        "Maryland/ Baltimore",
                                        "Indiana/ Indianapolis",
                                        "Georgia/ Dalton",
                                        "Missouri/ St. Louis",
                                        "Maryland/ Baltimore",
                                        "Missouri/ Kansas City",
                                        "Georgia/ Atlanta",
                                        "Texas/ Denton",
                                        "New Mexico/ Santa Fe",
                                        "California/ San Francisco",
                                        "Oregon/ Portland",
                                        "North Carolina/ Salisbury",
                                        "Georgia/ Lawrenceville",
                                        "Georgia/ McDonough",
                                        "Virginia/ Richmond",
                                        "Maryland/ Baltimore",
                                        "Virginia/ Richmond",
                                        "Kentucky/ Louisville",
                                        "Kentucky/ Louisville",
                                        "Louisiana/ New Orleans",
                                        "New Mexico/ Alcalde",
                                        "New Mexico/ Albuquerque",
                                        "Pennsylvania/ Philadelphia",
                                        "Texas/ Fort Worth",
                                        "Virginia/ Richmond",
                                        "North Carolina/ Raleigh",
                                        "Virginia/ Richmond",
                                        "Arizona/ Phoenix",
                                        "North Carolina/ Rocky Mount",
                                        "Oregon/ Eugene",
                                        "Texas/ Dallas",
                                        "Georgia/ Conyers",
                                        "Maryland/ Baltimore",
                                        "Ontario/ Kingston",
                                        "Quebec/ Montreal",
                                        "Saskatchewan/ Regina",
                                        "Texas/ Houston",
                                        "California/ Los Angeles",
                                        "California/ San Francisco",
                                        "California/ Ventura",
                                        "Minnesota/ Minneapolis",
                                        "Virginia/ Richmond",
                                        "Louisiana/ Lafayette",
                                        "Tennessee/ Nashville",
                                        "Pennsylvania/ Philadelphia",
                                        "Virginia/ Richmond",
                                        "Kentucky/ Frankfort",
                                        "Alabama/ Anniston",
                                        "Alabama/ Mobile",
                                        "Texas/ Houston",
                                        "Virginia/ Charlottesville",
                                        "Alabama/ Montgomery",
                                        "Tennessee/ Nashville",
                                        "Virginia/ Charlottesville",
                                        "Missouri/ Jefferson City",
                                        "Virginia/ Lexington - Virginia Military Institute",
                                        "Virginia/ Richmond",
                                        "Maryland/ Easton",
                                        "Virginia/ Charlottesville",
                                        "North Carolina/ Raleigh",
                                        "Oregon/ Eugene",
                                        "New Mexico/ Santa Fe",
                                        "Pennsylvania/ Philadelphia",
                                        "California/ San Francisco",
                                        "Florida/ Jacksonville",
                                        "North Carolina/ Raleigh",
                                        "New Mexico",
                                        "New Mexico",
                                        "Alabama",
                                        "Georgia",
                                        "Georgia",
                                        "Maryland",
                                        "Arkansas",
                                        "Alabama",
                                        "Massachusetts",
                                        "New Jersey",
                                        "Virginia",
                                        "Illinois",
                                        "Georgia",
                                        "Texas",
                                        "Georgia",
                                        "Texas",
                                        "North Carolina",
                                        "Maryland",
                                        "Oregon",
                                        "Arkansas",
                                        "Florida",
                                        "Texas",
                                        "Kentucky",
                                        "Illinois",
                                        "Pennsylvania",
                                        "Texas",
                                        "Alabama",
                                        "Indiana",
                                        "Florida",
                                        "Missouri",
                                        "Missouri",
                                        "Ontario",
                                        "Louisiana",
                                        "Georgia",
                                        "Virginia",
                                        "California",
                                        "Kentucky",
                                        "Georgia",
                                        "Minnesota",
                                        "Alabama",
                                        "Alabama",
                                        "Quebec",
                                        "Tennessee",
                                        "Louisiana",
                                        "Pennsylvania",
                                        "Arizona",
                                        "Oregon",
                                        "Virginia",
                                        "North Carolina",
                                        "Saskatchewan",
                                        "Virginia",
                                        "North Carolina",
                                        "North Carolina",
                                        "California",
                                        "New Mexico",
                                        "Missouri",
                                        "Alabama",
                                        "California",
                                        "D C",
                                        "Connecticut",
                                        "",
                                        "",
                                        "",
                                        "",
                                        "",
                                        "",
                                        "",
                                        "",
                                        "",
                                        "",
                                        "",
                                        "",
                                        "",
                                        "",
                                        "",
                                        "",
                                        "",
                                        "",
                                        "",
                                        "",
                                        "",
                                        "",
                                        "",
                                        "",
                                        "",
                                        "",
                                        ""
                                    ],
                                    "type": "sunburst",
                                    "values": [
                                        1,
                                        1,
                                        1,
                                        1,
                                        1,
                                        1,
                                        1,
                                        1,
                                        1,
                                        1,
                                        1,
                                        1,
                                        1,
                                        1,
                                        1,
                                        1,
                                        1,
                                        1,
                                        1,
                                        1,
                                        1,
                                        1,
                                        1,
                                        1,
                                        1,
                                        1,
                                        1,
                                        1,
                                        1,
                                        1,
                                        1,
                                        1,
                                        1,
                                        1,
                                        1,
                                        1,
                                        1,
                                        1,
                                        1,
                                        1,
                                        1,
                                        1,
                                        1,
                                        1,
                                        1,
                                        1,
                                        1,
                                        1,
                                        1,
                                        1,
                                        1,
                                        1,
                                        1,
                                        1,
                                        1,
                                        1,
                                        1,
                                        1,
                                        1,
                                        1,
                                        1,
                                        1,
                                        1,
                                        1,
                                        1,
                                        1,
                                        1,
                                        1,
                                        1,
                                        1,
                                        1,
                                        1,
                                        1,
                                        1,
                                        1,
                                        1,
                                        1,
                                        1,
                                        1,
                                        1,
                                        1,
                                        1,
                                        1,
                                        1,
                                        1,
                                        1,
                                        1,
                                        1,
                                        1,
                                        1,
                                        1,
                                        1,
                                        1,
                                        1,
                                        1,
                                        1,
                                        1,
                                        1,
                                        5,
                                        1,
                                        2,
                                        1,
                                        1,
                                        3,
                                        1,
                                        1,
                                        1,
                                        1,
                                        1,
                                        1,
                                        1,
                                        2,
                                        1,
                                        1,
                                        1,
                                        1,
                                        1,
                                        1,
                                        2,
                                        1,
                                        1,
                                        5,
                                        1,
                                        1,
                                        1,
                                        1,
                                        1,
                                        1,
                                        1,
                                        2,
                                        1,
                                        1,
                                        1,
                                        1,
                                        1,
                                        2,
                                        3,
                                        3,
                                        1,
                                        1,
                                        1,
                                        3,
                                        1,
                                        8,
                                        1,
                                        1,
                                        4,
                                        2,
                                        2,
                                        1,
                                        1,
                                        1,
                                        1,
                                        7,
                                        1,
                                        2,
                                        6,
                                        1,
                                        1,
                                        6,
                                        6,
                                        2,
                                        1,
                                        3,
                                        4,
                                        6,
                                        1,
                                        1,
                                        4,
                                        1,
                                        4,
                                        6,
                                        1,
                                        3,
                                        4,
                                        1,
                                        1,
                                        2,
                                        5,
                                        13
                                    ]
                                }
                            ],
                            "layout": {
                                "height": 1000,
                                "legend": {
                                    "tracegroupgap": 0
                                },
                                "margin": {
                                    "t": 60
                                },
                                "template": {
                                    "data": {
                                        "bar": [
                                            {
                                                "error_x": {
                                                    "color": "#2a3f5f"
                                                },
                                                "error_y": {
                                                    "color": "#2a3f5f"
                                                },
                                                "marker": {
                                                    "line": {
                                                        "color": "#E5ECF6",
                                                        "width": 0.5
                                                    },
                                                    "pattern": {
                                                        "fillmode": "overlay",
                                                        "size": 10,
                                                        "solidity": 0.2
                                                    }
                                                },
                                                "type": "bar"
                                            }
                                        ],
                                        "barpolar": [
                                            {
                                                "marker": {
                                                    "line": {
                                                        "color": "#E5ECF6",
                                                        "width": 0.5
                                                    },
                                                    "pattern": {
                                                        "fillmode": "overlay",
                                                        "size": 10,
                                                        "solidity": 0.2
                                                    }
                                                },
                                                "type": "barpolar"
                                            }
                                        ],
                                        "carpet": [
                                            {
                                                "aaxis": {
                                                    "endlinecolor": "#2a3f5f",
                                                    "gridcolor": "white",
                                                    "linecolor": "white",
                                                    "minorgridcolor": "white",
                                                    "startlinecolor": "#2a3f5f"
                                                },
                                                "baxis": {
                                                    "endlinecolor": "#2a3f5f",
                                                    "gridcolor": "white",
                                                    "linecolor": "white",
                                                    "minorgridcolor": "white",
                                                    "startlinecolor": "#2a3f5f"
                                                },
                                                "type": "carpet"
                                            }
                                        ],
                                        "choropleth": [
                                            {
                                                "colorbar": {
                                                    "outlinewidth": 0,
                                                    "ticks": ""
                                                },
                                                "type": "choropleth"
                                            }
                                        ],
                                        "contour": [
                                            {
                                                "colorbar": {
                                                    "outlinewidth": 0,
                                                    "ticks": ""
                                                },
                                                "colorscale": [
                                                    [
                                                        0,
                                                        "#0d0887"
                                                    ],
                                                    [
                                                        0.1111111111111111,
                                                        "#46039f"
                                                    ],
                                                    [
                                                        0.2222222222222222,
                                                        "#7201a8"
                                                    ],
                                                    [
                                                        0.3333333333333333,
                                                        "#9c179e"
                                                    ],
                                                    [
                                                        0.4444444444444444,
                                                        "#bd3786"
                                                    ],
                                                    [
                                                        0.5555555555555556,
                                                        "#d8576b"
                                                    ],
                                                    [
                                                        0.6666666666666666,
                                                        "#ed7953"
                                                    ],
                                                    [
                                                        0.7777777777777778,
                                                        "#fb9f3a"
                                                    ],
                                                    [
                                                        0.8888888888888888,
                                                        "#fdca26"
                                                    ],
                                                    [
                                                        1,
                                                        "#f0f921"
                                                    ]
                                                ],
                                                "type": "contour"
                                            }
                                        ],
                                        "contourcarpet": [
                                            {
                                                "colorbar": {
                                                    "outlinewidth": 0,
                                                    "ticks": ""
                                                },
                                                "type": "contourcarpet"
                                            }
                                        ],
                                        "heatmap": [
                                            {
                                                "colorbar": {
                                                    "outlinewidth": 0,
                                                    "ticks": ""
                                                },
                                                "colorscale": [
                                                    [
                                                        0,
                                                        "#0d0887"
                                                    ],
                                                    [
                                                        0.1111111111111111,
                                                        "#46039f"
                                                    ],
                                                    [
                                                        0.2222222222222222,
                                                        "#7201a8"
                                                    ],
                                                    [
                                                        0.3333333333333333,
                                                        "#9c179e"
                                                    ],
                                                    [
                                                        0.4444444444444444,
                                                        "#bd3786"
                                                    ],
                                                    [
                                                        0.5555555555555556,
                                                        "#d8576b"
                                                    ],
                                                    [
                                                        0.6666666666666666,
                                                        "#ed7953"
                                                    ],
                                                    [
                                                        0.7777777777777778,
                                                        "#fb9f3a"
                                                    ],
                                                    [
                                                        0.8888888888888888,
                                                        "#fdca26"
                                                    ],
                                                    [
                                                        1,
                                                        "#f0f921"
                                                    ]
                                                ],
                                                "type": "heatmap"
                                            }
                                        ],
                                        "heatmapgl": [
                                            {
                                                "colorbar": {
                                                    "outlinewidth": 0,
                                                    "ticks": ""
                                                },
                                                "colorscale": [
                                                    [
                                                        0,
                                                        "#0d0887"
                                                    ],
                                                    [
                                                        0.1111111111111111,
                                                        "#46039f"
                                                    ],
                                                    [
                                                        0.2222222222222222,
                                                        "#7201a8"
                                                    ],
                                                    [
                                                        0.3333333333333333,
                                                        "#9c179e"
                                                    ],
                                                    [
                                                        0.4444444444444444,
                                                        "#bd3786"
                                                    ],
                                                    [
                                                        0.5555555555555556,
                                                        "#d8576b"
                                                    ],
                                                    [
                                                        0.6666666666666666,
                                                        "#ed7953"
                                                    ],
                                                    [
                                                        0.7777777777777778,
                                                        "#fb9f3a"
                                                    ],
                                                    [
                                                        0.8888888888888888,
                                                        "#fdca26"
                                                    ],
                                                    [
                                                        1,
                                                        "#f0f921"
                                                    ]
                                                ],
                                                "type": "heatmapgl"
                                            }
                                        ],
                                        "histogram": [
                                            {
                                                "marker": {
                                                    "pattern": {
                                                        "fillmode": "overlay",
                                                        "size": 10,
                                                        "solidity": 0.2
                                                    }
                                                },
                                                "type": "histogram"
                                            }
                                        ],
                                        "histogram2d": [
                                            {
                                                "colorbar": {
                                                    "outlinewidth": 0,
                                                    "ticks": ""
                                                },
                                                "colorscale": [
                                                    [
                                                        0,
                                                        "#0d0887"
                                                    ],
                                                    [
                                                        0.1111111111111111,
                                                        "#46039f"
                                                    ],
                                                    [
                                                        0.2222222222222222,
                                                        "#7201a8"
                                                    ],
                                                    [
                                                        0.3333333333333333,
                                                        "#9c179e"
                                                    ],
                                                    [
                                                        0.4444444444444444,
                                                        "#bd3786"
                                                    ],
                                                    [
                                                        0.5555555555555556,
                                                        "#d8576b"
                                                    ],
                                                    [
                                                        0.6666666666666666,
                                                        "#ed7953"
                                                    ],
                                                    [
                                                        0.7777777777777778,
                                                        "#fb9f3a"
                                                    ],
                                                    [
                                                        0.8888888888888888,
                                                        "#fdca26"
                                                    ],
                                                    [
                                                        1,
                                                        "#f0f921"
                                                    ]
                                                ],
                                                "type": "histogram2d"
                                            }
                                        ],
                                        "histogram2dcontour": [
                                            {
                                                "colorbar": {
                                                    "outlinewidth": 0,
                                                    "ticks": ""
                                                },
                                                "colorscale": [
                                                    [
                                                        0,
                                                        "#0d0887"
                                                    ],
                                                    [
                                                        0.1111111111111111,
                                                        "#46039f"
                                                    ],
                                                    [
                                                        0.2222222222222222,
                                                        "#7201a8"
                                                    ],
                                                    [
                                                        0.3333333333333333,
                                                        "#9c179e"
                                                    ],
                                                    [
                                                        0.4444444444444444,
                                                        "#bd3786"
                                                    ],
                                                    [
                                                        0.5555555555555556,
                                                        "#d8576b"
                                                    ],
                                                    [
                                                        0.6666666666666666,
                                                        "#ed7953"
                                                    ],
                                                    [
                                                        0.7777777777777778,
                                                        "#fb9f3a"
                                                    ],
                                                    [
                                                        0.8888888888888888,
                                                        "#fdca26"
                                                    ],
                                                    [
                                                        1,
                                                        "#f0f921"
                                                    ]
                                                ],
                                                "type": "histogram2dcontour"
                                            }
                                        ],
                                        "mesh3d": [
                                            {
                                                "colorbar": {
                                                    "outlinewidth": 0,
                                                    "ticks": ""
                                                },
                                                "type": "mesh3d"
                                            }
                                        ],
                                        "parcoords": [
                                            {
                                                "line": {
                                                    "colorbar": {
                                                        "outlinewidth": 0,
                                                        "ticks": ""
                                                    }
                                                },
                                                "type": "parcoords"
                                            }
                                        ],
                                        "pie": [
                                            {
                                                "automargin": true,
                                                "type": "pie"
                                            }
                                        ],
                                        "scatter": [
                                            {
                                                "marker": {
                                                    "colorbar": {
                                                        "outlinewidth": 0,
                                                        "ticks": ""
                                                    }
                                                },
                                                "type": "scatter"
                                            }
                                        ],
                                        "scatter3d": [
                                            {
                                                "line": {
                                                    "colorbar": {
                                                        "outlinewidth": 0,
                                                        "ticks": ""
                                                    }
                                                },
                                                "marker": {
                                                    "colorbar": {
                                                        "outlinewidth": 0,
                                                        "ticks": ""
                                                    }
                                                },
                                                "type": "scatter3d"
                                            }
                                        ],
                                        "scattercarpet": [
                                            {
                                                "marker": {
                                                    "colorbar": {
                                                        "outlinewidth": 0,
                                                        "ticks": ""
                                                    }
                                                },
                                                "type": "scattercarpet"
                                            }
                                        ],
                                        "scattergeo": [
                                            {
                                                "marker": {
                                                    "colorbar": {
                                                        "outlinewidth": 0,
                                                        "ticks": ""
                                                    }
                                                },
                                                "type": "scattergeo"
                                            }
                                        ],
                                        "scattergl": [
                                            {
                                                "marker": {
                                                    "colorbar": {
                                                        "outlinewidth": 0,
                                                        "ticks": ""
                                                    }
                                                },
                                                "type": "scattergl"
                                            }
                                        ],
                                        "scattermapbox": [
                                            {
                                                "marker": {
                                                    "colorbar": {
                                                        "outlinewidth": 0,
                                                        "ticks": ""
                                                    }
                                                },
                                                "type": "scattermapbox"
                                            }
                                        ],
                                        "scatterpolar": [
                                            {
                                                "marker": {
                                                    "colorbar": {
                                                        "outlinewidth": 0,
                                                        "ticks": ""
                                                    }
                                                },
                                                "type": "scatterpolar"
                                            }
                                        ],
                                        "scatterpolargl": [
                                            {
                                                "marker": {
                                                    "colorbar": {
                                                        "outlinewidth": 0,
                                                        "ticks": ""
                                                    }
                                                },
                                                "type": "scatterpolargl"
                                            }
                                        ],
                                        "scatterternary": [
                                            {
                                                "marker": {
                                                    "colorbar": {
                                                        "outlinewidth": 0,
                                                        "ticks": ""
                                                    }
                                                },
                                                "type": "scatterternary"
                                            }
                                        ],
                                        "surface": [
                                            {
                                                "colorbar": {
                                                    "outlinewidth": 0,
                                                    "ticks": ""
                                                },
                                                "colorscale": [
                                                    [
                                                        0,
                                                        "#0d0887"
                                                    ],
                                                    [
                                                        0.1111111111111111,
                                                        "#46039f"
                                                    ],
                                                    [
                                                        0.2222222222222222,
                                                        "#7201a8"
                                                    ],
                                                    [
                                                        0.3333333333333333,
                                                        "#9c179e"
                                                    ],
                                                    [
                                                        0.4444444444444444,
                                                        "#bd3786"
                                                    ],
                                                    [
                                                        0.5555555555555556,
                                                        "#d8576b"
                                                    ],
                                                    [
                                                        0.6666666666666666,
                                                        "#ed7953"
                                                    ],
                                                    [
                                                        0.7777777777777778,
                                                        "#fb9f3a"
                                                    ],
                                                    [
                                                        0.8888888888888888,
                                                        "#fdca26"
                                                    ],
                                                    [
                                                        1,
                                                        "#f0f921"
                                                    ]
                                                ],
                                                "type": "surface"
                                            }
                                        ],
                                        "table": [
                                            {
                                                "cells": {
                                                    "fill": {
                                                        "color": "#EBF0F8"
                                                    },
                                                    "line": {
                                                        "color": "white"
                                                    }
                                                },
                                                "header": {
                                                    "fill": {
                                                        "color": "#C8D4E3"
                                                    },
                                                    "line": {
                                                        "color": "white"
                                                    }
                                                },
                                                "type": "table"
                                            }
                                        ]
                                    },
                                    "layout": {
                                        "annotationdefaults": {
                                            "arrowcolor": "#2a3f5f",
                                            "arrowhead": 0,
                                            "arrowwidth": 1
                                        },
                                        "autotypenumbers": "strict",
                                        "coloraxis": {
                                            "colorbar": {
                                                "outlinewidth": 0,
                                                "ticks": ""
                                            }
                                        },
                                        "colorscale": {
                                            "diverging": [
                                                [
                                                    0,
                                                    "#8e0152"
                                                ],
                                                [
                                                    0.1,
                                                    "#c51b7d"
                                                ],
                                                [
                                                    0.2,
                                                    "#de77ae"
                                                ],
                                                [
                                                    0.3,
                                                    "#f1b6da"
                                                ],
                                                [
                                                    0.4,
                                                    "#fde0ef"
                                                ],
                                                [
                                                    0.5,
                                                    "#f7f7f7"
                                                ],
                                                [
                                                    0.6,
                                                    "#e6f5d0"
                                                ],
                                                [
                                                    0.7,
                                                    "#b8e186"
                                                ],
                                                [
                                                    0.8,
                                                    "#7fbc41"
                                                ],
                                                [
                                                    0.9,
                                                    "#4d9221"
                                                ],
                                                [
                                                    1,
                                                    "#276419"
                                                ]
                                            ],
                                            "sequential": [
                                                [
                                                    0,
                                                    "#0d0887"
                                                ],
                                                [
                                                    0.1111111111111111,
                                                    "#46039f"
                                                ],
                                                [
                                                    0.2222222222222222,
                                                    "#7201a8"
                                                ],
                                                [
                                                    0.3333333333333333,
                                                    "#9c179e"
                                                ],
                                                [
                                                    0.4444444444444444,
                                                    "#bd3786"
                                                ],
                                                [
                                                    0.5555555555555556,
                                                    "#d8576b"
                                                ],
                                                [
                                                    0.6666666666666666,
                                                    "#ed7953"
                                                ],
                                                [
                                                    0.7777777777777778,
                                                    "#fb9f3a"
                                                ],
                                                [
                                                    0.8888888888888888,
                                                    "#fdca26"
                                                ],
                                                [
                                                    1,
                                                    "#f0f921"
                                                ]
                                            ],
                                            "sequentialminus": [
                                                [
                                                    0,
                                                    "#0d0887"
                                                ],
                                                [
                                                    0.1111111111111111,
                                                    "#46039f"
                                                ],
                                                [
                                                    0.2222222222222222,
                                                    "#7201a8"
                                                ],
                                                [
                                                    0.3333333333333333,
                                                    "#9c179e"
                                                ],
                                                [
                                                    0.4444444444444444,
                                                    "#bd3786"
                                                ],
                                                [
                                                    0.5555555555555556,
                                                    "#d8576b"
                                                ],
                                                [
                                                    0.6666666666666666,
                                                    "#ed7953"
                                                ],
                                                [
                                                    0.7777777777777778,
                                                    "#fb9f3a"
                                                ],
                                                [
                                                    0.8888888888888888,
                                                    "#fdca26"
                                                ],
                                                [
                                                    1,
                                                    "#f0f921"
                                                ]
                                            ]
                                        },
                                        "colorway": [
                                            "#636efa",
                                            "#EF553B",
                                            "#00cc96",
                                            "#ab63fa",
                                            "#FFA15A",
                                            "#19d3f3",
                                            "#FF6692",
                                            "#B6E880",
                                            "#FF97FF",
                                            "#FECB52"
                                        ],
                                        "font": {
                                            "color": "#2a3f5f"
                                        },
                                        "geo": {
                                            "bgcolor": "white",
                                            "lakecolor": "white",
                                            "landcolor": "#E5ECF6",
                                            "showlakes": true,
                                            "showland": true,
                                            "subunitcolor": "white"
                                        },
                                        "hoverlabel": {
                                            "align": "left"
                                        },
                                        "hovermode": "closest",
                                        "mapbox": {
                                            "style": "light"
                                        },
                                        "paper_bgcolor": "white",
                                        "plot_bgcolor": "#E5ECF6",
                                        "polar": {
                                            "angularaxis": {
                                                "gridcolor": "white",
                                                "linecolor": "white",
                                                "ticks": ""
                                            },
                                            "bgcolor": "#E5ECF6",
                                            "radialaxis": {
                                                "gridcolor": "white",
                                                "linecolor": "white",
                                                "ticks": ""
                                            }
                                        },
                                        "scene": {
                                            "xaxis": {
                                                "backgroundcolor": "#E5ECF6",
                                                "gridcolor": "white",
                                                "gridwidth": 2,
                                                "linecolor": "white",
                                                "showbackground": true,
                                                "ticks": "",
                                                "zerolinecolor": "white"
                                            },
                                            "yaxis": {
                                                "backgroundcolor": "#E5ECF6",
                                                "gridcolor": "white",
                                                "gridwidth": 2,
                                                "linecolor": "white",
                                                "showbackground": true,
                                                "ticks": "",
                                                "zerolinecolor": "white"
                                            },
                                            "zaxis": {
                                                "backgroundcolor": "#E5ECF6",
                                                "gridcolor": "white",
                                                "gridwidth": 2,
                                                "linecolor": "white",
                                                "showbackground": true,
                                                "ticks": "",
                                                "zerolinecolor": "white"
                                            }
                                        },
                                        "shapedefaults": {
                                            "line": {
                                                "color": "#2a3f5f"
                                            }
                                        },
                                        "ternary": {
                                            "aaxis": {
                                                "gridcolor": "white",
                                                "linecolor": "white",
                                                "ticks": ""
                                            },
                                            "baxis": {
                                                "gridcolor": "white",
                                                "linecolor": "white",
                                                "ticks": ""
                                            },
                                            "bgcolor": "#E5ECF6",
                                            "caxis": {
                                                "gridcolor": "white",
                                                "linecolor": "white",
                                                "ticks": ""
                                            }
                                        },
                                        "title": {
                                            "x": 0.05
                                        },
                                        "xaxis": {
                                            "automargin": true,
                                            "gridcolor": "white",
                                            "linecolor": "white",
                                            "ticks": "",
                                            "title": {
                                                "standoff": 15
                                            },
                                            "zerolinecolor": "white",
                                            "zerolinewidth": 2
                                        },
                                        "yaxis": {
                                            "automargin": true,
                                            "gridcolor": "white",
                                            "linecolor": "white",
                                            "ticks": "",
                                            "title": {
                                                "standoff": 15
                                            },
                                            "zerolinecolor": "white",
                                            "zerolinewidth": 2
                                        }
                                    }
                                },
                                "width": 1000
                            }
                        }
                    },
                    "metadata": {}
                }
            ],
            "metadata": {}
        }
    ],
    "metadata": {
        "orig_nbformat": 4,
        "language_info": {
            "name": "python",
            "version": "3.9.1",
            "mimetype": "text/x-python",
            "codemirror_mode": {
                "name": "ipython",
                "version": 3
            },
            "pygments_lexer": "ipython3",
            "nbconvert_exporter": "python",
            "file_extension": ".py"
        },
        "kernelspec": {
            "name": "python3",
            "display_name": "Python 3.9.1 64-bit"
        },
        "interpreter": {
            "hash": "63fd5069d213b44bf678585dea6b12cceca9941eaf7f819626cde1f2670de90d"
        }
    },
    "nbformat": 4,
    "nbformat_minor": 2
}