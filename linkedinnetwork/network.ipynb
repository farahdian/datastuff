{
    "cells": [
        {
            "cell_type": "code",
            "execution_count": 3,
            "source": [
                "import pandas as pd"
            ],
            "outputs": [],
            "metadata": {}
        },
        {
            "cell_type": "code",
            "execution_count": 7,
            "source": [
                "df = pd.read_csv('Connections.csv', skiprows=[0,1,2,48, 68, 84])\r\n",
                "df.head()"
            ],
            "outputs": [
                {
                    "output_type": "execute_result",
                    "data": {
                        "text/plain": [
                            "            First Name Last Name Email Address               Company  \\\n",
                            "0                Becky      Chen           NaN               Spotify   \n",
                            "1                Fiona     Vuong           NaN              AZN Zine   \n",
                            "2  Veronica (Tan-Ting)     Cheng           NaN        Kimberly-Clark   \n",
                            "3               Amanda    Rozhan           NaN  University of Exeter   \n",
                            "4                 Yeap     Lynee           NaN    Symworld marketing   \n",
                            "\n",
                            "                          Position Connected On  \n",
                            "0          Senior Product Designer    25-Jul-21  \n",
                            "1                  Layout Designer    20-Jul-21  \n",
                            "2      Management Trainee - Sales     11-Jul-21  \n",
                            "3         Legal Research Assistant    24-Jun-21  \n",
                            "4  E-commerce Marketing Specialist    24-Jun-21  "
                        ],
                        "text/html": [
                            "<div>\n",
                            "<style scoped>\n",
                            "    .dataframe tbody tr th:only-of-type {\n",
                            "        vertical-align: middle;\n",
                            "    }\n",
                            "\n",
                            "    .dataframe tbody tr th {\n",
                            "        vertical-align: top;\n",
                            "    }\n",
                            "\n",
                            "    .dataframe thead th {\n",
                            "        text-align: right;\n",
                            "    }\n",
                            "</style>\n",
                            "<table border=\"1\" class=\"dataframe\">\n",
                            "  <thead>\n",
                            "    <tr style=\"text-align: right;\">\n",
                            "      <th></th>\n",
                            "      <th>First Name</th>\n",
                            "      <th>Last Name</th>\n",
                            "      <th>Email Address</th>\n",
                            "      <th>Company</th>\n",
                            "      <th>Position</th>\n",
                            "      <th>Connected On</th>\n",
                            "    </tr>\n",
                            "  </thead>\n",
                            "  <tbody>\n",
                            "    <tr>\n",
                            "      <th>0</th>\n",
                            "      <td>Becky</td>\n",
                            "      <td>Chen</td>\n",
                            "      <td>NaN</td>\n",
                            "      <td>Spotify</td>\n",
                            "      <td>Senior Product Designer</td>\n",
                            "      <td>25-Jul-21</td>\n",
                            "    </tr>\n",
                            "    <tr>\n",
                            "      <th>1</th>\n",
                            "      <td>Fiona</td>\n",
                            "      <td>Vuong</td>\n",
                            "      <td>NaN</td>\n",
                            "      <td>AZN Zine</td>\n",
                            "      <td>Layout Designer</td>\n",
                            "      <td>20-Jul-21</td>\n",
                            "    </tr>\n",
                            "    <tr>\n",
                            "      <th>2</th>\n",
                            "      <td>Veronica (Tan-Ting)</td>\n",
                            "      <td>Cheng</td>\n",
                            "      <td>NaN</td>\n",
                            "      <td>Kimberly-Clark</td>\n",
                            "      <td>Management Trainee - Sales</td>\n",
                            "      <td>11-Jul-21</td>\n",
                            "    </tr>\n",
                            "    <tr>\n",
                            "      <th>3</th>\n",
                            "      <td>Amanda</td>\n",
                            "      <td>Rozhan</td>\n",
                            "      <td>NaN</td>\n",
                            "      <td>University of Exeter</td>\n",
                            "      <td>Legal Research Assistant</td>\n",
                            "      <td>24-Jun-21</td>\n",
                            "    </tr>\n",
                            "    <tr>\n",
                            "      <th>4</th>\n",
                            "      <td>Yeap</td>\n",
                            "      <td>Lynee</td>\n",
                            "      <td>NaN</td>\n",
                            "      <td>Symworld marketing</td>\n",
                            "      <td>E-commerce Marketing Specialist</td>\n",
                            "      <td>24-Jun-21</td>\n",
                            "    </tr>\n",
                            "  </tbody>\n",
                            "</table>\n",
                            "</div>"
                        ]
                    },
                    "metadata": {},
                    "execution_count": 7
                }
            ],
            "metadata": {}
        },
        {
            "cell_type": "code",
            "execution_count": 33,
            "source": [
                "import plotly.express as px\r\n",
                "px.treemap(df, path=['Company','Position'], width=1200, height=1200)\r\n"
            ],
            "outputs": [
                {
                    "output_type": "display_data",
                    "data": {
                        "application/vnd.plotly.v1+json": {
                            "config": {
                                "plotlyServerURL": "https://plot.ly"
                            },
                            "data": [
                                {
                                    "branchvalues": "total",
                                    "domain": {
                                        "x": [
                                            0,
                                            1
                                        ],
                                        "y": [
                                            0,
                                            1
                                        ]
                                    },
                                    "hovertemplate": "labels=%{label}<br>count=%{value}<br>parent=%{parent}<br>id=%{id}<extra></extra>",
                                    "ids": [
                                        "BSP Business Group/Account Manager",
                                        "Good Old Boat Magazine/Advertising Sales Director",
                                        "Garden International School/Alumni Relations",
                                        "Courtauld Institute of Art/Alumni Relations Manager",
                                        "Antler/Analyst Intern",
                                        "businessfourzero/Architect",
                                        "PAMONO/Art Sourcing Specialist",
                                        "Frieze/Assistant Content Editor",
                                        "Reform Radio/Assistant Operations Manager",
                                        "Kantar/Associate",
                                        "Nucleus Global/Associate Medical Writer",
                                        "Saward Dawson/Audit Associate",
                                        "Omeara Limited/Bar Staff",
                                        "Bernard Quaritch Ltd./Bookseller",
                                        "Procter & Gamble/Brand Management Intern",
                                        "BTS/Business Analyst",
                                        "PostCo/Business Development",
                                        "adtones/Business Development Executive",
                                        "Arthur/Business and Finance Associate",
                                        "Futurelab.my/CEO & Co-Founder",
                                        "Placemaking Malaysia/Chairperson",
                                        "PHOTOTECHNE INTERNATIONAL/Chief Technology Officer (CTO), Gallerist at Galerie Phototechne - social media curating ",
                                        "Azmas Rugs/Co-Founder",
                                        "Exotero Collective/Co-Founder",
                                        "BioLoop Sdn Bhd/Co-Founder & COO",
                                        "Photography Club At UCLA /Co-President",
                                        "Malaysiakini/Columnist",
                                        "National Library of Bulgaria/Conservation Studio Assistant",
                                        "House of Commons/Constituency Admin Officer to Vicky Foxcroft MP",
                                        "Consulum/Consultant",
                                        "ReShape Co./Consultant",
                                        "Roland Berger/Consultant",
                                        "Crab Lab CSU/Crab Lab Research Assistant",
                                        "Van Gogh House London/Creative Director",
                                        "Worcester Polytechnic Institute/Crimson Key Tour Guide",
                                        "MANK Nonprofit Kft./Cultural Projects and Marketing Manager",
                                        "Quaker Tapestry Museum/Curatorial Assistant",
                                        "Queens Museum/Curatorial Intern",
                                        "Barbican Centre/Curatorial Placement",
                                        "The National Gallery/Curatorial Trainee",
                                        "Sainsbury's/Customer Service Assistant",
                                        "Appen/Data Capturer",
                                        "Drawing Matter/Deputy Director",
                                        "Cake Experiential Communications/Digital Art Director",
                                        "The Straits Times/Digital Sub-Editor",
                                        "MIT SSP (Security Studies Program) /Director",
                                        "Mint Art Gallery/Director",
                                        "Symworld marketing/E-commerce Marketing Specialist",
                                        "Self-employed/English Tutor",
                                        "Nelly Duff/Exhibition Assistant",
                                        "The Samuel Dorsky Museum of Art/Exhibition Coordinator",
                                        "Courtauld Institute of Art/Founder",
                                        "Atlas Gourmet Market/Freelance Graphic Designer",
                                        "Ray Sadri Associates/Freelance Video Editor",
                                        "Courtauld Institute of Art/Freelance Writer at The Courtauldian Student Newspaper",
                                        "Epoch Museum/Gallery Assistant",
                                        "NıCOLETTı Contemporary/Gallery Assistant",
                                        "Olivier Malingue/Gallery Assistant",
                                        "Sir Denis Mahon Foundation/Gallery Assistant",
                                        "No 20 Arts/Gallery Coordinator",
                                        "Saatchi/Gallery Retail Assistant ",
                                        "ML PERFORMANCE LIMITED/Graduate Associate",
                                        "Touch 'n Go Sdn Bhd/Graduate Associate",
                                        "A la mesa /Graphic Designer",
                                        "ITD Global /Graphic Designer Marketing Assistant",
                                        "Givaudan/Head of Flavors Operations NOAM",
                                        "Shiplake College/Head of History",
                                        "1-54 Contemporary African Art Fair/Head of Public Programming and Editor",
                                        "The International School of Kuala Lumpur/IB Japanese Language & Literature and TOK Teacher/ CAS Coordinator",
                                        "CIMB/Independent non-executive director",
                                        "ExxonMobil/Information Technology Engineer",
                                        "1337 Ventures/Intern",
                                        "Opera Gallery Group/Intern",
                                        "Raintree Asset Management Pte Ltd/Intern",
                                        "The International School of Kuala Lumpur/Intern",
                                        "Hospital Kuala Lumpur/Intern Assistant",
                                        "Berkeley Women in Business/Internal Vice President",
                                        "City of Sydney/International Engagement Intern",
                                        "Best Wide Engineering (M) SDN.BHD/Internship",
                                        "Bank of America Merrill Lynch/Investment Banking Summer Analyst",
                                        "1818/Investor Relations Manager",
                                        "Procter & Gamble/Key Account Manager",
                                        "James Allen's Girls' School/Language Assistant",
                                        "AZN Zine/Layout Designer",
                                        "Viberent, Inc/Lead Prototyping Engineer",
                                        "Legal Cheek/Legal Cheek Summer Vacation Scheme",
                                        "University of Exeter/Legal Research Assistant",
                                        "University of Glasgow/MLitt Technical Art History Class Representative",
                                        "Kimberly-Clark/Management Trainee - Sales ",
                                        "MyCreative Ventures Sdn. Bhd./Manager, Corporate Communications ",
                                        "The Cambridge Journal of Law, Politics, and Art/Managing Editor and Web Designer",
                                        "Edinburgh Genetics/Marketing ",
                                        "The Economist's Society - UCL/Marketing Executive",
                                        "Loughborough Students' Union/Multimedia Officer",
                                        "Schroders/Official Institutions Strategic Client Group Summer Analyst",
                                        "EYERise/Partner",
                                        "Zain & Co, member of Dentons/Partner",
                                        "Brown University/Peer Career Advisor",
                                        "The Brilliant Club/Personal Assistant to the Chief Operating Officer",
                                        "Randox Clinical Laboratory Services (RCLS)/Placement Student/Laboratory Assistant",
                                        "Julius Baer/Private Banking Intern at Julius Baer",
                                        "TUTOPIA LIMITED/Private Tutor",
                                        "Goodlord/Product Operations Executive",
                                        "Profesional independiente/Profesora particular",
                                        "Thrive Well/Program Coordinator",
                                        "Royal Academy of Arts/Programme Administrator",
                                        "Imperial War Museums/Project Officer: 14-18 NOW Legacy Programme",
                                        "SOLS Health/Research Assistant",
                                        "UBC Sauder School of Business/Research Assistant",
                                        "SOLS Health/Research Assistant Intern",
                                        "Rupert/Residency Programme Intern",
                                        "KeyBank/Risk Management Analyst",
                                        "Catalog Ltd/Sales Assistant",
                                        "Cotton On Group/Sales Assistant",
                                        "Victoria Miro/Sales Team Coordinator and Sales Administrator",
                                        "The Winsor School/Senior Philanthropic Advisor ",
                                        "Spotify/Senior Product Designer",
                                        "DukeEngage - A Program of Duke University/Site Coordinator",
                                        "Dazed Media/Social Media Coordinator",
                                        "Danse Lente/Social Media Marketing Manager",
                                        "Kensington + Chelsea Festival/Social Media and Marketing Strategist",
                                        "PayNet (Payments Network Malaysia)/Software Engineer",
                                        "Juris Technologies/Software Engineer Intern",
                                        "Bow&Arrow/Strategist",
                                        "Thames & Hudson/Student Intern",
                                        "OAK + FORT/Style Advisor",
                                        "Citi/Summer Analyst",
                                        "Craster/Supply Chain Assistant",
                                        "APALTS LIMITED/Tailor",
                                        "New York University/Teaching Assistant - Computer Architecture and Organization",
                                        "The University of Hong Kong/Teaching Assistant, Art History",
                                        "The British Museum/Tour Guide - Medieval Galleries",
                                        "Victoria and Albert Museum/Tour Guide and Visitor Experience Volunteer",
                                        "UCL/Transition Mentor",
                                        "Orange/UX Designer, XR-Cloud Services",
                                        "KPMG Australia/University of Melbourne - Student Management Consulting",
                                        "Victoria University of Wellington Cultures United/Vice President of Communications",
                                        "The Business Society @HWU/Vice-President",
                                        "1-54 Contemporary African Art Fair",
                                        "1337 Ventures",
                                        "1818",
                                        "A la mesa ",
                                        "APALTS LIMITED",
                                        "AZN Zine",
                                        "Antler",
                                        "Appen",
                                        "Arthur",
                                        "Atlas Gourmet Market",
                                        "Azmas Rugs",
                                        "BSP Business Group",
                                        "BTS",
                                        "Bank of America Merrill Lynch",
                                        "Barbican Centre",
                                        "Berkeley Women in Business",
                                        "Bernard Quaritch Ltd.",
                                        "Best Wide Engineering (M) SDN.BHD",
                                        "BioLoop Sdn Bhd",
                                        "Bow&Arrow",
                                        "Brown University",
                                        "CIMB",
                                        "Cake Experiential Communications",
                                        "Catalog Ltd",
                                        "Citi",
                                        "City of Sydney",
                                        "Consulum",
                                        "Cotton On Group",
                                        "Courtauld Institute of Art",
                                        "Crab Lab CSU",
                                        "Craster",
                                        "Danse Lente",
                                        "Dazed Media",
                                        "Drawing Matter",
                                        "DukeEngage - A Program of Duke University",
                                        "EYERise",
                                        "Edinburgh Genetics",
                                        "Epoch Museum",
                                        "Exotero Collective",
                                        "ExxonMobil",
                                        "Frieze",
                                        "Futurelab.my",
                                        "Garden International School",
                                        "Givaudan",
                                        "Good Old Boat Magazine",
                                        "Goodlord",
                                        "Hospital Kuala Lumpur",
                                        "House of Commons",
                                        "ITD Global ",
                                        "Imperial War Museums",
                                        "James Allen's Girls' School",
                                        "Julius Baer",
                                        "Juris Technologies",
                                        "KPMG Australia",
                                        "Kantar",
                                        "Kensington + Chelsea Festival",
                                        "KeyBank",
                                        "Kimberly-Clark",
                                        "Legal Cheek",
                                        "Loughborough Students' Union",
                                        "MANK Nonprofit Kft.",
                                        "MIT SSP (Security Studies Program) ",
                                        "ML PERFORMANCE LIMITED",
                                        "Malaysiakini",
                                        "Mint Art Gallery",
                                        "MyCreative Ventures Sdn. Bhd.",
                                        "National Library of Bulgaria",
                                        "Nelly Duff",
                                        "New York University",
                                        "No 20 Arts",
                                        "Nucleus Global",
                                        "NıCOLETTı Contemporary",
                                        "OAK + FORT",
                                        "Olivier Malingue",
                                        "Omeara Limited",
                                        "Opera Gallery Group",
                                        "Orange",
                                        "PAMONO",
                                        "PHOTOTECHNE INTERNATIONAL",
                                        "PayNet (Payments Network Malaysia)",
                                        "Photography Club At UCLA ",
                                        "Placemaking Malaysia",
                                        "PostCo",
                                        "Procter & Gamble",
                                        "Profesional independiente",
                                        "Quaker Tapestry Museum",
                                        "Queens Museum",
                                        "Raintree Asset Management Pte Ltd",
                                        "Randox Clinical Laboratory Services (RCLS)",
                                        "Ray Sadri Associates",
                                        "ReShape Co.",
                                        "Reform Radio",
                                        "Roland Berger",
                                        "Royal Academy of Arts",
                                        "Rupert",
                                        "SOLS Health",
                                        "Saatchi",
                                        "Sainsbury's",
                                        "Saward Dawson",
                                        "Schroders",
                                        "Self-employed",
                                        "Shiplake College",
                                        "Sir Denis Mahon Foundation",
                                        "Spotify",
                                        "Symworld marketing",
                                        "TUTOPIA LIMITED",
                                        "Thames & Hudson",
                                        "The Brilliant Club",
                                        "The British Museum",
                                        "The Business Society @HWU",
                                        "The Cambridge Journal of Law, Politics, and Art",
                                        "The Economist's Society - UCL",
                                        "The International School of Kuala Lumpur",
                                        "The National Gallery",
                                        "The Samuel Dorsky Museum of Art",
                                        "The Straits Times",
                                        "The University of Hong Kong",
                                        "The Winsor School",
                                        "Thrive Well",
                                        "Touch 'n Go Sdn Bhd",
                                        "UBC Sauder School of Business",
                                        "UCL",
                                        "University of Exeter",
                                        "University of Glasgow",
                                        "Van Gogh House London",
                                        "Viberent, Inc",
                                        "Victoria Miro",
                                        "Victoria University of Wellington Cultures United",
                                        "Victoria and Albert Museum",
                                        "Worcester Polytechnic Institute",
                                        "Zain & Co, member of Dentons",
                                        "adtones",
                                        "businessfourzero"
                                    ],
                                    "labels": [
                                        "Account Manager",
                                        "Advertising Sales Director",
                                        "Alumni Relations",
                                        "Alumni Relations Manager",
                                        "Analyst Intern",
                                        "Architect",
                                        "Art Sourcing Specialist",
                                        "Assistant Content Editor",
                                        "Assistant Operations Manager",
                                        "Associate",
                                        "Associate Medical Writer",
                                        "Audit Associate",
                                        "Bar Staff",
                                        "Bookseller",
                                        "Brand Management Intern",
                                        "Business Analyst",
                                        "Business Development",
                                        "Business Development Executive",
                                        "Business and Finance Associate",
                                        "CEO & Co-Founder",
                                        "Chairperson",
                                        "Chief Technology Officer (CTO), Gallerist at Galerie Phototechne - social media curating ",
                                        "Co-Founder",
                                        "Co-Founder",
                                        "Co-Founder & COO",
                                        "Co-President",
                                        "Columnist",
                                        "Conservation Studio Assistant",
                                        "Constituency Admin Officer to Vicky Foxcroft MP",
                                        "Consultant",
                                        "Consultant",
                                        "Consultant",
                                        "Crab Lab Research Assistant",
                                        "Creative Director",
                                        "Crimson Key Tour Guide",
                                        "Cultural Projects and Marketing Manager",
                                        "Curatorial Assistant",
                                        "Curatorial Intern",
                                        "Curatorial Placement",
                                        "Curatorial Trainee",
                                        "Customer Service Assistant",
                                        "Data Capturer",
                                        "Deputy Director",
                                        "Digital Art Director",
                                        "Digital Sub-Editor",
                                        "Director",
                                        "Director",
                                        "E-commerce Marketing Specialist",
                                        "English Tutor",
                                        "Exhibition Assistant",
                                        "Exhibition Coordinator",
                                        "Founder",
                                        "Freelance Graphic Designer",
                                        "Freelance Video Editor",
                                        "Freelance Writer at The Courtauldian Student Newspaper",
                                        "Gallery Assistant",
                                        "Gallery Assistant",
                                        "Gallery Assistant",
                                        "Gallery Assistant",
                                        "Gallery Coordinator",
                                        "Gallery Retail Assistant ",
                                        "Graduate Associate",
                                        "Graduate Associate",
                                        "Graphic Designer",
                                        "Graphic Designer Marketing Assistant",
                                        "Head of Flavors Operations NOAM",
                                        "Head of History",
                                        "Head of Public Programming and Editor",
                                        "IB Japanese Language & Literature and TOK Teacher/ CAS Coordinator",
                                        "Independent non-executive director",
                                        "Information Technology Engineer",
                                        "Intern",
                                        "Intern",
                                        "Intern",
                                        "Intern",
                                        "Intern Assistant",
                                        "Internal Vice President",
                                        "International Engagement Intern",
                                        "Internship",
                                        "Investment Banking Summer Analyst",
                                        "Investor Relations Manager",
                                        "Key Account Manager",
                                        "Language Assistant",
                                        "Layout Designer",
                                        "Lead Prototyping Engineer",
                                        "Legal Cheek Summer Vacation Scheme",
                                        "Legal Research Assistant",
                                        "MLitt Technical Art History Class Representative",
                                        "Management Trainee - Sales ",
                                        "Manager, Corporate Communications ",
                                        "Managing Editor and Web Designer",
                                        "Marketing ",
                                        "Marketing Executive",
                                        "Multimedia Officer",
                                        "Official Institutions Strategic Client Group Summer Analyst",
                                        "Partner",
                                        "Partner",
                                        "Peer Career Advisor",
                                        "Personal Assistant to the Chief Operating Officer",
                                        "Placement Student/Laboratory Assistant",
                                        "Private Banking Intern at Julius Baer",
                                        "Private Tutor",
                                        "Product Operations Executive",
                                        "Profesora particular",
                                        "Program Coordinator",
                                        "Programme Administrator",
                                        "Project Officer: 14-18 NOW Legacy Programme",
                                        "Research Assistant",
                                        "Research Assistant",
                                        "Research Assistant Intern",
                                        "Residency Programme Intern",
                                        "Risk Management Analyst",
                                        "Sales Assistant",
                                        "Sales Assistant",
                                        "Sales Team Coordinator and Sales Administrator",
                                        "Senior Philanthropic Advisor ",
                                        "Senior Product Designer",
                                        "Site Coordinator",
                                        "Social Media Coordinator",
                                        "Social Media Marketing Manager",
                                        "Social Media and Marketing Strategist",
                                        "Software Engineer",
                                        "Software Engineer Intern",
                                        "Strategist",
                                        "Student Intern",
                                        "Style Advisor",
                                        "Summer Analyst",
                                        "Supply Chain Assistant",
                                        "Tailor",
                                        "Teaching Assistant - Computer Architecture and Organization",
                                        "Teaching Assistant, Art History",
                                        "Tour Guide - Medieval Galleries",
                                        "Tour Guide and Visitor Experience Volunteer",
                                        "Transition Mentor",
                                        "UX Designer, XR-Cloud Services",
                                        "University of Melbourne - Student Management Consulting",
                                        "Vice President of Communications",
                                        "Vice-President",
                                        "1-54 Contemporary African Art Fair",
                                        "1337 Ventures",
                                        "1818",
                                        "A la mesa ",
                                        "APALTS LIMITED",
                                        "AZN Zine",
                                        "Antler",
                                        "Appen",
                                        "Arthur",
                                        "Atlas Gourmet Market",
                                        "Azmas Rugs",
                                        "BSP Business Group",
                                        "BTS",
                                        "Bank of America Merrill Lynch",
                                        "Barbican Centre",
                                        "Berkeley Women in Business",
                                        "Bernard Quaritch Ltd.",
                                        "Best Wide Engineering (M) SDN.BHD",
                                        "BioLoop Sdn Bhd",
                                        "Bow&Arrow",
                                        "Brown University",
                                        "CIMB",
                                        "Cake Experiential Communications",
                                        "Catalog Ltd",
                                        "Citi",
                                        "City of Sydney",
                                        "Consulum",
                                        "Cotton On Group",
                                        "Courtauld Institute of Art",
                                        "Crab Lab CSU",
                                        "Craster",
                                        "Danse Lente",
                                        "Dazed Media",
                                        "Drawing Matter",
                                        "DukeEngage - A Program of Duke University",
                                        "EYERise",
                                        "Edinburgh Genetics",
                                        "Epoch Museum",
                                        "Exotero Collective",
                                        "ExxonMobil",
                                        "Frieze",
                                        "Futurelab.my",
                                        "Garden International School",
                                        "Givaudan",
                                        "Good Old Boat Magazine",
                                        "Goodlord",
                                        "Hospital Kuala Lumpur",
                                        "House of Commons",
                                        "ITD Global ",
                                        "Imperial War Museums",
                                        "James Allen's Girls' School",
                                        "Julius Baer",
                                        "Juris Technologies",
                                        "KPMG Australia",
                                        "Kantar",
                                        "Kensington + Chelsea Festival",
                                        "KeyBank",
                                        "Kimberly-Clark",
                                        "Legal Cheek",
                                        "Loughborough Students' Union",
                                        "MANK Nonprofit Kft.",
                                        "MIT SSP (Security Studies Program) ",
                                        "ML PERFORMANCE LIMITED",
                                        "Malaysiakini",
                                        "Mint Art Gallery",
                                        "MyCreative Ventures Sdn. Bhd.",
                                        "National Library of Bulgaria",
                                        "Nelly Duff",
                                        "New York University",
                                        "No 20 Arts",
                                        "Nucleus Global",
                                        "NıCOLETTı Contemporary",
                                        "OAK + FORT",
                                        "Olivier Malingue",
                                        "Omeara Limited",
                                        "Opera Gallery Group",
                                        "Orange",
                                        "PAMONO",
                                        "PHOTOTECHNE INTERNATIONAL",
                                        "PayNet (Payments Network Malaysia)",
                                        "Photography Club At UCLA ",
                                        "Placemaking Malaysia",
                                        "PostCo",
                                        "Procter & Gamble",
                                        "Profesional independiente",
                                        "Quaker Tapestry Museum",
                                        "Queens Museum",
                                        "Raintree Asset Management Pte Ltd",
                                        "Randox Clinical Laboratory Services (RCLS)",
                                        "Ray Sadri Associates",
                                        "ReShape Co.",
                                        "Reform Radio",
                                        "Roland Berger",
                                        "Royal Academy of Arts",
                                        "Rupert",
                                        "SOLS Health",
                                        "Saatchi",
                                        "Sainsbury's",
                                        "Saward Dawson",
                                        "Schroders",
                                        "Self-employed",
                                        "Shiplake College",
                                        "Sir Denis Mahon Foundation",
                                        "Spotify",
                                        "Symworld marketing",
                                        "TUTOPIA LIMITED",
                                        "Thames & Hudson",
                                        "The Brilliant Club",
                                        "The British Museum",
                                        "The Business Society @HWU",
                                        "The Cambridge Journal of Law, Politics, and Art",
                                        "The Economist's Society - UCL",
                                        "The International School of Kuala Lumpur",
                                        "The National Gallery",
                                        "The Samuel Dorsky Museum of Art",
                                        "The Straits Times",
                                        "The University of Hong Kong",
                                        "The Winsor School",
                                        "Thrive Well",
                                        "Touch 'n Go Sdn Bhd",
                                        "UBC Sauder School of Business",
                                        "UCL",
                                        "University of Exeter",
                                        "University of Glasgow",
                                        "Van Gogh House London",
                                        "Viberent, Inc",
                                        "Victoria Miro",
                                        "Victoria University of Wellington Cultures United",
                                        "Victoria and Albert Museum",
                                        "Worcester Polytechnic Institute",
                                        "Zain & Co, member of Dentons",
                                        "adtones",
                                        "businessfourzero"
                                    ],
                                    "name": "",
                                    "parents": [
                                        "BSP Business Group",
                                        "Good Old Boat Magazine",
                                        "Garden International School",
                                        "Courtauld Institute of Art",
                                        "Antler",
                                        "businessfourzero",
                                        "PAMONO",
                                        "Frieze",
                                        "Reform Radio",
                                        "Kantar",
                                        "Nucleus Global",
                                        "Saward Dawson",
                                        "Omeara Limited",
                                        "Bernard Quaritch Ltd.",
                                        "Procter & Gamble",
                                        "BTS",
                                        "PostCo",
                                        "adtones",
                                        "Arthur",
                                        "Futurelab.my",
                                        "Placemaking Malaysia",
                                        "PHOTOTECHNE INTERNATIONAL",
                                        "Azmas Rugs",
                                        "Exotero Collective",
                                        "BioLoop Sdn Bhd",
                                        "Photography Club At UCLA ",
                                        "Malaysiakini",
                                        "National Library of Bulgaria",
                                        "House of Commons",
                                        "Consulum",
                                        "ReShape Co.",
                                        "Roland Berger",
                                        "Crab Lab CSU",
                                        "Van Gogh House London",
                                        "Worcester Polytechnic Institute",
                                        "MANK Nonprofit Kft.",
                                        "Quaker Tapestry Museum",
                                        "Queens Museum",
                                        "Barbican Centre",
                                        "The National Gallery",
                                        "Sainsbury's",
                                        "Appen",
                                        "Drawing Matter",
                                        "Cake Experiential Communications",
                                        "The Straits Times",
                                        "MIT SSP (Security Studies Program) ",
                                        "Mint Art Gallery",
                                        "Symworld marketing",
                                        "Self-employed",
                                        "Nelly Duff",
                                        "The Samuel Dorsky Museum of Art",
                                        "Courtauld Institute of Art",
                                        "Atlas Gourmet Market",
                                        "Ray Sadri Associates",
                                        "Courtauld Institute of Art",
                                        "Epoch Museum",
                                        "NıCOLETTı Contemporary",
                                        "Olivier Malingue",
                                        "Sir Denis Mahon Foundation",
                                        "No 20 Arts",
                                        "Saatchi",
                                        "ML PERFORMANCE LIMITED",
                                        "Touch 'n Go Sdn Bhd",
                                        "A la mesa ",
                                        "ITD Global ",
                                        "Givaudan",
                                        "Shiplake College",
                                        "1-54 Contemporary African Art Fair",
                                        "The International School of Kuala Lumpur",
                                        "CIMB",
                                        "ExxonMobil",
                                        "1337 Ventures",
                                        "Opera Gallery Group",
                                        "Raintree Asset Management Pte Ltd",
                                        "The International School of Kuala Lumpur",
                                        "Hospital Kuala Lumpur",
                                        "Berkeley Women in Business",
                                        "City of Sydney",
                                        "Best Wide Engineering (M) SDN.BHD",
                                        "Bank of America Merrill Lynch",
                                        "1818",
                                        "Procter & Gamble",
                                        "James Allen's Girls' School",
                                        "AZN Zine",
                                        "Viberent, Inc",
                                        "Legal Cheek",
                                        "University of Exeter",
                                        "University of Glasgow",
                                        "Kimberly-Clark",
                                        "MyCreative Ventures Sdn. Bhd.",
                                        "The Cambridge Journal of Law, Politics, and Art",
                                        "Edinburgh Genetics",
                                        "The Economist's Society - UCL",
                                        "Loughborough Students' Union",
                                        "Schroders",
                                        "EYERise",
                                        "Zain & Co, member of Dentons",
                                        "Brown University",
                                        "The Brilliant Club",
                                        "Randox Clinical Laboratory Services (RCLS)",
                                        "Julius Baer",
                                        "TUTOPIA LIMITED",
                                        "Goodlord",
                                        "Profesional independiente",
                                        "Thrive Well",
                                        "Royal Academy of Arts",
                                        "Imperial War Museums",
                                        "SOLS Health",
                                        "UBC Sauder School of Business",
                                        "SOLS Health",
                                        "Rupert",
                                        "KeyBank",
                                        "Catalog Ltd",
                                        "Cotton On Group",
                                        "Victoria Miro",
                                        "The Winsor School",
                                        "Spotify",
                                        "DukeEngage - A Program of Duke University",
                                        "Dazed Media",
                                        "Danse Lente",
                                        "Kensington + Chelsea Festival",
                                        "PayNet (Payments Network Malaysia)",
                                        "Juris Technologies",
                                        "Bow&Arrow",
                                        "Thames & Hudson",
                                        "OAK + FORT",
                                        "Citi",
                                        "Craster",
                                        "APALTS LIMITED",
                                        "New York University",
                                        "The University of Hong Kong",
                                        "The British Museum",
                                        "Victoria and Albert Museum",
                                        "UCL",
                                        "Orange",
                                        "KPMG Australia",
                                        "Victoria University of Wellington Cultures United",
                                        "The Business Society @HWU",
                                        "",
                                        "",
                                        "",
                                        "",
                                        "",
                                        "",
                                        "",
                                        "",
                                        "",
                                        "",
                                        "",
                                        "",
                                        "",
                                        "",
                                        "",
                                        "",
                                        "",
                                        "",
                                        "",
                                        "",
                                        "",
                                        "",
                                        "",
                                        "",
                                        "",
                                        "",
                                        "",
                                        "",
                                        "",
                                        "",
                                        "",
                                        "",
                                        "",
                                        "",
                                        "",
                                        "",
                                        "",
                                        "",
                                        "",
                                        "",
                                        "",
                                        "",
                                        "",
                                        "",
                                        "",
                                        "",
                                        "",
                                        "",
                                        "",
                                        "",
                                        "",
                                        "",
                                        "",
                                        "",
                                        "",
                                        "",
                                        "",
                                        "",
                                        "",
                                        "",
                                        "",
                                        "",
                                        "",
                                        "",
                                        "",
                                        "",
                                        "",
                                        "",
                                        "",
                                        "",
                                        "",
                                        "",
                                        "",
                                        "",
                                        "",
                                        "",
                                        "",
                                        "",
                                        "",
                                        "",
                                        "",
                                        "",
                                        "",
                                        "",
                                        "",
                                        "",
                                        "",
                                        "",
                                        "",
                                        "",
                                        "",
                                        "",
                                        "",
                                        "",
                                        "",
                                        "",
                                        "",
                                        "",
                                        "",
                                        "",
                                        "",
                                        "",
                                        "",
                                        "",
                                        "",
                                        "",
                                        "",
                                        "",
                                        "",
                                        "",
                                        "",
                                        "",
                                        "",
                                        "",
                                        "",
                                        "",
                                        "",
                                        "",
                                        "",
                                        "",
                                        "",
                                        "",
                                        "",
                                        "",
                                        "",
                                        "",
                                        "",
                                        "",
                                        "",
                                        "",
                                        "",
                                        "",
                                        ""
                                    ],
                                    "type": "treemap",
                                    "values": [
                                        1,
                                        1,
                                        1,
                                        1,
                                        1,
                                        1,
                                        1,
                                        1,
                                        1,
                                        1,
                                        1,
                                        1,
                                        1,
                                        1,
                                        1,
                                        1,
                                        1,
                                        1,
                                        1,
                                        1,
                                        1,
                                        1,
                                        1,
                                        1,
                                        1,
                                        1,
                                        1,
                                        1,
                                        1,
                                        1,
                                        1,
                                        1,
                                        1,
                                        1,
                                        1,
                                        1,
                                        1,
                                        1,
                                        1,
                                        1,
                                        1,
                                        1,
                                        1,
                                        1,
                                        1,
                                        1,
                                        1,
                                        1,
                                        1,
                                        1,
                                        1,
                                        1,
                                        1,
                                        1,
                                        1,
                                        1,
                                        1,
                                        1,
                                        1,
                                        1,
                                        1,
                                        1,
                                        1,
                                        1,
                                        1,
                                        1,
                                        1,
                                        1,
                                        1,
                                        1,
                                        1,
                                        1,
                                        1,
                                        1,
                                        1,
                                        1,
                                        1,
                                        1,
                                        1,
                                        1,
                                        1,
                                        1,
                                        1,
                                        1,
                                        1,
                                        1,
                                        1,
                                        1,
                                        1,
                                        1,
                                        1,
                                        1,
                                        1,
                                        1,
                                        1,
                                        1,
                                        1,
                                        1,
                                        1,
                                        1,
                                        1,
                                        1,
                                        1,
                                        1,
                                        1,
                                        1,
                                        1,
                                        1,
                                        1,
                                        1,
                                        1,
                                        1,
                                        1,
                                        1,
                                        1,
                                        1,
                                        1,
                                        1,
                                        1,
                                        1,
                                        1,
                                        1,
                                        1,
                                        1,
                                        1,
                                        1,
                                        1,
                                        1,
                                        1,
                                        1,
                                        1,
                                        1,
                                        1,
                                        1,
                                        1,
                                        1,
                                        1,
                                        1,
                                        1,
                                        1,
                                        1,
                                        1,
                                        1,
                                        1,
                                        1,
                                        1,
                                        1,
                                        1,
                                        1,
                                        1,
                                        1,
                                        1,
                                        1,
                                        1,
                                        1,
                                        1,
                                        1,
                                        1,
                                        1,
                                        1,
                                        1,
                                        1,
                                        1,
                                        1,
                                        1,
                                        1,
                                        3,
                                        1,
                                        1,
                                        1,
                                        1,
                                        1,
                                        1,
                                        1,
                                        1,
                                        1,
                                        1,
                                        1,
                                        1,
                                        1,
                                        1,
                                        1,
                                        1,
                                        1,
                                        1,
                                        1,
                                        1,
                                        1,
                                        1,
                                        1,
                                        1,
                                        1,
                                        1,
                                        1,
                                        1,
                                        1,
                                        1,
                                        1,
                                        1,
                                        1,
                                        1,
                                        1,
                                        1,
                                        1,
                                        1,
                                        1,
                                        1,
                                        1,
                                        1,
                                        1,
                                        1,
                                        1,
                                        1,
                                        1,
                                        1,
                                        1,
                                        1,
                                        1,
                                        1,
                                        1,
                                        1,
                                        2,
                                        1,
                                        1,
                                        1,
                                        1,
                                        1,
                                        1,
                                        1,
                                        1,
                                        1,
                                        1,
                                        1,
                                        2,
                                        1,
                                        1,
                                        1,
                                        1,
                                        1,
                                        1,
                                        1,
                                        1,
                                        1,
                                        1,
                                        1,
                                        1,
                                        1,
                                        1,
                                        1,
                                        1,
                                        2,
                                        1,
                                        1,
                                        1,
                                        1,
                                        1,
                                        1,
                                        1,
                                        1,
                                        1,
                                        1,
                                        1,
                                        1,
                                        1,
                                        1,
                                        1,
                                        1,
                                        1,
                                        1,
                                        1,
                                        1
                                    ]
                                }
                            ],
                            "layout": {
                                "height": 1200,
                                "legend": {
                                    "tracegroupgap": 0
                                },
                                "margin": {
                                    "t": 60
                                },
                                "template": {
                                    "data": {
                                        "bar": [
                                            {
                                                "error_x": {
                                                    "color": "#2a3f5f"
                                                },
                                                "error_y": {
                                                    "color": "#2a3f5f"
                                                },
                                                "marker": {
                                                    "line": {
                                                        "color": "#E5ECF6",
                                                        "width": 0.5
                                                    },
                                                    "pattern": {
                                                        "fillmode": "overlay",
                                                        "size": 10,
                                                        "solidity": 0.2
                                                    }
                                                },
                                                "type": "bar"
                                            }
                                        ],
                                        "barpolar": [
                                            {
                                                "marker": {
                                                    "line": {
                                                        "color": "#E5ECF6",
                                                        "width": 0.5
                                                    },
                                                    "pattern": {
                                                        "fillmode": "overlay",
                                                        "size": 10,
                                                        "solidity": 0.2
                                                    }
                                                },
                                                "type": "barpolar"
                                            }
                                        ],
                                        "carpet": [
                                            {
                                                "aaxis": {
                                                    "endlinecolor": "#2a3f5f",
                                                    "gridcolor": "white",
                                                    "linecolor": "white",
                                                    "minorgridcolor": "white",
                                                    "startlinecolor": "#2a3f5f"
                                                },
                                                "baxis": {
                                                    "endlinecolor": "#2a3f5f",
                                                    "gridcolor": "white",
                                                    "linecolor": "white",
                                                    "minorgridcolor": "white",
                                                    "startlinecolor": "#2a3f5f"
                                                },
                                                "type": "carpet"
                                            }
                                        ],
                                        "choropleth": [
                                            {
                                                "colorbar": {
                                                    "outlinewidth": 0,
                                                    "ticks": ""
                                                },
                                                "type": "choropleth"
                                            }
                                        ],
                                        "contour": [
                                            {
                                                "colorbar": {
                                                    "outlinewidth": 0,
                                                    "ticks": ""
                                                },
                                                "colorscale": [
                                                    [
                                                        0,
                                                        "#0d0887"
                                                    ],
                                                    [
                                                        0.1111111111111111,
                                                        "#46039f"
                                                    ],
                                                    [
                                                        0.2222222222222222,
                                                        "#7201a8"
                                                    ],
                                                    [
                                                        0.3333333333333333,
                                                        "#9c179e"
                                                    ],
                                                    [
                                                        0.4444444444444444,
                                                        "#bd3786"
                                                    ],
                                                    [
                                                        0.5555555555555556,
                                                        "#d8576b"
                                                    ],
                                                    [
                                                        0.6666666666666666,
                                                        "#ed7953"
                                                    ],
                                                    [
                                                        0.7777777777777778,
                                                        "#fb9f3a"
                                                    ],
                                                    [
                                                        0.8888888888888888,
                                                        "#fdca26"
                                                    ],
                                                    [
                                                        1,
                                                        "#f0f921"
                                                    ]
                                                ],
                                                "type": "contour"
                                            }
                                        ],
                                        "contourcarpet": [
                                            {
                                                "colorbar": {
                                                    "outlinewidth": 0,
                                                    "ticks": ""
                                                },
                                                "type": "contourcarpet"
                                            }
                                        ],
                                        "heatmap": [
                                            {
                                                "colorbar": {
                                                    "outlinewidth": 0,
                                                    "ticks": ""
                                                },
                                                "colorscale": [
                                                    [
                                                        0,
                                                        "#0d0887"
                                                    ],
                                                    [
                                                        0.1111111111111111,
                                                        "#46039f"
                                                    ],
                                                    [
                                                        0.2222222222222222,
                                                        "#7201a8"
                                                    ],
                                                    [
                                                        0.3333333333333333,
                                                        "#9c179e"
                                                    ],
                                                    [
                                                        0.4444444444444444,
                                                        "#bd3786"
                                                    ],
                                                    [
                                                        0.5555555555555556,
                                                        "#d8576b"
                                                    ],
                                                    [
                                                        0.6666666666666666,
                                                        "#ed7953"
                                                    ],
                                                    [
                                                        0.7777777777777778,
                                                        "#fb9f3a"
                                                    ],
                                                    [
                                                        0.8888888888888888,
                                                        "#fdca26"
                                                    ],
                                                    [
                                                        1,
                                                        "#f0f921"
                                                    ]
                                                ],
                                                "type": "heatmap"
                                            }
                                        ],
                                        "heatmapgl": [
                                            {
                                                "colorbar": {
                                                    "outlinewidth": 0,
                                                    "ticks": ""
                                                },
                                                "colorscale": [
                                                    [
                                                        0,
                                                        "#0d0887"
                                                    ],
                                                    [
                                                        0.1111111111111111,
                                                        "#46039f"
                                                    ],
                                                    [
                                                        0.2222222222222222,
                                                        "#7201a8"
                                                    ],
                                                    [
                                                        0.3333333333333333,
                                                        "#9c179e"
                                                    ],
                                                    [
                                                        0.4444444444444444,
                                                        "#bd3786"
                                                    ],
                                                    [
                                                        0.5555555555555556,
                                                        "#d8576b"
                                                    ],
                                                    [
                                                        0.6666666666666666,
                                                        "#ed7953"
                                                    ],
                                                    [
                                                        0.7777777777777778,
                                                        "#fb9f3a"
                                                    ],
                                                    [
                                                        0.8888888888888888,
                                                        "#fdca26"
                                                    ],
                                                    [
                                                        1,
                                                        "#f0f921"
                                                    ]
                                                ],
                                                "type": "heatmapgl"
                                            }
                                        ],
                                        "histogram": [
                                            {
                                                "marker": {
                                                    "pattern": {
                                                        "fillmode": "overlay",
                                                        "size": 10,
                                                        "solidity": 0.2
                                                    }
                                                },
                                                "type": "histogram"
                                            }
                                        ],
                                        "histogram2d": [
                                            {
                                                "colorbar": {
                                                    "outlinewidth": 0,
                                                    "ticks": ""
                                                },
                                                "colorscale": [
                                                    [
                                                        0,
                                                        "#0d0887"
                                                    ],
                                                    [
                                                        0.1111111111111111,
                                                        "#46039f"
                                                    ],
                                                    [
                                                        0.2222222222222222,
                                                        "#7201a8"
                                                    ],
                                                    [
                                                        0.3333333333333333,
                                                        "#9c179e"
                                                    ],
                                                    [
                                                        0.4444444444444444,
                                                        "#bd3786"
                                                    ],
                                                    [
                                                        0.5555555555555556,
                                                        "#d8576b"
                                                    ],
                                                    [
                                                        0.6666666666666666,
                                                        "#ed7953"
                                                    ],
                                                    [
                                                        0.7777777777777778,
                                                        "#fb9f3a"
                                                    ],
                                                    [
                                                        0.8888888888888888,
                                                        "#fdca26"
                                                    ],
                                                    [
                                                        1,
                                                        "#f0f921"
                                                    ]
                                                ],
                                                "type": "histogram2d"
                                            }
                                        ],
                                        "histogram2dcontour": [
                                            {
                                                "colorbar": {
                                                    "outlinewidth": 0,
                                                    "ticks": ""
                                                },
                                                "colorscale": [
                                                    [
                                                        0,
                                                        "#0d0887"
                                                    ],
                                                    [
                                                        0.1111111111111111,
                                                        "#46039f"
                                                    ],
                                                    [
                                                        0.2222222222222222,
                                                        "#7201a8"
                                                    ],
                                                    [
                                                        0.3333333333333333,
                                                        "#9c179e"
                                                    ],
                                                    [
                                                        0.4444444444444444,
                                                        "#bd3786"
                                                    ],
                                                    [
                                                        0.5555555555555556,
                                                        "#d8576b"
                                                    ],
                                                    [
                                                        0.6666666666666666,
                                                        "#ed7953"
                                                    ],
                                                    [
                                                        0.7777777777777778,
                                                        "#fb9f3a"
                                                    ],
                                                    [
                                                        0.8888888888888888,
                                                        "#fdca26"
                                                    ],
                                                    [
                                                        1,
                                                        "#f0f921"
                                                    ]
                                                ],
                                                "type": "histogram2dcontour"
                                            }
                                        ],
                                        "mesh3d": [
                                            {
                                                "colorbar": {
                                                    "outlinewidth": 0,
                                                    "ticks": ""
                                                },
                                                "type": "mesh3d"
                                            }
                                        ],
                                        "parcoords": [
                                            {
                                                "line": {
                                                    "colorbar": {
                                                        "outlinewidth": 0,
                                                        "ticks": ""
                                                    }
                                                },
                                                "type": "parcoords"
                                            }
                                        ],
                                        "pie": [
                                            {
                                                "automargin": true,
                                                "type": "pie"
                                            }
                                        ],
                                        "scatter": [
                                            {
                                                "marker": {
                                                    "colorbar": {
                                                        "outlinewidth": 0,
                                                        "ticks": ""
                                                    }
                                                },
                                                "type": "scatter"
                                            }
                                        ],
                                        "scatter3d": [
                                            {
                                                "line": {
                                                    "colorbar": {
                                                        "outlinewidth": 0,
                                                        "ticks": ""
                                                    }
                                                },
                                                "marker": {
                                                    "colorbar": {
                                                        "outlinewidth": 0,
                                                        "ticks": ""
                                                    }
                                                },
                                                "type": "scatter3d"
                                            }
                                        ],
                                        "scattercarpet": [
                                            {
                                                "marker": {
                                                    "colorbar": {
                                                        "outlinewidth": 0,
                                                        "ticks": ""
                                                    }
                                                },
                                                "type": "scattercarpet"
                                            }
                                        ],
                                        "scattergeo": [
                                            {
                                                "marker": {
                                                    "colorbar": {
                                                        "outlinewidth": 0,
                                                        "ticks": ""
                                                    }
                                                },
                                                "type": "scattergeo"
                                            }
                                        ],
                                        "scattergl": [
                                            {
                                                "marker": {
                                                    "colorbar": {
                                                        "outlinewidth": 0,
                                                        "ticks": ""
                                                    }
                                                },
                                                "type": "scattergl"
                                            }
                                        ],
                                        "scattermapbox": [
                                            {
                                                "marker": {
                                                    "colorbar": {
                                                        "outlinewidth": 0,
                                                        "ticks": ""
                                                    }
                                                },
                                                "type": "scattermapbox"
                                            }
                                        ],
                                        "scatterpolar": [
                                            {
                                                "marker": {
                                                    "colorbar": {
                                                        "outlinewidth": 0,
                                                        "ticks": ""
                                                    }
                                                },
                                                "type": "scatterpolar"
                                            }
                                        ],
                                        "scatterpolargl": [
                                            {
                                                "marker": {
                                                    "colorbar": {
                                                        "outlinewidth": 0,
                                                        "ticks": ""
                                                    }
                                                },
                                                "type": "scatterpolargl"
                                            }
                                        ],
                                        "scatterternary": [
                                            {
                                                "marker": {
                                                    "colorbar": {
                                                        "outlinewidth": 0,
                                                        "ticks": ""
                                                    }
                                                },
                                                "type": "scatterternary"
                                            }
                                        ],
                                        "surface": [
                                            {
                                                "colorbar": {
                                                    "outlinewidth": 0,
                                                    "ticks": ""
                                                },
                                                "colorscale": [
                                                    [
                                                        0,
                                                        "#0d0887"
                                                    ],
                                                    [
                                                        0.1111111111111111,
                                                        "#46039f"
                                                    ],
                                                    [
                                                        0.2222222222222222,
                                                        "#7201a8"
                                                    ],
                                                    [
                                                        0.3333333333333333,
                                                        "#9c179e"
                                                    ],
                                                    [
                                                        0.4444444444444444,
                                                        "#bd3786"
                                                    ],
                                                    [
                                                        0.5555555555555556,
                                                        "#d8576b"
                                                    ],
                                                    [
                                                        0.6666666666666666,
                                                        "#ed7953"
                                                    ],
                                                    [
                                                        0.7777777777777778,
                                                        "#fb9f3a"
                                                    ],
                                                    [
                                                        0.8888888888888888,
                                                        "#fdca26"
                                                    ],
                                                    [
                                                        1,
                                                        "#f0f921"
                                                    ]
                                                ],
                                                "type": "surface"
                                            }
                                        ],
                                        "table": [
                                            {
                                                "cells": {
                                                    "fill": {
                                                        "color": "#EBF0F8"
                                                    },
                                                    "line": {
                                                        "color": "white"
                                                    }
                                                },
                                                "header": {
                                                    "fill": {
                                                        "color": "#C8D4E3"
                                                    },
                                                    "line": {
                                                        "color": "white"
                                                    }
                                                },
                                                "type": "table"
                                            }
                                        ]
                                    },
                                    "layout": {
                                        "annotationdefaults": {
                                            "arrowcolor": "#2a3f5f",
                                            "arrowhead": 0,
                                            "arrowwidth": 1
                                        },
                                        "autotypenumbers": "strict",
                                        "coloraxis": {
                                            "colorbar": {
                                                "outlinewidth": 0,
                                                "ticks": ""
                                            }
                                        },
                                        "colorscale": {
                                            "diverging": [
                                                [
                                                    0,
                                                    "#8e0152"
                                                ],
                                                [
                                                    0.1,
                                                    "#c51b7d"
                                                ],
                                                [
                                                    0.2,
                                                    "#de77ae"
                                                ],
                                                [
                                                    0.3,
                                                    "#f1b6da"
                                                ],
                                                [
                                                    0.4,
                                                    "#fde0ef"
                                                ],
                                                [
                                                    0.5,
                                                    "#f7f7f7"
                                                ],
                                                [
                                                    0.6,
                                                    "#e6f5d0"
                                                ],
                                                [
                                                    0.7,
                                                    "#b8e186"
                                                ],
                                                [
                                                    0.8,
                                                    "#7fbc41"
                                                ],
                                                [
                                                    0.9,
                                                    "#4d9221"
                                                ],
                                                [
                                                    1,
                                                    "#276419"
                                                ]
                                            ],
                                            "sequential": [
                                                [
                                                    0,
                                                    "#0d0887"
                                                ],
                                                [
                                                    0.1111111111111111,
                                                    "#46039f"
                                                ],
                                                [
                                                    0.2222222222222222,
                                                    "#7201a8"
                                                ],
                                                [
                                                    0.3333333333333333,
                                                    "#9c179e"
                                                ],
                                                [
                                                    0.4444444444444444,
                                                    "#bd3786"
                                                ],
                                                [
                                                    0.5555555555555556,
                                                    "#d8576b"
                                                ],
                                                [
                                                    0.6666666666666666,
                                                    "#ed7953"
                                                ],
                                                [
                                                    0.7777777777777778,
                                                    "#fb9f3a"
                                                ],
                                                [
                                                    0.8888888888888888,
                                                    "#fdca26"
                                                ],
                                                [
                                                    1,
                                                    "#f0f921"
                                                ]
                                            ],
                                            "sequentialminus": [
                                                [
                                                    0,
                                                    "#0d0887"
                                                ],
                                                [
                                                    0.1111111111111111,
                                                    "#46039f"
                                                ],
                                                [
                                                    0.2222222222222222,
                                                    "#7201a8"
                                                ],
                                                [
                                                    0.3333333333333333,
                                                    "#9c179e"
                                                ],
                                                [
                                                    0.4444444444444444,
                                                    "#bd3786"
                                                ],
                                                [
                                                    0.5555555555555556,
                                                    "#d8576b"
                                                ],
                                                [
                                                    0.6666666666666666,
                                                    "#ed7953"
                                                ],
                                                [
                                                    0.7777777777777778,
                                                    "#fb9f3a"
                                                ],
                                                [
                                                    0.8888888888888888,
                                                    "#fdca26"
                                                ],
                                                [
                                                    1,
                                                    "#f0f921"
                                                ]
                                            ]
                                        },
                                        "colorway": [
                                            "#636efa",
                                            "#EF553B",
                                            "#00cc96",
                                            "#ab63fa",
                                            "#FFA15A",
                                            "#19d3f3",
                                            "#FF6692",
                                            "#B6E880",
                                            "#FF97FF",
                                            "#FECB52"
                                        ],
                                        "font": {
                                            "color": "#2a3f5f"
                                        },
                                        "geo": {
                                            "bgcolor": "white",
                                            "lakecolor": "white",
                                            "landcolor": "#E5ECF6",
                                            "showlakes": true,
                                            "showland": true,
                                            "subunitcolor": "white"
                                        },
                                        "hoverlabel": {
                                            "align": "left"
                                        },
                                        "hovermode": "closest",
                                        "mapbox": {
                                            "style": "light"
                                        },
                                        "paper_bgcolor": "white",
                                        "plot_bgcolor": "#E5ECF6",
                                        "polar": {
                                            "angularaxis": {
                                                "gridcolor": "white",
                                                "linecolor": "white",
                                                "ticks": ""
                                            },
                                            "bgcolor": "#E5ECF6",
                                            "radialaxis": {
                                                "gridcolor": "white",
                                                "linecolor": "white",
                                                "ticks": ""
                                            }
                                        },
                                        "scene": {
                                            "xaxis": {
                                                "backgroundcolor": "#E5ECF6",
                                                "gridcolor": "white",
                                                "gridwidth": 2,
                                                "linecolor": "white",
                                                "showbackground": true,
                                                "ticks": "",
                                                "zerolinecolor": "white"
                                            },
                                            "yaxis": {
                                                "backgroundcolor": "#E5ECF6",
                                                "gridcolor": "white",
                                                "gridwidth": 2,
                                                "linecolor": "white",
                                                "showbackground": true,
                                                "ticks": "",
                                                "zerolinecolor": "white"
                                            },
                                            "zaxis": {
                                                "backgroundcolor": "#E5ECF6",
                                                "gridcolor": "white",
                                                "gridwidth": 2,
                                                "linecolor": "white",
                                                "showbackground": true,
                                                "ticks": "",
                                                "zerolinecolor": "white"
                                            }
                                        },
                                        "shapedefaults": {
                                            "line": {
                                                "color": "#2a3f5f"
                                            }
                                        },
                                        "ternary": {
                                            "aaxis": {
                                                "gridcolor": "white",
                                                "linecolor": "white",
                                                "ticks": ""
                                            },
                                            "baxis": {
                                                "gridcolor": "white",
                                                "linecolor": "white",
                                                "ticks": ""
                                            },
                                            "bgcolor": "#E5ECF6",
                                            "caxis": {
                                                "gridcolor": "white",
                                                "linecolor": "white",
                                                "ticks": ""
                                            }
                                        },
                                        "title": {
                                            "x": 0.05
                                        },
                                        "xaxis": {
                                            "automargin": true,
                                            "gridcolor": "white",
                                            "linecolor": "white",
                                            "ticks": "",
                                            "title": {
                                                "standoff": 15
                                            },
                                            "zerolinecolor": "white",
                                            "zerolinewidth": 2
                                        },
                                        "yaxis": {
                                            "automargin": true,
                                            "gridcolor": "white",
                                            "linecolor": "white",
                                            "ticks": "",
                                            "title": {
                                                "standoff": 15
                                            },
                                            "zerolinecolor": "white",
                                            "zerolinewidth": 2
                                        }
                                    }
                                },
                                "width": 1200
                            }
                        }
                    },
                    "metadata": {}
                }
            ],
            "metadata": {}
        },
        {
            "cell_type": "code",
            "execution_count": 49,
            "source": [
                "sectors=[]\r\n",
                "def sort_sectors(arr):\r\n",
                "    marcoms= [\"Marketing\", \"Communications\", \"Social Media\", \"Multimedia\", \"Advertising\", \"Video\", \"Brand\", \"Content\", \"Engagement\"]\r\n",
                "    corp = [\"Consultant\", \"Analyst\", \"Legal\", \"Consulting\", \"Supply Chain\", \"Business\", \"Banking\", \"Sales\", \"Relations Manager\", \"Account\", \"Associate\", \"Strategist\", \"Product\"]\r\n",
                "    tech =[\"Technology\", \"Software\", \"Engineer\", \"Computer\", \"Data\"]\r\n",
                "    art =[\"Gallery\", \"Art\", \"Curatorial\", \"Exhibition\", \"Creative\", \"Conservation\", \"Tailor\", \"Residency\", \"Style\"]\r\n",
                "    edu =[\"Teacher\", \"Tutor\", \"Profesor\"]\r\n",
                "    lead = [\"Chairperson\", \"director\", \"Director\", \"President\", \"Co-President\", \"Vice-President\", \"Head\", \"Partner\"]\r\n",
                "    \r\n",
                "    for i in arr:\r\n",
                "        if any(word in i for word in marcoms):\r\n",
                "            m = \"marcoms\"\r\n",
                "            sectors.append(m)\r\n",
                "        elif \"Design\" in i:\r\n",
                "            d = \"design\"\r\n",
                "            sectors.append(d)\r\n",
                "        elif any(word in i for word in corp):\r\n",
                "            c = \"corperate\"\r\n",
                "            sectors.append(c)\r\n",
                "        elif any(word in i for word in tech):\r\n",
                "            t = \"technology\"\r\n",
                "            sectors.append(t)\r\n",
                "        elif any(word in i for word in art):\r\n",
                "            a = \"art\"\r\n",
                "            sectors.append(a)\r\n",
                "        elif \"Research\" in i:\r\n",
                "            r = \"research\"\r\n",
                "            sectors.append(r)\r\n",
                "        elif \"Founder\" in i:\r\n",
                "            sectors.append(\"founder\")\r\n",
                "        elif any(word in i for word in edu):\r\n",
                "            sectors.append(\"education\")\r\n",
                "        elif any(word in i for word in lead):\r\n",
                "            sectors.append(\"leadership\")\r\n",
                "        else:\r\n",
                "            u= \"misc\"\r\n",
                "            sectors.append(u)\r\n",
                "    return sectors\r\n",
                "\r\n",
                "positions=  pd.read_csv('Connections.csv', skiprows=[0,1,2,48, 68, 84]).get(\"Position\")\r\n",
                "\r\n",
                "sort_sectors(positions)\r\n"
            ],
            "outputs": [
                {
                    "output_type": "execute_result",
                    "data": {
                        "text/plain": [
                            "['design',\n",
                            " 'design',\n",
                            " 'corperate',\n",
                            " 'corperate',\n",
                            " 'marcoms',\n",
                            " 'misc',\n",
                            " 'education',\n",
                            " 'art',\n",
                            " 'technology',\n",
                            " 'education',\n",
                            " 'corperate',\n",
                            " 'design',\n",
                            " 'art',\n",
                            " 'technology',\n",
                            " 'misc',\n",
                            " 'design',\n",
                            " 'art',\n",
                            " 'misc',\n",
                            " 'misc',\n",
                            " 'misc',\n",
                            " 'corperate',\n",
                            " 'leadership',\n",
                            " 'corperate',\n",
                            " 'misc',\n",
                            " 'marcoms',\n",
                            " 'technology',\n",
                            " 'art',\n",
                            " 'corperate',\n",
                            " 'leadership',\n",
                            " 'art',\n",
                            " 'misc',\n",
                            " 'founder',\n",
                            " 'corperate',\n",
                            " 'art',\n",
                            " 'corperate',\n",
                            " 'corperate',\n",
                            " 'marcoms',\n",
                            " 'corperate',\n",
                            " 'misc',\n",
                            " 'leadership',\n",
                            " 'art',\n",
                            " 'misc',\n",
                            " 'research',\n",
                            " 'misc',\n",
                            " 'design',\n",
                            " 'misc',\n",
                            " 'misc',\n",
                            " 'research',\n",
                            " 'art',\n",
                            " 'corperate',\n",
                            " 'technology',\n",
                            " 'marcoms',\n",
                            " 'marcoms',\n",
                            " 'corperate',\n",
                            " 'research',\n",
                            " 'art',\n",
                            " 'misc',\n",
                            " 'education',\n",
                            " 'art',\n",
                            " 'misc',\n",
                            " 'misc',\n",
                            " 'corperate',\n",
                            " 'design',\n",
                            " 'corperate',\n",
                            " 'misc',\n",
                            " 'corperate',\n",
                            " 'founder',\n",
                            " 'art',\n",
                            " 'misc',\n",
                            " 'corperate',\n",
                            " 'corperate',\n",
                            " 'corperate',\n",
                            " 'art',\n",
                            " 'leadership',\n",
                            " 'marcoms',\n",
                            " 'founder',\n",
                            " 'art',\n",
                            " 'corperate',\n",
                            " 'misc',\n",
                            " 'corperate',\n",
                            " 'misc',\n",
                            " 'misc',\n",
                            " 'marcoms',\n",
                            " 'misc',\n",
                            " 'corperate',\n",
                            " 'misc',\n",
                            " 'misc',\n",
                            " 'founder',\n",
                            " 'corperate',\n",
                            " 'technology',\n",
                            " 'research',\n",
                            " 'marcoms',\n",
                            " 'corperate',\n",
                            " 'education',\n",
                            " 'corperate',\n",
                            " 'leadership',\n",
                            " 'corperate',\n",
                            " 'misc',\n",
                            " 'corperate',\n",
                            " 'marcoms',\n",
                            " 'marcoms',\n",
                            " 'corperate',\n",
                            " 'leadership',\n",
                            " 'marcoms',\n",
                            " 'corperate',\n",
                            " 'marcoms',\n",
                            " 'leadership',\n",
                            " 'technology',\n",
                            " 'technology',\n",
                            " 'leadership',\n",
                            " 'corperate',\n",
                            " 'art',\n",
                            " 'art',\n",
                            " 'misc',\n",
                            " 'misc',\n",
                            " 'marcoms',\n",
                            " 'marcoms',\n",
                            " 'misc',\n",
                            " 'art',\n",
                            " 'art',\n",
                            " 'art',\n",
                            " 'corperate',\n",
                            " 'art',\n",
                            " 'design',\n",
                            " 'misc',\n",
                            " 'marcoms',\n",
                            " 'leadership',\n",
                            " 'founder',\n",
                            " 'art',\n",
                            " 'leadership',\n",
                            " 'misc',\n",
                            " 'leadership',\n",
                            " 'corperate',\n",
                            " 'leadership',\n",
                            " 'misc',\n",
                            " 'art',\n",
                            " 'corperate',\n",
                            " 'leadership']"
                        ]
                    },
                    "metadata": {},
                    "execution_count": 49
                }
            ],
            "metadata": {}
        },
        {
            "cell_type": "code",
            "execution_count": 50,
            "source": [
                "sec_df = pd.DataFrame(\r\n",
                "    dict(positions=positions, sectors=sectors)\r\n",
                ")\r\n",
                "print(sec_df)"
            ],
            "outputs": [
                {
                    "output_type": "stream",
                    "name": "stdout",
                    "text": [
                        "                           positions     sectors\n",
                        "0            Senior Product Designer      design\n",
                        "1                    Layout Designer      design\n",
                        "2        Management Trainee - Sales    corperate\n",
                        "3           Legal Research Assistant   corperate\n",
                        "4    E-commerce Marketing Specialist     marcoms\n",
                        "..                               ...         ...\n",
                        "133                         Director  leadership\n",
                        "134                   Student Intern        misc\n",
                        "135             Curatorial Placement         art\n",
                        "136               Graduate Associate   corperate\n",
                        "137                          Partner  leadership\n",
                        "\n",
                        "[138 rows x 2 columns]\n"
                    ]
                }
            ],
            "metadata": {}
        },
        {
            "cell_type": "code",
            "execution_count": 51,
            "source": [
                "px.treemap(sec_df, path=['sectors', 'positions'], width=1200, height=1200)"
            ],
            "outputs": [
                {
                    "output_type": "display_data",
                    "data": {
                        "application/vnd.plotly.v1+json": {
                            "config": {
                                "plotlyServerURL": "https://plot.ly"
                            },
                            "data": [
                                {
                                    "branchvalues": "total",
                                    "domain": {
                                        "x": [
                                            0,
                                            1
                                        ],
                                        "y": [
                                            0,
                                            1
                                        ]
                                    },
                                    "hovertemplate": "labels=%{label}<br>count=%{value}<br>parent=%{parent}<br>id=%{id}<extra></extra>",
                                    "ids": [
                                        "corperate/Account Manager",
                                        "marcoms/Advertising Sales Director",
                                        "misc/Alumni Relations",
                                        "corperate/Alumni Relations Manager",
                                        "corperate/Analyst Intern",
                                        "misc/Architect",
                                        "art/Art Sourcing Specialist",
                                        "marcoms/Assistant Content Editor",
                                        "misc/Assistant Operations Manager",
                                        "corperate/Associate",
                                        "corperate/Associate Medical Writer",
                                        "corperate/Audit Associate",
                                        "misc/Bar Staff",
                                        "misc/Bookseller",
                                        "marcoms/Brand Management Intern",
                                        "corperate/Business Analyst",
                                        "corperate/Business Development",
                                        "corperate/Business Development Executive",
                                        "corperate/Business and Finance Associate",
                                        "founder/CEO & Co-Founder",
                                        "leadership/Chairperson",
                                        "technology/Chief Technology Officer (CTO), Gallerist at Galerie Phototechne - social media curating ",
                                        "founder/Co-Founder",
                                        "founder/Co-Founder & COO",
                                        "leadership/Co-President",
                                        "misc/Columnist",
                                        "art/Conservation Studio Assistant",
                                        "misc/Constituency Admin Officer to Vicky Foxcroft MP",
                                        "corperate/Consultant",
                                        "research/Crab Lab Research Assistant",
                                        "art/Creative Director",
                                        "misc/Crimson Key Tour Guide",
                                        "marcoms/Cultural Projects and Marketing Manager",
                                        "art/Curatorial Assistant",
                                        "art/Curatorial Intern",
                                        "art/Curatorial Placement",
                                        "art/Curatorial Trainee",
                                        "misc/Customer Service Assistant",
                                        "technology/Data Capturer",
                                        "leadership/Deputy Director",
                                        "art/Digital Art Director",
                                        "misc/Digital Sub-Editor",
                                        "leadership/Director",
                                        "marcoms/E-commerce Marketing Specialist",
                                        "education/English Tutor",
                                        "art/Exhibition Assistant",
                                        "art/Exhibition Coordinator",
                                        "founder/Founder",
                                        "design/Freelance Graphic Designer",
                                        "marcoms/Freelance Video Editor",
                                        "misc/Freelance Writer at The Courtauldian Student Newspaper",
                                        "art/Gallery Assistant",
                                        "art/Gallery Coordinator",
                                        "art/Gallery Retail Assistant ",
                                        "corperate/Graduate Associate",
                                        "design/Graphic Designer",
                                        "leadership/Head of Flavors Operations NOAM",
                                        "leadership/Head of History",
                                        "leadership/Head of Public Programming and Editor",
                                        "education/IB Japanese Language & Literature and TOK Teacher/ CAS Coordinator",
                                        "leadership/Independent non-executive director",
                                        "technology/Information Technology Engineer",
                                        "misc/Intern",
                                        "misc/Intern Assistant",
                                        "leadership/Internal Vice President",
                                        "marcoms/International Engagement Intern",
                                        "misc/Internship",
                                        "corperate/Investment Banking Summer Analyst",
                                        "corperate/Investor Relations Manager",
                                        "corperate/Key Account Manager",
                                        "misc/Language Assistant",
                                        "design/Layout Designer",
                                        "technology/Lead Prototyping Engineer",
                                        "corperate/Legal Cheek Summer Vacation Scheme",
                                        "corperate/Legal Research Assistant",
                                        "art/MLitt Technical Art History Class Representative",
                                        "corperate/Management Trainee - Sales ",
                                        "marcoms/Manager, Corporate Communications ",
                                        "design/Managing Editor and Web Designer",
                                        "marcoms/Marketing ",
                                        "marcoms/Marketing Executive",
                                        "marcoms/Multimedia Officer",
                                        "corperate/Official Institutions Strategic Client Group Summer Analyst",
                                        "leadership/Partner",
                                        "misc/Peer Career Advisor",
                                        "misc/Personal Assistant to the Chief Operating Officer",
                                        "misc/Placement Student/Laboratory Assistant",
                                        "corperate/Private Banking Intern at Julius Baer",
                                        "education/Private Tutor",
                                        "corperate/Product Operations Executive",
                                        "education/Profesora particular",
                                        "misc/Program Coordinator",
                                        "misc/Programme Administrator",
                                        "misc/Project Officer: 14-18 NOW Legacy Programme",
                                        "research/Research Assistant",
                                        "research/Research Assistant Intern",
                                        "art/Residency Programme Intern",
                                        "corperate/Risk Management Analyst",
                                        "corperate/Sales Assistant",
                                        "corperate/Sales Team Coordinator and Sales Administrator",
                                        "misc/Senior Philanthropic Advisor ",
                                        "design/Senior Product Designer",
                                        "misc/Site Coordinator",
                                        "marcoms/Social Media Coordinator",
                                        "marcoms/Social Media Marketing Manager",
                                        "marcoms/Social Media and Marketing Strategist",
                                        "technology/Software Engineer",
                                        "technology/Software Engineer Intern",
                                        "corperate/Strategist",
                                        "misc/Student Intern",
                                        "art/Style Advisor",
                                        "corperate/Summer Analyst",
                                        "corperate/Supply Chain Assistant",
                                        "art/Tailor",
                                        "technology/Teaching Assistant - Computer Architecture and Organization",
                                        "art/Teaching Assistant, Art History",
                                        "misc/Tour Guide - Medieval Galleries",
                                        "misc/Tour Guide and Visitor Experience Volunteer",
                                        "misc/Transition Mentor",
                                        "design/UX Designer, XR-Cloud Services",
                                        "corperate/University of Melbourne - Student Management Consulting",
                                        "marcoms/Vice President of Communications",
                                        "leadership/Vice-President",
                                        "art",
                                        "corperate",
                                        "design",
                                        "education",
                                        "founder",
                                        "leadership",
                                        "marcoms",
                                        "misc",
                                        "research",
                                        "technology"
                                    ],
                                    "labels": [
                                        "Account Manager",
                                        "Advertising Sales Director",
                                        "Alumni Relations",
                                        "Alumni Relations Manager",
                                        "Analyst Intern",
                                        "Architect",
                                        "Art Sourcing Specialist",
                                        "Assistant Content Editor",
                                        "Assistant Operations Manager",
                                        "Associate",
                                        "Associate Medical Writer",
                                        "Audit Associate",
                                        "Bar Staff",
                                        "Bookseller",
                                        "Brand Management Intern",
                                        "Business Analyst",
                                        "Business Development",
                                        "Business Development Executive",
                                        "Business and Finance Associate",
                                        "CEO & Co-Founder",
                                        "Chairperson",
                                        "Chief Technology Officer (CTO), Gallerist at Galerie Phototechne - social media curating ",
                                        "Co-Founder",
                                        "Co-Founder & COO",
                                        "Co-President",
                                        "Columnist",
                                        "Conservation Studio Assistant",
                                        "Constituency Admin Officer to Vicky Foxcroft MP",
                                        "Consultant",
                                        "Crab Lab Research Assistant",
                                        "Creative Director",
                                        "Crimson Key Tour Guide",
                                        "Cultural Projects and Marketing Manager",
                                        "Curatorial Assistant",
                                        "Curatorial Intern",
                                        "Curatorial Placement",
                                        "Curatorial Trainee",
                                        "Customer Service Assistant",
                                        "Data Capturer",
                                        "Deputy Director",
                                        "Digital Art Director",
                                        "Digital Sub-Editor",
                                        "Director",
                                        "E-commerce Marketing Specialist",
                                        "English Tutor",
                                        "Exhibition Assistant",
                                        "Exhibition Coordinator",
                                        "Founder",
                                        "Freelance Graphic Designer",
                                        "Freelance Video Editor",
                                        "Freelance Writer at The Courtauldian Student Newspaper",
                                        "Gallery Assistant",
                                        "Gallery Coordinator",
                                        "Gallery Retail Assistant ",
                                        "Graduate Associate",
                                        "Graphic Designer",
                                        "Head of Flavors Operations NOAM",
                                        "Head of History",
                                        "Head of Public Programming and Editor",
                                        "IB Japanese Language & Literature and TOK Teacher/ CAS Coordinator",
                                        "Independent non-executive director",
                                        "Information Technology Engineer",
                                        "Intern",
                                        "Intern Assistant",
                                        "Internal Vice President",
                                        "International Engagement Intern",
                                        "Internship",
                                        "Investment Banking Summer Analyst",
                                        "Investor Relations Manager",
                                        "Key Account Manager",
                                        "Language Assistant",
                                        "Layout Designer",
                                        "Lead Prototyping Engineer",
                                        "Legal Cheek Summer Vacation Scheme",
                                        "Legal Research Assistant",
                                        "MLitt Technical Art History Class Representative",
                                        "Management Trainee - Sales ",
                                        "Manager, Corporate Communications ",
                                        "Managing Editor and Web Designer",
                                        "Marketing ",
                                        "Marketing Executive",
                                        "Multimedia Officer",
                                        "Official Institutions Strategic Client Group Summer Analyst",
                                        "Partner",
                                        "Peer Career Advisor",
                                        "Personal Assistant to the Chief Operating Officer",
                                        "Placement Student/Laboratory Assistant",
                                        "Private Banking Intern at Julius Baer",
                                        "Private Tutor",
                                        "Product Operations Executive",
                                        "Profesora particular",
                                        "Program Coordinator",
                                        "Programme Administrator",
                                        "Project Officer: 14-18 NOW Legacy Programme",
                                        "Research Assistant",
                                        "Research Assistant Intern",
                                        "Residency Programme Intern",
                                        "Risk Management Analyst",
                                        "Sales Assistant",
                                        "Sales Team Coordinator and Sales Administrator",
                                        "Senior Philanthropic Advisor ",
                                        "Senior Product Designer",
                                        "Site Coordinator",
                                        "Social Media Coordinator",
                                        "Social Media Marketing Manager",
                                        "Social Media and Marketing Strategist",
                                        "Software Engineer",
                                        "Software Engineer Intern",
                                        "Strategist",
                                        "Student Intern",
                                        "Style Advisor",
                                        "Summer Analyst",
                                        "Supply Chain Assistant",
                                        "Tailor",
                                        "Teaching Assistant - Computer Architecture and Organization",
                                        "Teaching Assistant, Art History",
                                        "Tour Guide - Medieval Galleries",
                                        "Tour Guide and Visitor Experience Volunteer",
                                        "Transition Mentor",
                                        "UX Designer, XR-Cloud Services",
                                        "University of Melbourne - Student Management Consulting",
                                        "Vice President of Communications",
                                        "Vice-President",
                                        "art",
                                        "corperate",
                                        "design",
                                        "education",
                                        "founder",
                                        "leadership",
                                        "marcoms",
                                        "misc",
                                        "research",
                                        "technology"
                                    ],
                                    "name": "",
                                    "parents": [
                                        "corperate",
                                        "marcoms",
                                        "misc",
                                        "corperate",
                                        "corperate",
                                        "misc",
                                        "art",
                                        "marcoms",
                                        "misc",
                                        "corperate",
                                        "corperate",
                                        "corperate",
                                        "misc",
                                        "misc",
                                        "marcoms",
                                        "corperate",
                                        "corperate",
                                        "corperate",
                                        "corperate",
                                        "founder",
                                        "leadership",
                                        "technology",
                                        "founder",
                                        "founder",
                                        "leadership",
                                        "misc",
                                        "art",
                                        "misc",
                                        "corperate",
                                        "research",
                                        "art",
                                        "misc",
                                        "marcoms",
                                        "art",
                                        "art",
                                        "art",
                                        "art",
                                        "misc",
                                        "technology",
                                        "leadership",
                                        "art",
                                        "misc",
                                        "leadership",
                                        "marcoms",
                                        "education",
                                        "art",
                                        "art",
                                        "founder",
                                        "design",
                                        "marcoms",
                                        "misc",
                                        "art",
                                        "art",
                                        "art",
                                        "corperate",
                                        "design",
                                        "leadership",
                                        "leadership",
                                        "leadership",
                                        "education",
                                        "leadership",
                                        "technology",
                                        "misc",
                                        "misc",
                                        "leadership",
                                        "marcoms",
                                        "misc",
                                        "corperate",
                                        "corperate",
                                        "corperate",
                                        "misc",
                                        "design",
                                        "technology",
                                        "corperate",
                                        "corperate",
                                        "art",
                                        "corperate",
                                        "marcoms",
                                        "design",
                                        "marcoms",
                                        "marcoms",
                                        "marcoms",
                                        "corperate",
                                        "leadership",
                                        "misc",
                                        "misc",
                                        "misc",
                                        "corperate",
                                        "education",
                                        "corperate",
                                        "education",
                                        "misc",
                                        "misc",
                                        "misc",
                                        "research",
                                        "research",
                                        "art",
                                        "corperate",
                                        "corperate",
                                        "corperate",
                                        "misc",
                                        "design",
                                        "misc",
                                        "marcoms",
                                        "marcoms",
                                        "marcoms",
                                        "technology",
                                        "technology",
                                        "corperate",
                                        "misc",
                                        "art",
                                        "corperate",
                                        "corperate",
                                        "art",
                                        "technology",
                                        "art",
                                        "misc",
                                        "misc",
                                        "misc",
                                        "design",
                                        "corperate",
                                        "marcoms",
                                        "leadership",
                                        "",
                                        "",
                                        "",
                                        "",
                                        "",
                                        "",
                                        "",
                                        "",
                                        "",
                                        ""
                                    ],
                                    "type": "treemap",
                                    "values": [
                                        1,
                                        1,
                                        1,
                                        1,
                                        1,
                                        1,
                                        1,
                                        1,
                                        1,
                                        1,
                                        1,
                                        1,
                                        1,
                                        1,
                                        1,
                                        1,
                                        1,
                                        1,
                                        1,
                                        1,
                                        1,
                                        1,
                                        2,
                                        1,
                                        1,
                                        1,
                                        1,
                                        1,
                                        3,
                                        1,
                                        1,
                                        1,
                                        1,
                                        1,
                                        1,
                                        1,
                                        1,
                                        1,
                                        1,
                                        1,
                                        1,
                                        1,
                                        2,
                                        1,
                                        1,
                                        1,
                                        1,
                                        1,
                                        1,
                                        1,
                                        1,
                                        4,
                                        1,
                                        1,
                                        2,
                                        2,
                                        1,
                                        1,
                                        1,
                                        1,
                                        1,
                                        1,
                                        4,
                                        1,
                                        1,
                                        1,
                                        1,
                                        1,
                                        1,
                                        1,
                                        1,
                                        1,
                                        1,
                                        1,
                                        1,
                                        1,
                                        1,
                                        1,
                                        1,
                                        1,
                                        1,
                                        1,
                                        1,
                                        2,
                                        1,
                                        1,
                                        1,
                                        1,
                                        1,
                                        1,
                                        1,
                                        1,
                                        1,
                                        1,
                                        2,
                                        1,
                                        1,
                                        1,
                                        2,
                                        1,
                                        1,
                                        1,
                                        1,
                                        1,
                                        1,
                                        1,
                                        1,
                                        1,
                                        1,
                                        1,
                                        1,
                                        1,
                                        1,
                                        1,
                                        1,
                                        1,
                                        1,
                                        1,
                                        1,
                                        1,
                                        1,
                                        1,
                                        1,
                                        21,
                                        32,
                                        7,
                                        4,
                                        5,
                                        13,
                                        15,
                                        30,
                                        4,
                                        7
                                    ]
                                }
                            ],
                            "layout": {
                                "height": 1200,
                                "legend": {
                                    "tracegroupgap": 0
                                },
                                "margin": {
                                    "t": 60
                                },
                                "template": {
                                    "data": {
                                        "bar": [
                                            {
                                                "error_x": {
                                                    "color": "#2a3f5f"
                                                },
                                                "error_y": {
                                                    "color": "#2a3f5f"
                                                },
                                                "marker": {
                                                    "line": {
                                                        "color": "#E5ECF6",
                                                        "width": 0.5
                                                    },
                                                    "pattern": {
                                                        "fillmode": "overlay",
                                                        "size": 10,
                                                        "solidity": 0.2
                                                    }
                                                },
                                                "type": "bar"
                                            }
                                        ],
                                        "barpolar": [
                                            {
                                                "marker": {
                                                    "line": {
                                                        "color": "#E5ECF6",
                                                        "width": 0.5
                                                    },
                                                    "pattern": {
                                                        "fillmode": "overlay",
                                                        "size": 10,
                                                        "solidity": 0.2
                                                    }
                                                },
                                                "type": "barpolar"
                                            }
                                        ],
                                        "carpet": [
                                            {
                                                "aaxis": {
                                                    "endlinecolor": "#2a3f5f",
                                                    "gridcolor": "white",
                                                    "linecolor": "white",
                                                    "minorgridcolor": "white",
                                                    "startlinecolor": "#2a3f5f"
                                                },
                                                "baxis": {
                                                    "endlinecolor": "#2a3f5f",
                                                    "gridcolor": "white",
                                                    "linecolor": "white",
                                                    "minorgridcolor": "white",
                                                    "startlinecolor": "#2a3f5f"
                                                },
                                                "type": "carpet"
                                            }
                                        ],
                                        "choropleth": [
                                            {
                                                "colorbar": {
                                                    "outlinewidth": 0,
                                                    "ticks": ""
                                                },
                                                "type": "choropleth"
                                            }
                                        ],
                                        "contour": [
                                            {
                                                "colorbar": {
                                                    "outlinewidth": 0,
                                                    "ticks": ""
                                                },
                                                "colorscale": [
                                                    [
                                                        0,
                                                        "#0d0887"
                                                    ],
                                                    [
                                                        0.1111111111111111,
                                                        "#46039f"
                                                    ],
                                                    [
                                                        0.2222222222222222,
                                                        "#7201a8"
                                                    ],
                                                    [
                                                        0.3333333333333333,
                                                        "#9c179e"
                                                    ],
                                                    [
                                                        0.4444444444444444,
                                                        "#bd3786"
                                                    ],
                                                    [
                                                        0.5555555555555556,
                                                        "#d8576b"
                                                    ],
                                                    [
                                                        0.6666666666666666,
                                                        "#ed7953"
                                                    ],
                                                    [
                                                        0.7777777777777778,
                                                        "#fb9f3a"
                                                    ],
                                                    [
                                                        0.8888888888888888,
                                                        "#fdca26"
                                                    ],
                                                    [
                                                        1,
                                                        "#f0f921"
                                                    ]
                                                ],
                                                "type": "contour"
                                            }
                                        ],
                                        "contourcarpet": [
                                            {
                                                "colorbar": {
                                                    "outlinewidth": 0,
                                                    "ticks": ""
                                                },
                                                "type": "contourcarpet"
                                            }
                                        ],
                                        "heatmap": [
                                            {
                                                "colorbar": {
                                                    "outlinewidth": 0,
                                                    "ticks": ""
                                                },
                                                "colorscale": [
                                                    [
                                                        0,
                                                        "#0d0887"
                                                    ],
                                                    [
                                                        0.1111111111111111,
                                                        "#46039f"
                                                    ],
                                                    [
                                                        0.2222222222222222,
                                                        "#7201a8"
                                                    ],
                                                    [
                                                        0.3333333333333333,
                                                        "#9c179e"
                                                    ],
                                                    [
                                                        0.4444444444444444,
                                                        "#bd3786"
                                                    ],
                                                    [
                                                        0.5555555555555556,
                                                        "#d8576b"
                                                    ],
                                                    [
                                                        0.6666666666666666,
                                                        "#ed7953"
                                                    ],
                                                    [
                                                        0.7777777777777778,
                                                        "#fb9f3a"
                                                    ],
                                                    [
                                                        0.8888888888888888,
                                                        "#fdca26"
                                                    ],
                                                    [
                                                        1,
                                                        "#f0f921"
                                                    ]
                                                ],
                                                "type": "heatmap"
                                            }
                                        ],
                                        "heatmapgl": [
                                            {
                                                "colorbar": {
                                                    "outlinewidth": 0,
                                                    "ticks": ""
                                                },
                                                "colorscale": [
                                                    [
                                                        0,
                                                        "#0d0887"
                                                    ],
                                                    [
                                                        0.1111111111111111,
                                                        "#46039f"
                                                    ],
                                                    [
                                                        0.2222222222222222,
                                                        "#7201a8"
                                                    ],
                                                    [
                                                        0.3333333333333333,
                                                        "#9c179e"
                                                    ],
                                                    [
                                                        0.4444444444444444,
                                                        "#bd3786"
                                                    ],
                                                    [
                                                        0.5555555555555556,
                                                        "#d8576b"
                                                    ],
                                                    [
                                                        0.6666666666666666,
                                                        "#ed7953"
                                                    ],
                                                    [
                                                        0.7777777777777778,
                                                        "#fb9f3a"
                                                    ],
                                                    [
                                                        0.8888888888888888,
                                                        "#fdca26"
                                                    ],
                                                    [
                                                        1,
                                                        "#f0f921"
                                                    ]
                                                ],
                                                "type": "heatmapgl"
                                            }
                                        ],
                                        "histogram": [
                                            {
                                                "marker": {
                                                    "pattern": {
                                                        "fillmode": "overlay",
                                                        "size": 10,
                                                        "solidity": 0.2
                                                    }
                                                },
                                                "type": "histogram"
                                            }
                                        ],
                                        "histogram2d": [
                                            {
                                                "colorbar": {
                                                    "outlinewidth": 0,
                                                    "ticks": ""
                                                },
                                                "colorscale": [
                                                    [
                                                        0,
                                                        "#0d0887"
                                                    ],
                                                    [
                                                        0.1111111111111111,
                                                        "#46039f"
                                                    ],
                                                    [
                                                        0.2222222222222222,
                                                        "#7201a8"
                                                    ],
                                                    [
                                                        0.3333333333333333,
                                                        "#9c179e"
                                                    ],
                                                    [
                                                        0.4444444444444444,
                                                        "#bd3786"
                                                    ],
                                                    [
                                                        0.5555555555555556,
                                                        "#d8576b"
                                                    ],
                                                    [
                                                        0.6666666666666666,
                                                        "#ed7953"
                                                    ],
                                                    [
                                                        0.7777777777777778,
                                                        "#fb9f3a"
                                                    ],
                                                    [
                                                        0.8888888888888888,
                                                        "#fdca26"
                                                    ],
                                                    [
                                                        1,
                                                        "#f0f921"
                                                    ]
                                                ],
                                                "type": "histogram2d"
                                            }
                                        ],
                                        "histogram2dcontour": [
                                            {
                                                "colorbar": {
                                                    "outlinewidth": 0,
                                                    "ticks": ""
                                                },
                                                "colorscale": [
                                                    [
                                                        0,
                                                        "#0d0887"
                                                    ],
                                                    [
                                                        0.1111111111111111,
                                                        "#46039f"
                                                    ],
                                                    [
                                                        0.2222222222222222,
                                                        "#7201a8"
                                                    ],
                                                    [
                                                        0.3333333333333333,
                                                        "#9c179e"
                                                    ],
                                                    [
                                                        0.4444444444444444,
                                                        "#bd3786"
                                                    ],
                                                    [
                                                        0.5555555555555556,
                                                        "#d8576b"
                                                    ],
                                                    [
                                                        0.6666666666666666,
                                                        "#ed7953"
                                                    ],
                                                    [
                                                        0.7777777777777778,
                                                        "#fb9f3a"
                                                    ],
                                                    [
                                                        0.8888888888888888,
                                                        "#fdca26"
                                                    ],
                                                    [
                                                        1,
                                                        "#f0f921"
                                                    ]
                                                ],
                                                "type": "histogram2dcontour"
                                            }
                                        ],
                                        "mesh3d": [
                                            {
                                                "colorbar": {
                                                    "outlinewidth": 0,
                                                    "ticks": ""
                                                },
                                                "type": "mesh3d"
                                            }
                                        ],
                                        "parcoords": [
                                            {
                                                "line": {
                                                    "colorbar": {
                                                        "outlinewidth": 0,
                                                        "ticks": ""
                                                    }
                                                },
                                                "type": "parcoords"
                                            }
                                        ],
                                        "pie": [
                                            {
                                                "automargin": true,
                                                "type": "pie"
                                            }
                                        ],
                                        "scatter": [
                                            {
                                                "marker": {
                                                    "colorbar": {
                                                        "outlinewidth": 0,
                                                        "ticks": ""
                                                    }
                                                },
                                                "type": "scatter"
                                            }
                                        ],
                                        "scatter3d": [
                                            {
                                                "line": {
                                                    "colorbar": {
                                                        "outlinewidth": 0,
                                                        "ticks": ""
                                                    }
                                                },
                                                "marker": {
                                                    "colorbar": {
                                                        "outlinewidth": 0,
                                                        "ticks": ""
                                                    }
                                                },
                                                "type": "scatter3d"
                                            }
                                        ],
                                        "scattercarpet": [
                                            {
                                                "marker": {
                                                    "colorbar": {
                                                        "outlinewidth": 0,
                                                        "ticks": ""
                                                    }
                                                },
                                                "type": "scattercarpet"
                                            }
                                        ],
                                        "scattergeo": [
                                            {
                                                "marker": {
                                                    "colorbar": {
                                                        "outlinewidth": 0,
                                                        "ticks": ""
                                                    }
                                                },
                                                "type": "scattergeo"
                                            }
                                        ],
                                        "scattergl": [
                                            {
                                                "marker": {
                                                    "colorbar": {
                                                        "outlinewidth": 0,
                                                        "ticks": ""
                                                    }
                                                },
                                                "type": "scattergl"
                                            }
                                        ],
                                        "scattermapbox": [
                                            {
                                                "marker": {
                                                    "colorbar": {
                                                        "outlinewidth": 0,
                                                        "ticks": ""
                                                    }
                                                },
                                                "type": "scattermapbox"
                                            }
                                        ],
                                        "scatterpolar": [
                                            {
                                                "marker": {
                                                    "colorbar": {
                                                        "outlinewidth": 0,
                                                        "ticks": ""
                                                    }
                                                },
                                                "type": "scatterpolar"
                                            }
                                        ],
                                        "scatterpolargl": [
                                            {
                                                "marker": {
                                                    "colorbar": {
                                                        "outlinewidth": 0,
                                                        "ticks": ""
                                                    }
                                                },
                                                "type": "scatterpolargl"
                                            }
                                        ],
                                        "scatterternary": [
                                            {
                                                "marker": {
                                                    "colorbar": {
                                                        "outlinewidth": 0,
                                                        "ticks": ""
                                                    }
                                                },
                                                "type": "scatterternary"
                                            }
                                        ],
                                        "surface": [
                                            {
                                                "colorbar": {
                                                    "outlinewidth": 0,
                                                    "ticks": ""
                                                },
                                                "colorscale": [
                                                    [
                                                        0,
                                                        "#0d0887"
                                                    ],
                                                    [
                                                        0.1111111111111111,
                                                        "#46039f"
                                                    ],
                                                    [
                                                        0.2222222222222222,
                                                        "#7201a8"
                                                    ],
                                                    [
                                                        0.3333333333333333,
                                                        "#9c179e"
                                                    ],
                                                    [
                                                        0.4444444444444444,
                                                        "#bd3786"
                                                    ],
                                                    [
                                                        0.5555555555555556,
                                                        "#d8576b"
                                                    ],
                                                    [
                                                        0.6666666666666666,
                                                        "#ed7953"
                                                    ],
                                                    [
                                                        0.7777777777777778,
                                                        "#fb9f3a"
                                                    ],
                                                    [
                                                        0.8888888888888888,
                                                        "#fdca26"
                                                    ],
                                                    [
                                                        1,
                                                        "#f0f921"
                                                    ]
                                                ],
                                                "type": "surface"
                                            }
                                        ],
                                        "table": [
                                            {
                                                "cells": {
                                                    "fill": {
                                                        "color": "#EBF0F8"
                                                    },
                                                    "line": {
                                                        "color": "white"
                                                    }
                                                },
                                                "header": {
                                                    "fill": {
                                                        "color": "#C8D4E3"
                                                    },
                                                    "line": {
                                                        "color": "white"
                                                    }
                                                },
                                                "type": "table"
                                            }
                                        ]
                                    },
                                    "layout": {
                                        "annotationdefaults": {
                                            "arrowcolor": "#2a3f5f",
                                            "arrowhead": 0,
                                            "arrowwidth": 1
                                        },
                                        "autotypenumbers": "strict",
                                        "coloraxis": {
                                            "colorbar": {
                                                "outlinewidth": 0,
                                                "ticks": ""
                                            }
                                        },
                                        "colorscale": {
                                            "diverging": [
                                                [
                                                    0,
                                                    "#8e0152"
                                                ],
                                                [
                                                    0.1,
                                                    "#c51b7d"
                                                ],
                                                [
                                                    0.2,
                                                    "#de77ae"
                                                ],
                                                [
                                                    0.3,
                                                    "#f1b6da"
                                                ],
                                                [
                                                    0.4,
                                                    "#fde0ef"
                                                ],
                                                [
                                                    0.5,
                                                    "#f7f7f7"
                                                ],
                                                [
                                                    0.6,
                                                    "#e6f5d0"
                                                ],
                                                [
                                                    0.7,
                                                    "#b8e186"
                                                ],
                                                [
                                                    0.8,
                                                    "#7fbc41"
                                                ],
                                                [
                                                    0.9,
                                                    "#4d9221"
                                                ],
                                                [
                                                    1,
                                                    "#276419"
                                                ]
                                            ],
                                            "sequential": [
                                                [
                                                    0,
                                                    "#0d0887"
                                                ],
                                                [
                                                    0.1111111111111111,
                                                    "#46039f"
                                                ],
                                                [
                                                    0.2222222222222222,
                                                    "#7201a8"
                                                ],
                                                [
                                                    0.3333333333333333,
                                                    "#9c179e"
                                                ],
                                                [
                                                    0.4444444444444444,
                                                    "#bd3786"
                                                ],
                                                [
                                                    0.5555555555555556,
                                                    "#d8576b"
                                                ],
                                                [
                                                    0.6666666666666666,
                                                    "#ed7953"
                                                ],
                                                [
                                                    0.7777777777777778,
                                                    "#fb9f3a"
                                                ],
                                                [
                                                    0.8888888888888888,
                                                    "#fdca26"
                                                ],
                                                [
                                                    1,
                                                    "#f0f921"
                                                ]
                                            ],
                                            "sequentialminus": [
                                                [
                                                    0,
                                                    "#0d0887"
                                                ],
                                                [
                                                    0.1111111111111111,
                                                    "#46039f"
                                                ],
                                                [
                                                    0.2222222222222222,
                                                    "#7201a8"
                                                ],
                                                [
                                                    0.3333333333333333,
                                                    "#9c179e"
                                                ],
                                                [
                                                    0.4444444444444444,
                                                    "#bd3786"
                                                ],
                                                [
                                                    0.5555555555555556,
                                                    "#d8576b"
                                                ],
                                                [
                                                    0.6666666666666666,
                                                    "#ed7953"
                                                ],
                                                [
                                                    0.7777777777777778,
                                                    "#fb9f3a"
                                                ],
                                                [
                                                    0.8888888888888888,
                                                    "#fdca26"
                                                ],
                                                [
                                                    1,
                                                    "#f0f921"
                                                ]
                                            ]
                                        },
                                        "colorway": [
                                            "#636efa",
                                            "#EF553B",
                                            "#00cc96",
                                            "#ab63fa",
                                            "#FFA15A",
                                            "#19d3f3",
                                            "#FF6692",
                                            "#B6E880",
                                            "#FF97FF",
                                            "#FECB52"
                                        ],
                                        "font": {
                                            "color": "#2a3f5f"
                                        },
                                        "geo": {
                                            "bgcolor": "white",
                                            "lakecolor": "white",
                                            "landcolor": "#E5ECF6",
                                            "showlakes": true,
                                            "showland": true,
                                            "subunitcolor": "white"
                                        },
                                        "hoverlabel": {
                                            "align": "left"
                                        },
                                        "hovermode": "closest",
                                        "mapbox": {
                                            "style": "light"
                                        },
                                        "paper_bgcolor": "white",
                                        "plot_bgcolor": "#E5ECF6",
                                        "polar": {
                                            "angularaxis": {
                                                "gridcolor": "white",
                                                "linecolor": "white",
                                                "ticks": ""
                                            },
                                            "bgcolor": "#E5ECF6",
                                            "radialaxis": {
                                                "gridcolor": "white",
                                                "linecolor": "white",
                                                "ticks": ""
                                            }
                                        },
                                        "scene": {
                                            "xaxis": {
                                                "backgroundcolor": "#E5ECF6",
                                                "gridcolor": "white",
                                                "gridwidth": 2,
                                                "linecolor": "white",
                                                "showbackground": true,
                                                "ticks": "",
                                                "zerolinecolor": "white"
                                            },
                                            "yaxis": {
                                                "backgroundcolor": "#E5ECF6",
                                                "gridcolor": "white",
                                                "gridwidth": 2,
                                                "linecolor": "white",
                                                "showbackground": true,
                                                "ticks": "",
                                                "zerolinecolor": "white"
                                            },
                                            "zaxis": {
                                                "backgroundcolor": "#E5ECF6",
                                                "gridcolor": "white",
                                                "gridwidth": 2,
                                                "linecolor": "white",
                                                "showbackground": true,
                                                "ticks": "",
                                                "zerolinecolor": "white"
                                            }
                                        },
                                        "shapedefaults": {
                                            "line": {
                                                "color": "#2a3f5f"
                                            }
                                        },
                                        "ternary": {
                                            "aaxis": {
                                                "gridcolor": "white",
                                                "linecolor": "white",
                                                "ticks": ""
                                            },
                                            "baxis": {
                                                "gridcolor": "white",
                                                "linecolor": "white",
                                                "ticks": ""
                                            },
                                            "bgcolor": "#E5ECF6",
                                            "caxis": {
                                                "gridcolor": "white",
                                                "linecolor": "white",
                                                "ticks": ""
                                            }
                                        },
                                        "title": {
                                            "x": 0.05
                                        },
                                        "xaxis": {
                                            "automargin": true,
                                            "gridcolor": "white",
                                            "linecolor": "white",
                                            "ticks": "",
                                            "title": {
                                                "standoff": 15
                                            },
                                            "zerolinecolor": "white",
                                            "zerolinewidth": 2
                                        },
                                        "yaxis": {
                                            "automargin": true,
                                            "gridcolor": "white",
                                            "linecolor": "white",
                                            "ticks": "",
                                            "title": {
                                                "standoff": 15
                                            },
                                            "zerolinecolor": "white",
                                            "zerolinewidth": 2
                                        }
                                    }
                                },
                                "width": 1200
                            }
                        }
                    },
                    "metadata": {}
                }
            ],
            "metadata": {}
        }
    ],
    "metadata": {
        "orig_nbformat": 4,
        "language_info": {
            "name": "python",
            "version": "3.9.1",
            "mimetype": "text/x-python",
            "codemirror_mode": {
                "name": "ipython",
                "version": 3
            },
            "pygments_lexer": "ipython3",
            "nbconvert_exporter": "python",
            "file_extension": ".py"
        },
        "kernelspec": {
            "name": "python3",
            "display_name": "Python 3.9.1 64-bit"
        },
        "interpreter": {
            "hash": "63fd5069d213b44bf678585dea6b12cceca9941eaf7f819626cde1f2670de90d"
        }
    },
    "nbformat": 4,
    "nbformat_minor": 2
}